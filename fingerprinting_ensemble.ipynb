{
 "cells": [
  {
   "cell_type": "markdown",
   "metadata": {},
   "source": [
    "# Import libraries"
   ]
  },
  {
   "cell_type": "code",
   "execution_count": 1,
   "metadata": {
    "scrolled": true
   },
   "outputs": [],
   "source": [
    "import pandas as pd\n",
    "import numpy as np\n",
    "from sklearn.ensemble import GradientBoostingClassifier\n",
    "from sklearn.model_selection import RandomizedSearchCV\n",
    "import matplotlib.pyplot as plt\n",
    "import seaborn as sns\n",
    "from sklearn.metrics import classification_report, confusion_matrix"
   ]
  },
  {
   "cell_type": "markdown",
   "metadata": {},
   "source": [
    "# Import training and test data"
   ]
  },
  {
   "cell_type": "code",
   "execution_count": 2,
   "metadata": {
    "scrolled": true
   },
   "outputs": [],
   "source": [
    "train_data = pd.read_csv('movement_data/fingerprinting_data/train.csv')\n",
    "test_data = pd.read_csv('movement_data/fingerprinting_data/test.csv')"
   ]
  },
  {
   "cell_type": "markdown",
   "metadata": {},
   "source": [
    "# Prepare data for model training and validation"
   ]
  },
  {
   "cell_type": "code",
   "execution_count": 3,
   "metadata": {
    "scrolled": true
   },
   "outputs": [],
   "source": [
    "def normalise_impute_input(input_features):\n",
    "    \"\"\"\n",
    "    This function normalises the RSSI values into values that fall between 0 and 1.\n",
    "    Any missing values will be imputed with the maximum value of 1.\n",
    "    \"\"\"\n",
    "    input_features = np.abs(input_features)  # ensure that all rssi values are positive\n",
    "    num_features = len(input_features[0,:])\n",
    "    max_value = np.zeros(num_features)\n",
    "    min_value = np.zeros(num_features)\n",
    "\n",
    "    for i in range(num_features):\n",
    "        min_value[i] = np.nanmin(input_features[:,i])\n",
    "        max_value[i] = np.nanmax(input_features[:,i])\n",
    "        input_features[:,i] = (input_features[:,i] - min_value[i]) / (max_value[i] - min_value[i] + 1e-6)\n",
    "    \n",
    "    input_features[np.isnan(input_features)] = 1.0\n",
    "        \n",
    "    return input_features"
   ]
  },
  {
   "cell_type": "code",
   "execution_count": 4,
   "metadata": {},
   "outputs": [],
   "source": [
    "def prepare_data(data):\n",
    "    \"\"\"\n",
    "    This function splits the data into input features and labels and returns them as outputs.\n",
    "    \"\"\"\n",
    "    data = data.sample(frac=1).reset_index(drop=True)  # shuffle the data\n",
    "    \n",
    "    X = data.loc[:,'RSSI_AssemblyEntrance':'RSSI_Printer'].values\n",
    "    X = normalise_impute_input(X)\n",
    "    Y = data.loc[:,'Model1':'Model3_Printer']\n",
    "    \n",
    "    return X, Y"
   ]
  },
  {
   "cell_type": "code",
   "execution_count": 5,
   "metadata": {
    "scrolled": true
   },
   "outputs": [],
   "source": [
    "# Preparing train, test data for ensemble classification\n",
    "Xtrain, Ytrain = prepare_data(train_data)\n",
    "Xtest, Ytest = prepare_data(test_data)"
   ]
  },
  {
   "cell_type": "markdown",
   "metadata": {},
   "source": [
    "# Model training and hyperparameter tuning via random cross validation"
   ]
  },
  {
   "cell_type": "code",
   "execution_count": 6,
   "metadata": {
    "scrolled": true
   },
   "outputs": [],
   "source": [
    "def hyperparameter_tuning(Xtrain, Ytrain):\n",
    "    \"\"\"\n",
    "    This function performs hyperparmeter tuning using a 5-fold cross validation approach, based\n",
    "    on the training dataset and returns the optimised model.\n",
    "    \"\"\"\n",
    "    param_grid = {'n_estimators': np.arange(50, 201, 10),\n",
    "                  'min_samples_leaf': np.arange(1,6),\n",
    "                  'min_samples_split': np.arange(2,6),\n",
    "                  'max_depth': np.arange(2,6)}\n",
    "\n",
    "    random_cv = RandomizedSearchCV(GradientBoostingClassifier(), param_grid, n_iter=100, \n",
    "                                   cv=5, verbose=2, scoring='f1_macro', n_jobs=-1)\n",
    "    random_cv.fit(Xtrain, Ytrain)\n",
    "    \n",
    "    print('Best Model Parameters')\n",
    "    print(random_cv.best_params_)\n",
    "    \n",
    "    return random_cv.best_estimator_"
   ]
  },
  {
   "cell_type": "code",
   "execution_count": 7,
   "metadata": {},
   "outputs": [],
   "source": [
    "def balance_training_data(training_data):\n",
    "    \"\"\"\n",
    "    This function splits up the training data into equal sizes such that each subdataset \n",
    "    has identical number of positive and negative classes. This is used to deal with\n",
    "    the class imbalance issue in the training data.\n",
    "    \"\"\"\n",
    "    positive_class = training_data[training_data['label'] == 1]\n",
    "    num_positive = len(positive_class)\n",
    "    negative_class = training_data[training_data['label'] == 0]\n",
    "    num_negative = len(negative_class)\n",
    "    num_batch = int(num_negative / num_positive)\n",
    "    batch_size = int(num_negative / num_batch)\n",
    "    \n",
    "    training_list = []\n",
    "    for i in range(num_batch):\n",
    "        training_batch = negative_class.loc[i*batch_size:(i+1)*batch_size,:]\n",
    "        training_batch = pd.concat([training_batch, positive_class], ignore_index=True, sort=False)\n",
    "        training_batch = training_batch.sample(frac=1).reset_index(drop=True)\n",
    "        training_list.append((training_batch.values[:,:-1], training_batch['label']))\n",
    "        \n",
    "    return training_list"
   ]
  },
  {
   "cell_type": "code",
   "execution_count": 8,
   "metadata": {},
   "outputs": [],
   "source": [
    "def train_ensemble_model(Xtrain, Ytrain):\n",
    "    \"\"\"\n",
    "    This function trains an ensemble model by spliting up the training data into\n",
    "    equal sizes such that the number of positive and negative classes are identical\n",
    "    in each sub-datasets.\n",
    "    \"\"\"\n",
    "    training_data = pd.DataFrame(Xtrain)\n",
    "    training_data['label'] = Ytrain\n",
    "    training_list = balance_training_data(training_data)\n",
    "    \n",
    "    model_list = []\n",
    "    for input_features, label in training_list:\n",
    "        model_list.append(hyperparameter_tuning(input_features, label))\n",
    "        \n",
    "    return model_list"
   ]
  },
  {
   "cell_type": "code",
   "execution_count": 9,
   "metadata": {
    "scrolled": true
   },
   "outputs": [
    {
     "name": "stdout",
     "output_type": "stream",
     "text": [
      "Fitting 5 folds for each of 100 candidates, totalling 500 fits\n"
     ]
    },
    {
     "name": "stderr",
     "output_type": "stream",
     "text": [
      "[Parallel(n_jobs=-1)]: Using backend LokyBackend with 8 concurrent workers.\n",
      "[Parallel(n_jobs=-1)]: Done  25 tasks      | elapsed:    6.4s\n",
      "[Parallel(n_jobs=-1)]: Done 146 tasks      | elapsed:   15.0s\n",
      "[Parallel(n_jobs=-1)]: Done 349 tasks      | elapsed:   29.8s\n",
      "[Parallel(n_jobs=-1)]: Done 500 out of 500 | elapsed:   41.8s finished\n"
     ]
    },
    {
     "name": "stdout",
     "output_type": "stream",
     "text": [
      "Best Model Parameters\n",
      "{'n_estimators': 100, 'min_samples_split': 5, 'min_samples_leaf': 3, 'max_depth': 4}\n",
      "Fitting 5 folds for each of 100 candidates, totalling 500 fits\n"
     ]
    },
    {
     "name": "stderr",
     "output_type": "stream",
     "text": [
      "[Parallel(n_jobs=-1)]: Using backend LokyBackend with 8 concurrent workers.\n",
      "[Parallel(n_jobs=-1)]: Done  25 tasks      | elapsed:    2.2s\n",
      "[Parallel(n_jobs=-1)]: Done 146 tasks      | elapsed:   12.7s\n",
      "[Parallel(n_jobs=-1)]: Done 349 tasks      | elapsed:   29.3s\n",
      "[Parallel(n_jobs=-1)]: Done 500 out of 500 | elapsed:   41.0s finished\n"
     ]
    },
    {
     "name": "stdout",
     "output_type": "stream",
     "text": [
      "Best Model Parameters\n",
      "{'n_estimators': 200, 'min_samples_split': 4, 'min_samples_leaf': 4, 'max_depth': 2}\n",
      "Fitting 5 folds for each of 100 candidates, totalling 500 fits\n"
     ]
    },
    {
     "name": "stderr",
     "output_type": "stream",
     "text": [
      "[Parallel(n_jobs=-1)]: Using backend LokyBackend with 8 concurrent workers.\n",
      "[Parallel(n_jobs=-1)]: Done  25 tasks      | elapsed:    2.3s\n",
      "[Parallel(n_jobs=-1)]: Done 146 tasks      | elapsed:   12.1s\n",
      "[Parallel(n_jobs=-1)]: Done 349 tasks      | elapsed:   27.6s\n",
      "[Parallel(n_jobs=-1)]: Done 500 out of 500 | elapsed:   39.0s finished\n"
     ]
    },
    {
     "name": "stdout",
     "output_type": "stream",
     "text": [
      "Best Model Parameters\n",
      "{'n_estimators': 160, 'min_samples_split': 3, 'min_samples_leaf': 3, 'max_depth': 3}\n",
      "Fitting 5 folds for each of 100 candidates, totalling 500 fits\n"
     ]
    },
    {
     "name": "stderr",
     "output_type": "stream",
     "text": [
      "[Parallel(n_jobs=-1)]: Using backend LokyBackend with 8 concurrent workers.\n",
      "[Parallel(n_jobs=-1)]: Done  34 tasks      | elapsed:    3.3s\n",
      "[Parallel(n_jobs=-1)]: Done 170 tasks      | elapsed:   12.9s\n",
      "[Parallel(n_jobs=-1)]: Done 373 tasks      | elapsed:   28.4s\n",
      "[Parallel(n_jobs=-1)]: Done 500 out of 500 | elapsed:   38.4s finished\n"
     ]
    },
    {
     "name": "stdout",
     "output_type": "stream",
     "text": [
      "Best Model Parameters\n",
      "{'n_estimators': 190, 'min_samples_split': 5, 'min_samples_leaf': 4, 'max_depth': 3}\n",
      "Fitting 5 folds for each of 100 candidates, totalling 500 fits\n"
     ]
    },
    {
     "name": "stderr",
     "output_type": "stream",
     "text": [
      "[Parallel(n_jobs=-1)]: Using backend LokyBackend with 8 concurrent workers.\n",
      "[Parallel(n_jobs=-1)]: Done  25 tasks      | elapsed:    2.5s\n",
      "[Parallel(n_jobs=-1)]: Done 146 tasks      | elapsed:   13.6s\n",
      "[Parallel(n_jobs=-1)]: Done 349 tasks      | elapsed:   31.2s\n",
      "[Parallel(n_jobs=-1)]: Done 500 out of 500 | elapsed:   44.3s finished\n"
     ]
    },
    {
     "name": "stdout",
     "output_type": "stream",
     "text": [
      "Best Model Parameters\n",
      "{'n_estimators': 190, 'min_samples_split': 3, 'min_samples_leaf': 2, 'max_depth': 2}\n",
      "Fitting 5 folds for each of 100 candidates, totalling 500 fits\n"
     ]
    },
    {
     "name": "stderr",
     "output_type": "stream",
     "text": [
      "[Parallel(n_jobs=-1)]: Using backend LokyBackend with 8 concurrent workers.\n",
      "[Parallel(n_jobs=-1)]: Done  34 tasks      | elapsed:    2.3s\n",
      "[Parallel(n_jobs=-1)]: Done 180 tasks      | elapsed:   12.8s\n",
      "[Parallel(n_jobs=-1)]: Done 383 tasks      | elapsed:   28.8s\n",
      "[Parallel(n_jobs=-1)]: Done 500 out of 500 | elapsed:   38.0s finished\n"
     ]
    },
    {
     "name": "stdout",
     "output_type": "stream",
     "text": [
      "Best Model Parameters\n",
      "{'n_estimators': 160, 'min_samples_split': 2, 'min_samples_leaf': 4, 'max_depth': 3}\n",
      "Fitting 5 folds for each of 100 candidates, totalling 500 fits\n"
     ]
    },
    {
     "name": "stderr",
     "output_type": "stream",
     "text": [
      "[Parallel(n_jobs=-1)]: Using backend LokyBackend with 8 concurrent workers.\n",
      "[Parallel(n_jobs=-1)]: Done  25 tasks      | elapsed:    2.3s\n",
      "[Parallel(n_jobs=-1)]: Done 146 tasks      | elapsed:   12.5s\n",
      "[Parallel(n_jobs=-1)]: Done 349 tasks      | elapsed:   30.8s\n",
      "[Parallel(n_jobs=-1)]: Done 500 out of 500 | elapsed:   43.6s finished\n"
     ]
    },
    {
     "name": "stdout",
     "output_type": "stream",
     "text": [
      "Best Model Parameters\n",
      "{'n_estimators': 130, 'min_samples_split': 3, 'min_samples_leaf': 4, 'max_depth': 2}\n",
      "Fitting 5 folds for each of 100 candidates, totalling 500 fits\n"
     ]
    },
    {
     "name": "stderr",
     "output_type": "stream",
     "text": [
      "[Parallel(n_jobs=-1)]: Using backend LokyBackend with 8 concurrent workers.\n",
      "[Parallel(n_jobs=-1)]: Done  25 tasks      | elapsed:    2.0s\n",
      "[Parallel(n_jobs=-1)]: Done 146 tasks      | elapsed:   11.9s\n",
      "[Parallel(n_jobs=-1)]: Done 349 tasks      | elapsed:   28.5s\n",
      "[Parallel(n_jobs=-1)]: Done 500 out of 500 | elapsed:   40.7s finished\n"
     ]
    },
    {
     "name": "stdout",
     "output_type": "stream",
     "text": [
      "Best Model Parameters\n",
      "{'n_estimators': 160, 'min_samples_split': 4, 'min_samples_leaf': 2, 'max_depth': 3}\n",
      "Fitting 5 folds for each of 100 candidates, totalling 500 fits\n"
     ]
    },
    {
     "name": "stderr",
     "output_type": "stream",
     "text": [
      "[Parallel(n_jobs=-1)]: Using backend LokyBackend with 8 concurrent workers.\n",
      "[Parallel(n_jobs=-1)]: Done  25 tasks      | elapsed:    2.1s\n",
      "[Parallel(n_jobs=-1)]: Done 146 tasks      | elapsed:   11.2s\n",
      "[Parallel(n_jobs=-1)]: Done 349 tasks      | elapsed:   26.9s\n",
      "[Parallel(n_jobs=-1)]: Done 500 out of 500 | elapsed:   38.4s finished\n"
     ]
    },
    {
     "name": "stdout",
     "output_type": "stream",
     "text": [
      "Best Model Parameters\n",
      "{'n_estimators': 110, 'min_samples_split': 4, 'min_samples_leaf': 4, 'max_depth': 2}\n",
      "Fitting 5 folds for each of 100 candidates, totalling 500 fits\n"
     ]
    },
    {
     "name": "stderr",
     "output_type": "stream",
     "text": [
      "[Parallel(n_jobs=-1)]: Using backend LokyBackend with 8 concurrent workers.\n",
      "[Parallel(n_jobs=-1)]: Done  34 tasks      | elapsed:    3.4s\n",
      "[Parallel(n_jobs=-1)]: Done 162 tasks      | elapsed:   12.3s\n",
      "[Parallel(n_jobs=-1)]: Done 365 tasks      | elapsed:   28.1s\n",
      "[Parallel(n_jobs=-1)]: Done 500 out of 500 | elapsed:   38.8s finished\n"
     ]
    },
    {
     "name": "stdout",
     "output_type": "stream",
     "text": [
      "Best Model Parameters\n",
      "{'n_estimators': 200, 'min_samples_split': 2, 'min_samples_leaf': 3, 'max_depth': 3}\n",
      "Fitting 5 folds for each of 100 candidates, totalling 500 fits\n"
     ]
    },
    {
     "name": "stderr",
     "output_type": "stream",
     "text": [
      "[Parallel(n_jobs=-1)]: Using backend LokyBackend with 8 concurrent workers.\n",
      "[Parallel(n_jobs=-1)]: Done  25 tasks      | elapsed:    2.4s\n",
      "[Parallel(n_jobs=-1)]: Done 146 tasks      | elapsed:   11.6s\n",
      "[Parallel(n_jobs=-1)]: Done 349 tasks      | elapsed:   26.9s\n",
      "[Parallel(n_jobs=-1)]: Done 500 out of 500 | elapsed:   38.0s finished\n"
     ]
    },
    {
     "name": "stdout",
     "output_type": "stream",
     "text": [
      "Best Model Parameters\n",
      "{'n_estimators': 140, 'min_samples_split': 5, 'min_samples_leaf': 3, 'max_depth': 2}\n",
      "Fitting 5 folds for each of 100 candidates, totalling 500 fits\n"
     ]
    },
    {
     "name": "stderr",
     "output_type": "stream",
     "text": [
      "[Parallel(n_jobs=-1)]: Using backend LokyBackend with 8 concurrent workers.\n",
      "[Parallel(n_jobs=-1)]: Done  25 tasks      | elapsed:    2.4s\n",
      "[Parallel(n_jobs=-1)]: Done 146 tasks      | elapsed:   11.6s\n",
      "[Parallel(n_jobs=-1)]: Done 349 tasks      | elapsed:   26.9s\n",
      "[Parallel(n_jobs=-1)]: Done 500 out of 500 | elapsed:   38.8s finished\n"
     ]
    },
    {
     "name": "stdout",
     "output_type": "stream",
     "text": [
      "Best Model Parameters\n",
      "{'n_estimators': 150, 'min_samples_split': 3, 'min_samples_leaf': 4, 'max_depth': 2}\n",
      "Fitting 5 folds for each of 100 candidates, totalling 500 fits\n"
     ]
    },
    {
     "name": "stderr",
     "output_type": "stream",
     "text": [
      "[Parallel(n_jobs=-1)]: Using backend LokyBackend with 8 concurrent workers.\n",
      "[Parallel(n_jobs=-1)]: Done  25 tasks      | elapsed:    2.1s\n",
      "[Parallel(n_jobs=-1)]: Done 146 tasks      | elapsed:   11.9s\n",
      "[Parallel(n_jobs=-1)]: Done 349 tasks      | elapsed:   27.7s\n",
      "[Parallel(n_jobs=-1)]: Done 500 out of 500 | elapsed:   39.6s finished\n"
     ]
    },
    {
     "name": "stdout",
     "output_type": "stream",
     "text": [
      "Best Model Parameters\n",
      "{'n_estimators': 150, 'min_samples_split': 4, 'min_samples_leaf': 3, 'max_depth': 4}\n",
      "Fitting 5 folds for each of 100 candidates, totalling 500 fits\n"
     ]
    },
    {
     "name": "stderr",
     "output_type": "stream",
     "text": [
      "[Parallel(n_jobs=-1)]: Using backend LokyBackend with 8 concurrent workers.\n",
      "[Parallel(n_jobs=-1)]: Done  25 tasks      | elapsed:    2.0s\n",
      "[Parallel(n_jobs=-1)]: Done 146 tasks      | elapsed:   13.0s\n",
      "[Parallel(n_jobs=-1)]: Done 349 tasks      | elapsed:   29.5s\n",
      "[Parallel(n_jobs=-1)]: Done 500 out of 500 | elapsed:   41.9s finished\n"
     ]
    },
    {
     "name": "stdout",
     "output_type": "stream",
     "text": [
      "Best Model Parameters\n",
      "{'n_estimators': 140, 'min_samples_split': 2, 'min_samples_leaf': 2, 'max_depth': 3}\n",
      "Fitting 5 folds for each of 100 candidates, totalling 500 fits\n"
     ]
    },
    {
     "name": "stderr",
     "output_type": "stream",
     "text": [
      "[Parallel(n_jobs=-1)]: Using backend LokyBackend with 8 concurrent workers.\n",
      "[Parallel(n_jobs=-1)]: Done  25 tasks      | elapsed:    2.0s\n",
      "[Parallel(n_jobs=-1)]: Done 146 tasks      | elapsed:   11.8s\n",
      "[Parallel(n_jobs=-1)]: Done 349 tasks      | elapsed:   28.3s\n",
      "[Parallel(n_jobs=-1)]: Done 500 out of 500 | elapsed:   40.3s finished\n"
     ]
    },
    {
     "name": "stdout",
     "output_type": "stream",
     "text": [
      "Best Model Parameters\n",
      "{'n_estimators': 150, 'min_samples_split': 3, 'min_samples_leaf': 2, 'max_depth': 2}\n"
     ]
    }
   ],
   "source": [
    "# Optimise assembly space model\n",
    "assemblyspace_model = train_ensemble_model(Xtrain, Ytrain['Model3_AssemblySpace'])"
   ]
  },
  {
   "cell_type": "code",
   "execution_count": 10,
   "metadata": {
    "scrolled": true
   },
   "outputs": [
    {
     "name": "stdout",
     "output_type": "stream",
     "text": [
      "Fitting 5 folds for each of 100 candidates, totalling 500 fits\n"
     ]
    },
    {
     "name": "stderr",
     "output_type": "stream",
     "text": [
      "[Parallel(n_jobs=-1)]: Using backend LokyBackend with 8 concurrent workers.\n",
      "[Parallel(n_jobs=-1)]: Done  34 tasks      | elapsed:    3.4s\n",
      "[Parallel(n_jobs=-1)]: Done 162 tasks      | elapsed:   15.6s\n",
      "[Parallel(n_jobs=-1)]: Done 365 tasks      | elapsed:   33.9s\n",
      "[Parallel(n_jobs=-1)]: Done 500 out of 500 | elapsed:   47.5s finished\n"
     ]
    },
    {
     "name": "stdout",
     "output_type": "stream",
     "text": [
      "Best Model Parameters\n",
      "{'n_estimators': 170, 'min_samples_split': 3, 'min_samples_leaf': 1, 'max_depth': 3}\n",
      "Fitting 5 folds for each of 100 candidates, totalling 500 fits\n"
     ]
    },
    {
     "name": "stderr",
     "output_type": "stream",
     "text": [
      "[Parallel(n_jobs=-1)]: Using backend LokyBackend with 8 concurrent workers.\n",
      "[Parallel(n_jobs=-1)]: Done  25 tasks      | elapsed:    2.2s\n",
      "[Parallel(n_jobs=-1)]: Done 146 tasks      | elapsed:   12.9s\n",
      "[Parallel(n_jobs=-1)]: Done 349 tasks      | elapsed:   31.1s\n",
      "[Parallel(n_jobs=-1)]: Done 500 out of 500 | elapsed:   45.7s finished\n"
     ]
    },
    {
     "name": "stdout",
     "output_type": "stream",
     "text": [
      "Best Model Parameters\n",
      "{'n_estimators': 150, 'min_samples_split': 4, 'min_samples_leaf': 1, 'max_depth': 4}\n",
      "Fitting 5 folds for each of 100 candidates, totalling 500 fits\n"
     ]
    },
    {
     "name": "stderr",
     "output_type": "stream",
     "text": [
      "[Parallel(n_jobs=-1)]: Using backend LokyBackend with 8 concurrent workers.\n",
      "[Parallel(n_jobs=-1)]: Done  25 tasks      | elapsed:    2.8s\n",
      "[Parallel(n_jobs=-1)]: Done 146 tasks      | elapsed:   13.2s\n",
      "[Parallel(n_jobs=-1)]: Done 349 tasks      | elapsed:   30.1s\n",
      "[Parallel(n_jobs=-1)]: Done 500 out of 500 | elapsed:   44.1s finished\n"
     ]
    },
    {
     "name": "stdout",
     "output_type": "stream",
     "text": [
      "Best Model Parameters\n",
      "{'n_estimators': 130, 'min_samples_split': 4, 'min_samples_leaf': 3, 'max_depth': 4}\n",
      "Fitting 5 folds for each of 100 candidates, totalling 500 fits\n"
     ]
    },
    {
     "name": "stderr",
     "output_type": "stream",
     "text": [
      "[Parallel(n_jobs=-1)]: Using backend LokyBackend with 8 concurrent workers.\n",
      "[Parallel(n_jobs=-1)]: Done  25 tasks      | elapsed:    2.3s\n",
      "[Parallel(n_jobs=-1)]: Done 146 tasks      | elapsed:   13.0s\n",
      "[Parallel(n_jobs=-1)]: Done 349 tasks      | elapsed:   31.5s\n",
      "[Parallel(n_jobs=-1)]: Done 500 out of 500 | elapsed:   45.6s finished\n"
     ]
    },
    {
     "name": "stdout",
     "output_type": "stream",
     "text": [
      "Best Model Parameters\n",
      "{'n_estimators': 60, 'min_samples_split': 4, 'min_samples_leaf': 4, 'max_depth': 4}\n",
      "Fitting 5 folds for each of 100 candidates, totalling 500 fits\n"
     ]
    },
    {
     "name": "stderr",
     "output_type": "stream",
     "text": [
      "[Parallel(n_jobs=-1)]: Using backend LokyBackend with 8 concurrent workers.\n",
      "[Parallel(n_jobs=-1)]: Done  25 tasks      | elapsed:    2.2s\n",
      "[Parallel(n_jobs=-1)]: Done 146 tasks      | elapsed:   13.2s\n",
      "[Parallel(n_jobs=-1)]: Done 349 tasks      | elapsed:   33.1s\n",
      "[Parallel(n_jobs=-1)]: Done 500 out of 500 | elapsed:   46.0s finished\n"
     ]
    },
    {
     "name": "stdout",
     "output_type": "stream",
     "text": [
      "Best Model Parameters\n",
      "{'n_estimators': 80, 'min_samples_split': 3, 'min_samples_leaf': 1, 'max_depth': 5}\n",
      "Fitting 5 folds for each of 100 candidates, totalling 500 fits\n"
     ]
    },
    {
     "name": "stderr",
     "output_type": "stream",
     "text": [
      "[Parallel(n_jobs=-1)]: Using backend LokyBackend with 8 concurrent workers.\n",
      "[Parallel(n_jobs=-1)]: Done  25 tasks      | elapsed:    2.3s\n",
      "[Parallel(n_jobs=-1)]: Done 146 tasks      | elapsed:   13.8s\n",
      "[Parallel(n_jobs=-1)]: Done 349 tasks      | elapsed:   33.7s\n",
      "[Parallel(n_jobs=-1)]: Done 500 out of 500 | elapsed:   46.9s finished\n"
     ]
    },
    {
     "name": "stdout",
     "output_type": "stream",
     "text": [
      "Best Model Parameters\n",
      "{'n_estimators': 80, 'min_samples_split': 2, 'min_samples_leaf': 2, 'max_depth': 5}\n",
      "Fitting 5 folds for each of 100 candidates, totalling 500 fits\n"
     ]
    },
    {
     "name": "stderr",
     "output_type": "stream",
     "text": [
      "[Parallel(n_jobs=-1)]: Using backend LokyBackend with 8 concurrent workers.\n",
      "[Parallel(n_jobs=-1)]: Done  34 tasks      | elapsed:    3.6s\n",
      "[Parallel(n_jobs=-1)]: Done 162 tasks      | elapsed:   14.5s\n",
      "[Parallel(n_jobs=-1)]: Done 365 tasks      | elapsed:   35.5s\n",
      "[Parallel(n_jobs=-1)]: Done 500 out of 500 | elapsed:   48.5s finished\n"
     ]
    },
    {
     "name": "stdout",
     "output_type": "stream",
     "text": [
      "Best Model Parameters\n",
      "{'n_estimators': 110, 'min_samples_split': 5, 'min_samples_leaf': 4, 'max_depth': 4}\n",
      "Fitting 5 folds for each of 100 candidates, totalling 500 fits\n"
     ]
    },
    {
     "name": "stderr",
     "output_type": "stream",
     "text": [
      "[Parallel(n_jobs=-1)]: Using backend LokyBackend with 8 concurrent workers.\n",
      "[Parallel(n_jobs=-1)]: Done  25 tasks      | elapsed:    2.5s\n",
      "[Parallel(n_jobs=-1)]: Done 146 tasks      | elapsed:   13.8s\n",
      "[Parallel(n_jobs=-1)]: Done 349 tasks      | elapsed:   33.7s\n",
      "[Parallel(n_jobs=-1)]: Done 500 out of 500 | elapsed:   47.1s finished\n"
     ]
    },
    {
     "name": "stdout",
     "output_type": "stream",
     "text": [
      "Best Model Parameters\n",
      "{'n_estimators': 110, 'min_samples_split': 4, 'min_samples_leaf': 1, 'max_depth': 4}\n",
      "Fitting 5 folds for each of 100 candidates, totalling 500 fits\n"
     ]
    },
    {
     "name": "stderr",
     "output_type": "stream",
     "text": [
      "[Parallel(n_jobs=-1)]: Using backend LokyBackend with 8 concurrent workers.\n",
      "[Parallel(n_jobs=-1)]: Done  25 tasks      | elapsed:    3.3s\n",
      "[Parallel(n_jobs=-1)]: Done 146 tasks      | elapsed:   15.2s\n",
      "[Parallel(n_jobs=-1)]: Done 349 tasks      | elapsed:   35.8s\n",
      "[Parallel(n_jobs=-1)]: Done 500 out of 500 | elapsed:   51.0s finished\n"
     ]
    },
    {
     "name": "stdout",
     "output_type": "stream",
     "text": [
      "Best Model Parameters\n",
      "{'n_estimators': 120, 'min_samples_split': 4, 'min_samples_leaf': 4, 'max_depth': 5}\n",
      "Fitting 5 folds for each of 100 candidates, totalling 500 fits\n"
     ]
    },
    {
     "name": "stderr",
     "output_type": "stream",
     "text": [
      "[Parallel(n_jobs=-1)]: Using backend LokyBackend with 8 concurrent workers.\n",
      "[Parallel(n_jobs=-1)]: Done  25 tasks      | elapsed:    2.2s\n",
      "[Parallel(n_jobs=-1)]: Done 146 tasks      | elapsed:   12.9s\n",
      "[Parallel(n_jobs=-1)]: Done 349 tasks      | elapsed:   35.3s\n",
      "[Parallel(n_jobs=-1)]: Done 500 out of 500 | elapsed:   53.9s finished\n"
     ]
    },
    {
     "name": "stdout",
     "output_type": "stream",
     "text": [
      "Best Model Parameters\n",
      "{'n_estimators': 150, 'min_samples_split': 5, 'min_samples_leaf': 2, 'max_depth': 3}\n",
      "Fitting 5 folds for each of 100 candidates, totalling 500 fits\n"
     ]
    },
    {
     "name": "stderr",
     "output_type": "stream",
     "text": [
      "[Parallel(n_jobs=-1)]: Using backend LokyBackend with 8 concurrent workers.\n",
      "[Parallel(n_jobs=-1)]: Done  25 tasks      | elapsed:    2.4s\n",
      "[Parallel(n_jobs=-1)]: Done 146 tasks      | elapsed:   11.9s\n",
      "[Parallel(n_jobs=-1)]: Done 349 tasks      | elapsed:   28.2s\n",
      "[Parallel(n_jobs=-1)]: Done 500 out of 500 | elapsed:   40.8s finished\n"
     ]
    },
    {
     "name": "stdout",
     "output_type": "stream",
     "text": [
      "Best Model Parameters\n",
      "{'n_estimators': 200, 'min_samples_split': 4, 'min_samples_leaf': 5, 'max_depth': 5}\n",
      "Fitting 5 folds for each of 100 candidates, totalling 500 fits\n"
     ]
    },
    {
     "name": "stderr",
     "output_type": "stream",
     "text": [
      "[Parallel(n_jobs=-1)]: Using backend LokyBackend with 8 concurrent workers.\n",
      "[Parallel(n_jobs=-1)]: Done  25 tasks      | elapsed:    2.8s\n",
      "[Parallel(n_jobs=-1)]: Done 146 tasks      | elapsed:   15.4s\n",
      "[Parallel(n_jobs=-1)]: Done 349 tasks      | elapsed:   37.4s\n",
      "[Parallel(n_jobs=-1)]: Done 500 out of 500 | elapsed:   51.1s finished\n"
     ]
    },
    {
     "name": "stdout",
     "output_type": "stream",
     "text": [
      "Best Model Parameters\n",
      "{'n_estimators': 200, 'min_samples_split': 2, 'min_samples_leaf': 2, 'max_depth': 3}\n",
      "Fitting 5 folds for each of 100 candidates, totalling 500 fits\n"
     ]
    },
    {
     "name": "stderr",
     "output_type": "stream",
     "text": [
      "[Parallel(n_jobs=-1)]: Using backend LokyBackend with 8 concurrent workers.\n",
      "[Parallel(n_jobs=-1)]: Done  25 tasks      | elapsed:    3.2s\n",
      "[Parallel(n_jobs=-1)]: Done 146 tasks      | elapsed:   15.0s\n",
      "[Parallel(n_jobs=-1)]: Done 349 tasks      | elapsed:   32.5s\n",
      "[Parallel(n_jobs=-1)]: Done 500 out of 500 | elapsed:   47.4s finished\n"
     ]
    },
    {
     "name": "stdout",
     "output_type": "stream",
     "text": [
      "Best Model Parameters\n",
      "{'n_estimators': 200, 'min_samples_split': 2, 'min_samples_leaf': 5, 'max_depth': 2}\n",
      "Fitting 5 folds for each of 100 candidates, totalling 500 fits\n"
     ]
    },
    {
     "name": "stderr",
     "output_type": "stream",
     "text": [
      "[Parallel(n_jobs=-1)]: Using backend LokyBackend with 8 concurrent workers.\n",
      "[Parallel(n_jobs=-1)]: Done  25 tasks      | elapsed:    2.4s\n",
      "[Parallel(n_jobs=-1)]: Done 146 tasks      | elapsed:   14.4s\n",
      "[Parallel(n_jobs=-1)]: Done 349 tasks      | elapsed:   31.8s\n",
      "[Parallel(n_jobs=-1)]: Done 500 out of 500 | elapsed:   46.2s finished\n"
     ]
    },
    {
     "name": "stdout",
     "output_type": "stream",
     "text": [
      "Best Model Parameters\n",
      "{'n_estimators': 170, 'min_samples_split': 3, 'min_samples_leaf': 4, 'max_depth': 4}\n",
      "Fitting 5 folds for each of 100 candidates, totalling 500 fits\n"
     ]
    },
    {
     "name": "stderr",
     "output_type": "stream",
     "text": [
      "[Parallel(n_jobs=-1)]: Using backend LokyBackend with 8 concurrent workers.\n",
      "[Parallel(n_jobs=-1)]: Done  25 tasks      | elapsed:    2.0s\n",
      "[Parallel(n_jobs=-1)]: Done 146 tasks      | elapsed:   15.1s\n",
      "[Parallel(n_jobs=-1)]: Done 349 tasks      | elapsed:   34.5s\n",
      "[Parallel(n_jobs=-1)]: Done 500 out of 500 | elapsed:   47.6s finished\n"
     ]
    },
    {
     "name": "stdout",
     "output_type": "stream",
     "text": [
      "Best Model Parameters\n",
      "{'n_estimators': 170, 'min_samples_split': 3, 'min_samples_leaf': 5, 'max_depth': 4}\n"
     ]
    }
   ],
   "source": [
    "# Optimise prototyping room model\n",
    "prototyping_model = train_ensemble_model(Xtrain, Ytrain['Model3_PrototypingRoom'])"
   ]
  },
  {
   "cell_type": "code",
   "execution_count": 11,
   "metadata": {
    "scrolled": true
   },
   "outputs": [
    {
     "name": "stdout",
     "output_type": "stream",
     "text": [
      "Fitting 5 folds for each of 100 candidates, totalling 500 fits\n"
     ]
    },
    {
     "name": "stderr",
     "output_type": "stream",
     "text": [
      "[Parallel(n_jobs=-1)]: Using backend LokyBackend with 8 concurrent workers.\n",
      "[Parallel(n_jobs=-1)]: Done  25 tasks      | elapsed:    1.1s\n",
      "[Parallel(n_jobs=-1)]: Done 146 tasks      | elapsed:    6.2s\n",
      "[Parallel(n_jobs=-1)]: Done 349 tasks      | elapsed:   14.2s\n",
      "[Parallel(n_jobs=-1)]: Done 500 out of 500 | elapsed:   20.6s finished\n"
     ]
    },
    {
     "name": "stdout",
     "output_type": "stream",
     "text": [
      "Best Model Parameters\n",
      "{'n_estimators': 200, 'min_samples_split': 3, 'min_samples_leaf': 1, 'max_depth': 3}\n",
      "Fitting 5 folds for each of 100 candidates, totalling 500 fits\n"
     ]
    },
    {
     "name": "stderr",
     "output_type": "stream",
     "text": [
      "[Parallel(n_jobs=-1)]: Using backend LokyBackend with 8 concurrent workers.\n",
      "[Parallel(n_jobs=-1)]: Done  34 tasks      | elapsed:    1.2s\n",
      "[Parallel(n_jobs=-1)]: Done 276 tasks      | elapsed:    9.6s\n",
      "[Parallel(n_jobs=-1)]: Done 500 out of 500 | elapsed:   17.2s finished\n",
      "[Parallel(n_jobs=-1)]: Using backend LokyBackend with 8 concurrent workers.\n"
     ]
    },
    {
     "name": "stdout",
     "output_type": "stream",
     "text": [
      "Best Model Parameters\n",
      "{'n_estimators': 100, 'min_samples_split': 2, 'min_samples_leaf': 2, 'max_depth': 5}\n",
      "Fitting 5 folds for each of 100 candidates, totalling 500 fits\n"
     ]
    },
    {
     "name": "stderr",
     "output_type": "stream",
     "text": [
      "[Parallel(n_jobs=-1)]: Done  34 tasks      | elapsed:    1.7s\n",
      "[Parallel(n_jobs=-1)]: Done 276 tasks      | elapsed:   10.2s\n",
      "[Parallel(n_jobs=-1)]: Done 500 out of 500 | elapsed:   18.7s finished\n"
     ]
    },
    {
     "name": "stdout",
     "output_type": "stream",
     "text": [
      "Best Model Parameters\n",
      "{'n_estimators': 170, 'min_samples_split': 5, 'min_samples_leaf': 4, 'max_depth': 2}\n",
      "Fitting 5 folds for each of 100 candidates, totalling 500 fits\n"
     ]
    },
    {
     "name": "stderr",
     "output_type": "stream",
     "text": [
      "[Parallel(n_jobs=-1)]: Using backend LokyBackend with 8 concurrent workers.\n",
      "[Parallel(n_jobs=-1)]: Done  34 tasks      | elapsed:    1.3s\n",
      "[Parallel(n_jobs=-1)]: Done 276 tasks      | elapsed:   10.2s\n",
      "[Parallel(n_jobs=-1)]: Done 500 out of 500 | elapsed:   18.6s finished\n",
      "[Parallel(n_jobs=-1)]: Using backend LokyBackend with 8 concurrent workers.\n"
     ]
    },
    {
     "name": "stdout",
     "output_type": "stream",
     "text": [
      "Best Model Parameters\n",
      "{'n_estimators': 70, 'min_samples_split': 3, 'min_samples_leaf': 4, 'max_depth': 4}\n",
      "Fitting 5 folds for each of 100 candidates, totalling 500 fits\n"
     ]
    },
    {
     "name": "stderr",
     "output_type": "stream",
     "text": [
      "[Parallel(n_jobs=-1)]: Done  34 tasks      | elapsed:    1.4s\n",
      "[Parallel(n_jobs=-1)]: Done 276 tasks      | elapsed:    9.7s\n",
      "[Parallel(n_jobs=-1)]: Done 500 out of 500 | elapsed:   18.5s finished\n",
      "[Parallel(n_jobs=-1)]: Using backend LokyBackend with 8 concurrent workers.\n"
     ]
    },
    {
     "name": "stdout",
     "output_type": "stream",
     "text": [
      "Best Model Parameters\n",
      "{'n_estimators': 140, 'min_samples_split': 3, 'min_samples_leaf': 1, 'max_depth': 5}\n",
      "Fitting 5 folds for each of 100 candidates, totalling 500 fits\n"
     ]
    },
    {
     "name": "stderr",
     "output_type": "stream",
     "text": [
      "[Parallel(n_jobs=-1)]: Done  34 tasks      | elapsed:    1.3s\n",
      "[Parallel(n_jobs=-1)]: Done 276 tasks      | elapsed:    9.5s\n",
      "[Parallel(n_jobs=-1)]: Done 500 out of 500 | elapsed:   16.8s finished\n",
      "[Parallel(n_jobs=-1)]: Using backend LokyBackend with 8 concurrent workers.\n"
     ]
    },
    {
     "name": "stdout",
     "output_type": "stream",
     "text": [
      "Best Model Parameters\n",
      "{'n_estimators': 110, 'min_samples_split': 5, 'min_samples_leaf': 5, 'max_depth': 3}\n",
      "Fitting 5 folds for each of 100 candidates, totalling 500 fits\n"
     ]
    },
    {
     "name": "stderr",
     "output_type": "stream",
     "text": [
      "[Parallel(n_jobs=-1)]: Done  25 tasks      | elapsed:    0.9s\n",
      "[Parallel(n_jobs=-1)]: Done 146 tasks      | elapsed:    5.7s\n",
      "[Parallel(n_jobs=-1)]: Done 349 tasks      | elapsed:   13.9s\n",
      "[Parallel(n_jobs=-1)]: Done 500 out of 500 | elapsed:   19.7s finished\n",
      "[Parallel(n_jobs=-1)]: Using backend LokyBackend with 8 concurrent workers.\n"
     ]
    },
    {
     "name": "stdout",
     "output_type": "stream",
     "text": [
      "Best Model Parameters\n",
      "{'n_estimators': 180, 'min_samples_split': 3, 'min_samples_leaf': 5, 'max_depth': 4}\n",
      "Fitting 5 folds for each of 100 candidates, totalling 500 fits\n"
     ]
    },
    {
     "name": "stderr",
     "output_type": "stream",
     "text": [
      "[Parallel(n_jobs=-1)]: Done  34 tasks      | elapsed:    1.8s\n",
      "[Parallel(n_jobs=-1)]: Done 276 tasks      | elapsed:   10.7s\n",
      "[Parallel(n_jobs=-1)]: Done 500 out of 500 | elapsed:   18.8s finished\n",
      "[Parallel(n_jobs=-1)]: Using backend LokyBackend with 8 concurrent workers.\n"
     ]
    },
    {
     "name": "stdout",
     "output_type": "stream",
     "text": [
      "Best Model Parameters\n",
      "{'n_estimators': 60, 'min_samples_split': 2, 'min_samples_leaf': 1, 'max_depth': 2}\n",
      "Fitting 5 folds for each of 100 candidates, totalling 500 fits\n"
     ]
    },
    {
     "name": "stderr",
     "output_type": "stream",
     "text": [
      "[Parallel(n_jobs=-1)]: Done  34 tasks      | elapsed:    1.4s\n",
      "[Parallel(n_jobs=-1)]: Done 276 tasks      | elapsed:   10.9s\n",
      "[Parallel(n_jobs=-1)]: Done 500 out of 500 | elapsed:   20.1s finished\n",
      "[Parallel(n_jobs=-1)]: Using backend LokyBackend with 8 concurrent workers.\n"
     ]
    },
    {
     "name": "stdout",
     "output_type": "stream",
     "text": [
      "Best Model Parameters\n",
      "{'n_estimators': 130, 'min_samples_split': 5, 'min_samples_leaf': 1, 'max_depth': 5}\n",
      "Fitting 5 folds for each of 100 candidates, totalling 500 fits\n"
     ]
    },
    {
     "name": "stderr",
     "output_type": "stream",
     "text": [
      "[Parallel(n_jobs=-1)]: Done  34 tasks      | elapsed:    1.6s\n",
      "[Parallel(n_jobs=-1)]: Done 276 tasks      | elapsed:   10.5s\n",
      "[Parallel(n_jobs=-1)]: Done 500 out of 500 | elapsed:   18.9s finished\n",
      "[Parallel(n_jobs=-1)]: Using backend LokyBackend with 8 concurrent workers.\n"
     ]
    },
    {
     "name": "stdout",
     "output_type": "stream",
     "text": [
      "Best Model Parameters\n",
      "{'n_estimators': 150, 'min_samples_split': 5, 'min_samples_leaf': 1, 'max_depth': 4}\n",
      "Fitting 5 folds for each of 100 candidates, totalling 500 fits\n"
     ]
    },
    {
     "name": "stderr",
     "output_type": "stream",
     "text": [
      "[Parallel(n_jobs=-1)]: Done  34 tasks      | elapsed:    1.4s\n",
      "[Parallel(n_jobs=-1)]: Done 276 tasks      | elapsed:   10.6s\n",
      "[Parallel(n_jobs=-1)]: Done 500 out of 500 | elapsed:   19.2s finished\n"
     ]
    },
    {
     "name": "stdout",
     "output_type": "stream",
     "text": [
      "Best Model Parameters\n",
      "{'n_estimators': 160, 'min_samples_split': 4, 'min_samples_leaf': 5, 'max_depth': 4}\n",
      "Fitting 5 folds for each of 100 candidates, totalling 500 fits\n"
     ]
    },
    {
     "name": "stderr",
     "output_type": "stream",
     "text": [
      "[Parallel(n_jobs=-1)]: Using backend LokyBackend with 8 concurrent workers.\n",
      "[Parallel(n_jobs=-1)]: Done  34 tasks      | elapsed:    1.7s\n",
      "[Parallel(n_jobs=-1)]: Done 276 tasks      | elapsed:   10.7s\n",
      "[Parallel(n_jobs=-1)]: Done 500 out of 500 | elapsed:   19.6s finished\n",
      "[Parallel(n_jobs=-1)]: Using backend LokyBackend with 8 concurrent workers.\n"
     ]
    },
    {
     "name": "stdout",
     "output_type": "stream",
     "text": [
      "Best Model Parameters\n",
      "{'n_estimators': 140, 'min_samples_split': 2, 'min_samples_leaf': 1, 'max_depth': 3}\n",
      "Fitting 5 folds for each of 100 candidates, totalling 500 fits\n"
     ]
    },
    {
     "name": "stderr",
     "output_type": "stream",
     "text": [
      "[Parallel(n_jobs=-1)]: Done  34 tasks      | elapsed:    1.5s\n",
      "[Parallel(n_jobs=-1)]: Done 276 tasks      | elapsed:   11.1s\n",
      "[Parallel(n_jobs=-1)]: Done 500 out of 500 | elapsed:   19.7s finished\n",
      "[Parallel(n_jobs=-1)]: Using backend LokyBackend with 8 concurrent workers.\n"
     ]
    },
    {
     "name": "stdout",
     "output_type": "stream",
     "text": [
      "Best Model Parameters\n",
      "{'n_estimators': 70, 'min_samples_split': 3, 'min_samples_leaf': 5, 'max_depth': 3}\n",
      "Fitting 5 folds for each of 100 candidates, totalling 500 fits\n"
     ]
    },
    {
     "name": "stderr",
     "output_type": "stream",
     "text": [
      "[Parallel(n_jobs=-1)]: Done  34 tasks      | elapsed:    1.5s\n",
      "[Parallel(n_jobs=-1)]: Done 276 tasks      | elapsed:   11.2s\n",
      "[Parallel(n_jobs=-1)]: Done 500 out of 500 | elapsed:   20.5s finished\n",
      "[Parallel(n_jobs=-1)]: Using backend LokyBackend with 8 concurrent workers.\n"
     ]
    },
    {
     "name": "stdout",
     "output_type": "stream",
     "text": [
      "Best Model Parameters\n",
      "{'n_estimators': 80, 'min_samples_split': 5, 'min_samples_leaf': 1, 'max_depth': 3}\n",
      "Fitting 5 folds for each of 100 candidates, totalling 500 fits\n"
     ]
    },
    {
     "name": "stderr",
     "output_type": "stream",
     "text": [
      "[Parallel(n_jobs=-1)]: Done  34 tasks      | elapsed:    1.6s\n",
      "[Parallel(n_jobs=-1)]: Done 276 tasks      | elapsed:   10.8s\n",
      "[Parallel(n_jobs=-1)]: Done 500 out of 500 | elapsed:   19.2s finished\n",
      "[Parallel(n_jobs=-1)]: Using backend LokyBackend with 8 concurrent workers.\n"
     ]
    },
    {
     "name": "stdout",
     "output_type": "stream",
     "text": [
      "Best Model Parameters\n",
      "{'n_estimators': 70, 'min_samples_split': 2, 'min_samples_leaf': 2, 'max_depth': 4}\n",
      "Fitting 5 folds for each of 100 candidates, totalling 500 fits\n"
     ]
    },
    {
     "name": "stderr",
     "output_type": "stream",
     "text": [
      "[Parallel(n_jobs=-1)]: Done  25 tasks      | elapsed:    1.0s\n",
      "[Parallel(n_jobs=-1)]: Done 146 tasks      | elapsed:    5.3s\n",
      "[Parallel(n_jobs=-1)]: Done 349 tasks      | elapsed:   13.1s\n",
      "[Parallel(n_jobs=-1)]: Done 500 out of 500 | elapsed:   18.9s finished\n",
      "[Parallel(n_jobs=-1)]: Using backend LokyBackend with 8 concurrent workers.\n"
     ]
    },
    {
     "name": "stdout",
     "output_type": "stream",
     "text": [
      "Best Model Parameters\n",
      "{'n_estimators': 140, 'min_samples_split': 4, 'min_samples_leaf': 1, 'max_depth': 3}\n",
      "Fitting 5 folds for each of 100 candidates, totalling 500 fits\n"
     ]
    },
    {
     "name": "stderr",
     "output_type": "stream",
     "text": [
      "[Parallel(n_jobs=-1)]: Done  34 tasks      | elapsed:    1.4s\n",
      "[Parallel(n_jobs=-1)]: Done 276 tasks      | elapsed:   11.3s\n"
     ]
    },
    {
     "name": "stdout",
     "output_type": "stream",
     "text": [
      "Best Model Parameters\n",
      "{'n_estimators': 60, 'min_samples_split': 4, 'min_samples_leaf': 1, 'max_depth': 5}\n"
     ]
    },
    {
     "name": "stderr",
     "output_type": "stream",
     "text": [
      "[Parallel(n_jobs=-1)]: Done 500 out of 500 | elapsed:   19.7s finished\n"
     ]
    }
   ],
   "source": [
    "# Optimise out model\n",
    "out_model = train_ensemble_model(Xtrain, Ytrain['Model3_Out'])"
   ]
  },
  {
   "cell_type": "code",
   "execution_count": 12,
   "metadata": {
    "scrolled": true
   },
   "outputs": [
    {
     "name": "stderr",
     "output_type": "stream",
     "text": [
      "[Parallel(n_jobs=-1)]: Using backend LokyBackend with 8 concurrent workers.\n"
     ]
    },
    {
     "name": "stdout",
     "output_type": "stream",
     "text": [
      "Fitting 5 folds for each of 100 candidates, totalling 500 fits\n"
     ]
    },
    {
     "name": "stderr",
     "output_type": "stream",
     "text": [
      "[Parallel(n_jobs=-1)]: Done  25 tasks      | elapsed:    7.7s\n",
      "[Parallel(n_jobs=-1)]: Done 146 tasks      | elapsed:   43.1s\n",
      "[Parallel(n_jobs=-1)]: Done 349 tasks      | elapsed:  1.5min\n",
      "[Parallel(n_jobs=-1)]: Done 500 out of 500 | elapsed:  2.2min finished\n"
     ]
    },
    {
     "name": "stdout",
     "output_type": "stream",
     "text": [
      "Best Model Parameters\n",
      "{'n_estimators': 200, 'min_samples_split': 2, 'min_samples_leaf': 1, 'max_depth': 3}\n",
      "Fitting 5 folds for each of 100 candidates, totalling 500 fits\n"
     ]
    },
    {
     "name": "stderr",
     "output_type": "stream",
     "text": [
      "[Parallel(n_jobs=-1)]: Using backend LokyBackend with 8 concurrent workers.\n",
      "[Parallel(n_jobs=-1)]: Done  25 tasks      | elapsed:    7.4s\n",
      "[Parallel(n_jobs=-1)]: Done 146 tasks      | elapsed:   39.1s\n",
      "[Parallel(n_jobs=-1)]: Done 349 tasks      | elapsed:  1.6min\n",
      "[Parallel(n_jobs=-1)]: Done 500 out of 500 | elapsed:  2.3min finished\n"
     ]
    },
    {
     "name": "stdout",
     "output_type": "stream",
     "text": [
      "Best Model Parameters\n",
      "{'n_estimators': 180, 'min_samples_split': 4, 'min_samples_leaf': 1, 'max_depth': 4}\n",
      "Fitting 5 folds for each of 100 candidates, totalling 500 fits\n"
     ]
    },
    {
     "name": "stderr",
     "output_type": "stream",
     "text": [
      "[Parallel(n_jobs=-1)]: Using backend LokyBackend with 8 concurrent workers.\n",
      "[Parallel(n_jobs=-1)]: Done  25 tasks      | elapsed:    4.6s\n",
      "[Parallel(n_jobs=-1)]: Done 146 tasks      | elapsed:   40.1s\n",
      "[Parallel(n_jobs=-1)]: Done 349 tasks      | elapsed:  1.6min\n",
      "[Parallel(n_jobs=-1)]: Done 500 out of 500 | elapsed:  2.4min finished\n"
     ]
    },
    {
     "name": "stdout",
     "output_type": "stream",
     "text": [
      "Best Model Parameters\n",
      "{'n_estimators': 170, 'min_samples_split': 4, 'min_samples_leaf': 1, 'max_depth': 3}\n",
      "Fitting 5 folds for each of 100 candidates, totalling 500 fits\n"
     ]
    },
    {
     "name": "stderr",
     "output_type": "stream",
     "text": [
      "[Parallel(n_jobs=-1)]: Using backend LokyBackend with 8 concurrent workers.\n",
      "[Parallel(n_jobs=-1)]: Done  25 tasks      | elapsed:    7.8s\n",
      "[Parallel(n_jobs=-1)]: Done 146 tasks      | elapsed:   34.5s\n",
      "[Parallel(n_jobs=-1)]: Done 349 tasks      | elapsed:  1.4min\n",
      "[Parallel(n_jobs=-1)]: Done 500 out of 500 | elapsed:  2.1min finished\n"
     ]
    },
    {
     "name": "stdout",
     "output_type": "stream",
     "text": [
      "Best Model Parameters\n",
      "{'n_estimators': 140, 'min_samples_split': 5, 'min_samples_leaf': 1, 'max_depth': 4}\n"
     ]
    }
   ],
   "source": [
    "# Optimise laser cutting room model\n",
    "lasercutting_model = train_ensemble_model(Xtrain, Ytrain['Model3_LaserCuttingRoom'])"
   ]
  },
  {
   "cell_type": "code",
   "execution_count": 13,
   "metadata": {},
   "outputs": [
    {
     "name": "stdout",
     "output_type": "stream",
     "text": [
      "Fitting 5 folds for each of 100 candidates, totalling 500 fits\n"
     ]
    },
    {
     "name": "stderr",
     "output_type": "stream",
     "text": [
      "[Parallel(n_jobs=-1)]: Using backend LokyBackend with 8 concurrent workers.\n",
      "[Parallel(n_jobs=-1)]: Done  25 tasks      | elapsed:    2.5s\n",
      "[Parallel(n_jobs=-1)]: Done 146 tasks      | elapsed:   14.9s\n",
      "[Parallel(n_jobs=-1)]: Done 349 tasks      | elapsed:   35.0s\n",
      "[Parallel(n_jobs=-1)]: Done 500 out of 500 | elapsed:   49.6s finished\n"
     ]
    },
    {
     "name": "stdout",
     "output_type": "stream",
     "text": [
      "Best Model Parameters\n",
      "{'n_estimators': 50, 'min_samples_split': 4, 'min_samples_leaf': 1, 'max_depth': 5}\n",
      "Fitting 5 folds for each of 100 candidates, totalling 500 fits\n"
     ]
    },
    {
     "name": "stderr",
     "output_type": "stream",
     "text": [
      "[Parallel(n_jobs=-1)]: Using backend LokyBackend with 8 concurrent workers.\n",
      "[Parallel(n_jobs=-1)]: Done  25 tasks      | elapsed:    3.1s\n",
      "[Parallel(n_jobs=-1)]: Done 146 tasks      | elapsed:   14.3s\n",
      "[Parallel(n_jobs=-1)]: Done 349 tasks      | elapsed:   35.7s\n",
      "[Parallel(n_jobs=-1)]: Done 500 out of 500 | elapsed:   49.1s finished\n"
     ]
    },
    {
     "name": "stdout",
     "output_type": "stream",
     "text": [
      "Best Model Parameters\n",
      "{'n_estimators': 100, 'min_samples_split': 4, 'min_samples_leaf': 3, 'max_depth': 5}\n",
      "Fitting 5 folds for each of 100 candidates, totalling 500 fits\n"
     ]
    },
    {
     "name": "stderr",
     "output_type": "stream",
     "text": [
      "[Parallel(n_jobs=-1)]: Using backend LokyBackend with 8 concurrent workers.\n",
      "[Parallel(n_jobs=-1)]: Done  25 tasks      | elapsed:    3.0s\n",
      "[Parallel(n_jobs=-1)]: Done 146 tasks      | elapsed:   15.6s\n",
      "[Parallel(n_jobs=-1)]: Done 349 tasks      | elapsed:   35.9s\n",
      "[Parallel(n_jobs=-1)]: Done 500 out of 500 | elapsed:   51.4s finished\n"
     ]
    },
    {
     "name": "stdout",
     "output_type": "stream",
     "text": [
      "Best Model Parameters\n",
      "{'n_estimators': 90, 'min_samples_split': 2, 'min_samples_leaf': 4, 'max_depth': 5}\n",
      "Fitting 5 folds for each of 100 candidates, totalling 500 fits\n"
     ]
    },
    {
     "name": "stderr",
     "output_type": "stream",
     "text": [
      "[Parallel(n_jobs=-1)]: Using backend LokyBackend with 8 concurrent workers.\n",
      "[Parallel(n_jobs=-1)]: Done  34 tasks      | elapsed:    3.6s\n",
      "[Parallel(n_jobs=-1)]: Done 170 tasks      | elapsed:   17.1s\n",
      "[Parallel(n_jobs=-1)]: Done 373 tasks      | elapsed:   35.7s\n",
      "[Parallel(n_jobs=-1)]: Done 500 out of 500 | elapsed:   47.1s finished\n"
     ]
    },
    {
     "name": "stdout",
     "output_type": "stream",
     "text": [
      "Best Model Parameters\n",
      "{'n_estimators': 90, 'min_samples_split': 4, 'min_samples_leaf': 4, 'max_depth': 5}\n",
      "Fitting 5 folds for each of 100 candidates, totalling 500 fits\n"
     ]
    },
    {
     "name": "stderr",
     "output_type": "stream",
     "text": [
      "[Parallel(n_jobs=-1)]: Using backend LokyBackend with 8 concurrent workers.\n",
      "[Parallel(n_jobs=-1)]: Done  25 tasks      | elapsed:    2.4s\n",
      "[Parallel(n_jobs=-1)]: Done 146 tasks      | elapsed:   15.1s\n",
      "[Parallel(n_jobs=-1)]: Done 349 tasks      | elapsed:   35.3s\n",
      "[Parallel(n_jobs=-1)]: Done 500 out of 500 | elapsed:   51.0s finished\n"
     ]
    },
    {
     "name": "stdout",
     "output_type": "stream",
     "text": [
      "Best Model Parameters\n",
      "{'n_estimators': 180, 'min_samples_split': 4, 'min_samples_leaf': 2, 'max_depth': 4}\n",
      "Fitting 5 folds for each of 100 candidates, totalling 500 fits\n"
     ]
    },
    {
     "name": "stderr",
     "output_type": "stream",
     "text": [
      "[Parallel(n_jobs=-1)]: Using backend LokyBackend with 8 concurrent workers.\n",
      "[Parallel(n_jobs=-1)]: Done  25 tasks      | elapsed:    3.6s\n",
      "[Parallel(n_jobs=-1)]: Done 146 tasks      | elapsed:   15.8s\n",
      "[Parallel(n_jobs=-1)]: Done 349 tasks      | elapsed:   38.3s\n",
      "[Parallel(n_jobs=-1)]: Done 500 out of 500 | elapsed:   55.2s finished\n"
     ]
    },
    {
     "name": "stdout",
     "output_type": "stream",
     "text": [
      "Best Model Parameters\n",
      "{'n_estimators': 180, 'min_samples_split': 4, 'min_samples_leaf': 3, 'max_depth': 4}\n",
      "Fitting 5 folds for each of 100 candidates, totalling 500 fits\n"
     ]
    },
    {
     "name": "stderr",
     "output_type": "stream",
     "text": [
      "[Parallel(n_jobs=-1)]: Using backend LokyBackend with 8 concurrent workers.\n",
      "[Parallel(n_jobs=-1)]: Done  25 tasks      | elapsed:    2.6s\n",
      "[Parallel(n_jobs=-1)]: Done 146 tasks      | elapsed:   14.5s\n",
      "[Parallel(n_jobs=-1)]: Done 349 tasks      | elapsed:   35.8s\n",
      "[Parallel(n_jobs=-1)]: Done 500 out of 500 | elapsed:   49.8s finished\n"
     ]
    },
    {
     "name": "stdout",
     "output_type": "stream",
     "text": [
      "Best Model Parameters\n",
      "{'n_estimators': 60, 'min_samples_split': 3, 'min_samples_leaf': 1, 'max_depth': 3}\n",
      "Fitting 5 folds for each of 100 candidates, totalling 500 fits\n"
     ]
    },
    {
     "name": "stderr",
     "output_type": "stream",
     "text": [
      "[Parallel(n_jobs=-1)]: Using backend LokyBackend with 8 concurrent workers.\n",
      "[Parallel(n_jobs=-1)]: Done  25 tasks      | elapsed:    2.7s\n",
      "[Parallel(n_jobs=-1)]: Done 146 tasks      | elapsed:   16.4s\n",
      "[Parallel(n_jobs=-1)]: Done 349 tasks      | elapsed:   37.4s\n",
      "[Parallel(n_jobs=-1)]: Done 500 out of 500 | elapsed:   52.4s finished\n"
     ]
    },
    {
     "name": "stdout",
     "output_type": "stream",
     "text": [
      "Best Model Parameters\n",
      "{'n_estimators': 70, 'min_samples_split': 5, 'min_samples_leaf': 2, 'max_depth': 3}\n",
      "Fitting 5 folds for each of 100 candidates, totalling 500 fits\n"
     ]
    },
    {
     "name": "stderr",
     "output_type": "stream",
     "text": [
      "[Parallel(n_jobs=-1)]: Using backend LokyBackend with 8 concurrent workers.\n",
      "[Parallel(n_jobs=-1)]: Done  25 tasks      | elapsed:    3.5s\n",
      "[Parallel(n_jobs=-1)]: Done 146 tasks      | elapsed:   14.9s\n",
      "[Parallel(n_jobs=-1)]: Done 349 tasks      | elapsed:   34.7s\n",
      "[Parallel(n_jobs=-1)]: Done 500 out of 500 | elapsed:   50.7s finished\n"
     ]
    },
    {
     "name": "stdout",
     "output_type": "stream",
     "text": [
      "Best Model Parameters\n",
      "{'n_estimators': 120, 'min_samples_split': 5, 'min_samples_leaf': 4, 'max_depth': 5}\n",
      "Fitting 5 folds for each of 100 candidates, totalling 500 fits\n"
     ]
    },
    {
     "name": "stderr",
     "output_type": "stream",
     "text": [
      "[Parallel(n_jobs=-1)]: Using backend LokyBackend with 8 concurrent workers.\n",
      "[Parallel(n_jobs=-1)]: Done  25 tasks      | elapsed:    4.0s\n",
      "[Parallel(n_jobs=-1)]: Done 146 tasks      | elapsed:   16.4s\n",
      "[Parallel(n_jobs=-1)]: Done 349 tasks      | elapsed:   37.1s\n",
      "[Parallel(n_jobs=-1)]: Done 500 out of 500 | elapsed:   53.1s finished\n"
     ]
    },
    {
     "name": "stdout",
     "output_type": "stream",
     "text": [
      "Best Model Parameters\n",
      "{'n_estimators': 160, 'min_samples_split': 5, 'min_samples_leaf': 2, 'max_depth': 4}\n",
      "Fitting 5 folds for each of 100 candidates, totalling 500 fits\n"
     ]
    },
    {
     "name": "stderr",
     "output_type": "stream",
     "text": [
      "[Parallel(n_jobs=-1)]: Using backend LokyBackend with 8 concurrent workers.\n",
      "[Parallel(n_jobs=-1)]: Done  34 tasks      | elapsed:    3.3s\n",
      "[Parallel(n_jobs=-1)]: Done 165 tasks      | elapsed:   16.3s\n",
      "[Parallel(n_jobs=-1)]: Done 368 tasks      | elapsed:   37.9s\n",
      "[Parallel(n_jobs=-1)]: Done 500 out of 500 | elapsed:   50.7s finished\n"
     ]
    },
    {
     "name": "stdout",
     "output_type": "stream",
     "text": [
      "Best Model Parameters\n",
      "{'n_estimators': 160, 'min_samples_split': 5, 'min_samples_leaf': 3, 'max_depth': 5}\n",
      "Fitting 5 folds for each of 100 candidates, totalling 500 fits\n"
     ]
    },
    {
     "name": "stderr",
     "output_type": "stream",
     "text": [
      "[Parallel(n_jobs=-1)]: Using backend LokyBackend with 8 concurrent workers.\n",
      "[Parallel(n_jobs=-1)]: Done  25 tasks      | elapsed:    3.9s\n",
      "[Parallel(n_jobs=-1)]: Done 146 tasks      | elapsed:   15.2s\n",
      "[Parallel(n_jobs=-1)]: Done 349 tasks      | elapsed:   34.4s\n",
      "[Parallel(n_jobs=-1)]: Done 500 out of 500 | elapsed:   50.1s finished\n"
     ]
    },
    {
     "name": "stdout",
     "output_type": "stream",
     "text": [
      "Best Model Parameters\n",
      "{'n_estimators': 160, 'min_samples_split': 2, 'min_samples_leaf': 5, 'max_depth': 5}\n",
      "Fitting 5 folds for each of 100 candidates, totalling 500 fits\n"
     ]
    },
    {
     "name": "stderr",
     "output_type": "stream",
     "text": [
      "[Parallel(n_jobs=-1)]: Using backend LokyBackend with 8 concurrent workers.\n",
      "[Parallel(n_jobs=-1)]: Done  34 tasks      | elapsed:    4.6s\n",
      "[Parallel(n_jobs=-1)]: Done 162 tasks      | elapsed:   15.7s\n",
      "[Parallel(n_jobs=-1)]: Done 365 tasks      | elapsed:   35.3s\n",
      "[Parallel(n_jobs=-1)]: Done 500 out of 500 | elapsed:   49.3s finished\n"
     ]
    },
    {
     "name": "stdout",
     "output_type": "stream",
     "text": [
      "Best Model Parameters\n",
      "{'n_estimators': 110, 'min_samples_split': 5, 'min_samples_leaf': 4, 'max_depth': 5}\n"
     ]
    }
   ],
   "source": [
    "# Optimise precision room model\n",
    "precision_model = train_ensemble_model(Xtrain, Ytrain['Model3_PrecisionRoom'])"
   ]
  },
  {
   "cell_type": "code",
   "execution_count": 14,
   "metadata": {},
   "outputs": [
    {
     "name": "stdout",
     "output_type": "stream",
     "text": [
      "Fitting 5 folds for each of 100 candidates, totalling 500 fits\n"
     ]
    },
    {
     "name": "stderr",
     "output_type": "stream",
     "text": [
      "[Parallel(n_jobs=-1)]: Using backend LokyBackend with 8 concurrent workers.\n",
      "[Parallel(n_jobs=-1)]: Done  25 tasks      | elapsed:    3.0s\n",
      "[Parallel(n_jobs=-1)]: Done 146 tasks      | elapsed:   16.2s\n",
      "[Parallel(n_jobs=-1)]: Done 349 tasks      | elapsed:   36.7s\n",
      "[Parallel(n_jobs=-1)]: Done 500 out of 500 | elapsed:   52.7s finished\n"
     ]
    },
    {
     "name": "stdout",
     "output_type": "stream",
     "text": [
      "Best Model Parameters\n",
      "{'n_estimators': 200, 'min_samples_split': 3, 'min_samples_leaf': 1, 'max_depth': 4}\n",
      "Fitting 5 folds for each of 100 candidates, totalling 500 fits\n"
     ]
    },
    {
     "name": "stderr",
     "output_type": "stream",
     "text": [
      "[Parallel(n_jobs=-1)]: Using backend LokyBackend with 8 concurrent workers.\n",
      "[Parallel(n_jobs=-1)]: Done  25 tasks      | elapsed:    3.0s\n",
      "[Parallel(n_jobs=-1)]: Done 146 tasks      | elapsed:   16.0s\n",
      "[Parallel(n_jobs=-1)]: Done 349 tasks      | elapsed:   38.9s\n",
      "[Parallel(n_jobs=-1)]: Done 500 out of 500 | elapsed:   57.7s finished\n"
     ]
    },
    {
     "name": "stdout",
     "output_type": "stream",
     "text": [
      "Best Model Parameters\n",
      "{'n_estimators': 140, 'min_samples_split': 5, 'min_samples_leaf': 5, 'max_depth': 5}\n",
      "Fitting 5 folds for each of 100 candidates, totalling 500 fits\n"
     ]
    },
    {
     "name": "stderr",
     "output_type": "stream",
     "text": [
      "[Parallel(n_jobs=-1)]: Using backend LokyBackend with 8 concurrent workers.\n",
      "[Parallel(n_jobs=-1)]: Done  25 tasks      | elapsed:    2.7s\n",
      "[Parallel(n_jobs=-1)]: Done 146 tasks      | elapsed:   17.1s\n",
      "[Parallel(n_jobs=-1)]: Done 349 tasks      | elapsed:   38.7s\n",
      "[Parallel(n_jobs=-1)]: Done 500 out of 500 | elapsed:   55.0s finished\n"
     ]
    },
    {
     "name": "stdout",
     "output_type": "stream",
     "text": [
      "Best Model Parameters\n",
      "{'n_estimators': 120, 'min_samples_split': 2, 'min_samples_leaf': 1, 'max_depth': 4}\n",
      "Fitting 5 folds for each of 100 candidates, totalling 500 fits\n"
     ]
    },
    {
     "name": "stderr",
     "output_type": "stream",
     "text": [
      "[Parallel(n_jobs=-1)]: Using backend LokyBackend with 8 concurrent workers.\n",
      "[Parallel(n_jobs=-1)]: Done  25 tasks      | elapsed:    2.5s\n",
      "[Parallel(n_jobs=-1)]: Done 146 tasks      | elapsed:   17.0s\n",
      "[Parallel(n_jobs=-1)]: Done 349 tasks      | elapsed:   37.1s\n",
      "[Parallel(n_jobs=-1)]: Done 500 out of 500 | elapsed:   52.8s finished\n"
     ]
    },
    {
     "name": "stdout",
     "output_type": "stream",
     "text": [
      "Best Model Parameters\n",
      "{'n_estimators': 190, 'min_samples_split': 2, 'min_samples_leaf': 1, 'max_depth': 2}\n",
      "Fitting 5 folds for each of 100 candidates, totalling 500 fits\n"
     ]
    },
    {
     "name": "stderr",
     "output_type": "stream",
     "text": [
      "[Parallel(n_jobs=-1)]: Using backend LokyBackend with 8 concurrent workers.\n",
      "[Parallel(n_jobs=-1)]: Done  25 tasks      | elapsed:    2.7s\n",
      "[Parallel(n_jobs=-1)]: Done 146 tasks      | elapsed:   18.4s\n",
      "[Parallel(n_jobs=-1)]: Done 349 tasks      | elapsed:   43.3s\n",
      "[Parallel(n_jobs=-1)]: Done 500 out of 500 | elapsed:   57.5s finished\n"
     ]
    },
    {
     "name": "stdout",
     "output_type": "stream",
     "text": [
      "Best Model Parameters\n",
      "{'n_estimators': 170, 'min_samples_split': 3, 'min_samples_leaf': 4, 'max_depth': 5}\n",
      "Fitting 5 folds for each of 100 candidates, totalling 500 fits\n"
     ]
    },
    {
     "name": "stderr",
     "output_type": "stream",
     "text": [
      "[Parallel(n_jobs=-1)]: Using backend LokyBackend with 8 concurrent workers.\n",
      "[Parallel(n_jobs=-1)]: Done  25 tasks      | elapsed:    1.8s\n",
      "[Parallel(n_jobs=-1)]: Done 146 tasks      | elapsed:   14.7s\n",
      "[Parallel(n_jobs=-1)]: Done 349 tasks      | elapsed:   37.7s\n",
      "[Parallel(n_jobs=-1)]: Done 500 out of 500 | elapsed:   55.0s finished\n"
     ]
    },
    {
     "name": "stdout",
     "output_type": "stream",
     "text": [
      "Best Model Parameters\n",
      "{'n_estimators': 130, 'min_samples_split': 4, 'min_samples_leaf': 2, 'max_depth': 4}\n",
      "Fitting 5 folds for each of 100 candidates, totalling 500 fits\n"
     ]
    },
    {
     "name": "stderr",
     "output_type": "stream",
     "text": [
      "[Parallel(n_jobs=-1)]: Using backend LokyBackend with 8 concurrent workers.\n",
      "[Parallel(n_jobs=-1)]: Done  25 tasks      | elapsed:    2.1s\n",
      "[Parallel(n_jobs=-1)]: Done 146 tasks      | elapsed:   18.6s\n",
      "[Parallel(n_jobs=-1)]: Done 349 tasks      | elapsed:   42.9s\n",
      "[Parallel(n_jobs=-1)]: Done 500 out of 500 | elapsed:  1.0min finished\n"
     ]
    },
    {
     "name": "stdout",
     "output_type": "stream",
     "text": [
      "Best Model Parameters\n",
      "{'n_estimators': 160, 'min_samples_split': 2, 'min_samples_leaf': 3, 'max_depth': 3}\n",
      "Fitting 5 folds for each of 100 candidates, totalling 500 fits\n"
     ]
    },
    {
     "name": "stderr",
     "output_type": "stream",
     "text": [
      "[Parallel(n_jobs=-1)]: Using backend LokyBackend with 8 concurrent workers.\n",
      "[Parallel(n_jobs=-1)]: Done  25 tasks      | elapsed:    2.6s\n",
      "[Parallel(n_jobs=-1)]: Done 146 tasks      | elapsed:   14.9s\n",
      "[Parallel(n_jobs=-1)]: Done 349 tasks      | elapsed:   38.0s\n",
      "[Parallel(n_jobs=-1)]: Done 500 out of 500 | elapsed:   54.2s finished\n"
     ]
    },
    {
     "name": "stdout",
     "output_type": "stream",
     "text": [
      "Best Model Parameters\n",
      "{'n_estimators': 200, 'min_samples_split': 4, 'min_samples_leaf': 4, 'max_depth': 2}\n",
      "Fitting 5 folds for each of 100 candidates, totalling 500 fits\n"
     ]
    },
    {
     "name": "stderr",
     "output_type": "stream",
     "text": [
      "[Parallel(n_jobs=-1)]: Using backend LokyBackend with 8 concurrent workers.\n",
      "[Parallel(n_jobs=-1)]: Done  25 tasks      | elapsed:    3.4s\n",
      "[Parallel(n_jobs=-1)]: Done 146 tasks      | elapsed:   16.6s\n",
      "[Parallel(n_jobs=-1)]: Done 349 tasks      | elapsed:   37.0s\n",
      "[Parallel(n_jobs=-1)]: Done 500 out of 500 | elapsed:   53.3s finished\n"
     ]
    },
    {
     "name": "stdout",
     "output_type": "stream",
     "text": [
      "Best Model Parameters\n",
      "{'n_estimators': 150, 'min_samples_split': 5, 'min_samples_leaf': 5, 'max_depth': 5}\n",
      "Fitting 5 folds for each of 100 candidates, totalling 500 fits\n"
     ]
    },
    {
     "name": "stderr",
     "output_type": "stream",
     "text": [
      "[Parallel(n_jobs=-1)]: Using backend LokyBackend with 8 concurrent workers.\n",
      "[Parallel(n_jobs=-1)]: Done  25 tasks      | elapsed:    3.6s\n",
      "[Parallel(n_jobs=-1)]: Done 146 tasks      | elapsed:   17.4s\n",
      "[Parallel(n_jobs=-1)]: Done 349 tasks      | elapsed:   38.6s\n",
      "[Parallel(n_jobs=-1)]: Done 500 out of 500 | elapsed:   54.5s finished\n"
     ]
    },
    {
     "name": "stdout",
     "output_type": "stream",
     "text": [
      "Best Model Parameters\n",
      "{'n_estimators': 200, 'min_samples_split': 2, 'min_samples_leaf': 4, 'max_depth': 4}\n",
      "Fitting 5 folds for each of 100 candidates, totalling 500 fits\n"
     ]
    },
    {
     "name": "stderr",
     "output_type": "stream",
     "text": [
      "[Parallel(n_jobs=-1)]: Using backend LokyBackend with 8 concurrent workers.\n",
      "[Parallel(n_jobs=-1)]: Done  25 tasks      | elapsed:    3.8s\n",
      "[Parallel(n_jobs=-1)]: Done 146 tasks      | elapsed:   18.7s\n",
      "[Parallel(n_jobs=-1)]: Done 349 tasks      | elapsed:   40.9s\n",
      "[Parallel(n_jobs=-1)]: Done 500 out of 500 | elapsed:   59.4s finished\n"
     ]
    },
    {
     "name": "stdout",
     "output_type": "stream",
     "text": [
      "Best Model Parameters\n",
      "{'n_estimators': 190, 'min_samples_split': 3, 'min_samples_leaf': 1, 'max_depth': 4}\n",
      "Fitting 5 folds for each of 100 candidates, totalling 500 fits\n"
     ]
    },
    {
     "name": "stderr",
     "output_type": "stream",
     "text": [
      "[Parallel(n_jobs=-1)]: Using backend LokyBackend with 8 concurrent workers.\n",
      "[Parallel(n_jobs=-1)]: Done  25 tasks      | elapsed:    2.3s\n",
      "[Parallel(n_jobs=-1)]: Done 146 tasks      | elapsed:   14.8s\n",
      "[Parallel(n_jobs=-1)]: Done 349 tasks      | elapsed:   36.8s\n",
      "[Parallel(n_jobs=-1)]: Done 500 out of 500 | elapsed:   54.9s finished\n"
     ]
    },
    {
     "name": "stdout",
     "output_type": "stream",
     "text": [
      "Best Model Parameters\n",
      "{'n_estimators': 50, 'min_samples_split': 5, 'min_samples_leaf': 5, 'max_depth': 4}\n",
      "Fitting 5 folds for each of 100 candidates, totalling 500 fits\n"
     ]
    },
    {
     "name": "stderr",
     "output_type": "stream",
     "text": [
      "[Parallel(n_jobs=-1)]: Using backend LokyBackend with 8 concurrent workers.\n",
      "[Parallel(n_jobs=-1)]: Done  25 tasks      | elapsed:    3.2s\n",
      "[Parallel(n_jobs=-1)]: Done 146 tasks      | elapsed:   16.5s\n",
      "[Parallel(n_jobs=-1)]: Done 349 tasks      | elapsed:   39.1s\n",
      "[Parallel(n_jobs=-1)]: Done 500 out of 500 | elapsed:   57.0s finished\n"
     ]
    },
    {
     "name": "stdout",
     "output_type": "stream",
     "text": [
      "Best Model Parameters\n",
      "{'n_estimators': 200, 'min_samples_split': 2, 'min_samples_leaf': 2, 'max_depth': 3}\n",
      "Fitting 5 folds for each of 100 candidates, totalling 500 fits\n"
     ]
    },
    {
     "name": "stderr",
     "output_type": "stream",
     "text": [
      "[Parallel(n_jobs=-1)]: Using backend LokyBackend with 8 concurrent workers.\n",
      "[Parallel(n_jobs=-1)]: Done  25 tasks      | elapsed:    2.6s\n",
      "[Parallel(n_jobs=-1)]: Done 146 tasks      | elapsed:   16.2s\n",
      "[Parallel(n_jobs=-1)]: Done 349 tasks      | elapsed:   37.9s\n",
      "[Parallel(n_jobs=-1)]: Done 500 out of 500 | elapsed:   53.0s finished\n"
     ]
    },
    {
     "name": "stdout",
     "output_type": "stream",
     "text": [
      "Best Model Parameters\n",
      "{'n_estimators': 130, 'min_samples_split': 5, 'min_samples_leaf': 2, 'max_depth': 4}\n"
     ]
    }
   ],
   "source": [
    "# Optimise pantry other model\n",
    "pantry_other_model = train_ensemble_model(Xtrain, Ytrain['Model3_Pantry_Other'])"
   ]
  },
  {
   "cell_type": "code",
   "execution_count": 15,
   "metadata": {},
   "outputs": [
    {
     "name": "stdout",
     "output_type": "stream",
     "text": [
      "Fitting 5 folds for each of 100 candidates, totalling 500 fits\n"
     ]
    },
    {
     "name": "stderr",
     "output_type": "stream",
     "text": [
      "[Parallel(n_jobs=-1)]: Using backend LokyBackend with 8 concurrent workers.\n",
      "[Parallel(n_jobs=-1)]: Done  25 tasks      | elapsed:    2.4s\n",
      "[Parallel(n_jobs=-1)]: Done 146 tasks      | elapsed:   15.0s\n",
      "[Parallel(n_jobs=-1)]: Done 349 tasks      | elapsed:   37.2s\n",
      "[Parallel(n_jobs=-1)]: Done 500 out of 500 | elapsed:   54.5s finished\n"
     ]
    },
    {
     "name": "stdout",
     "output_type": "stream",
     "text": [
      "Best Model Parameters\n",
      "{'n_estimators': 200, 'min_samples_split': 2, 'min_samples_leaf': 1, 'max_depth': 3}\n",
      "Fitting 5 folds for each of 100 candidates, totalling 500 fits\n"
     ]
    },
    {
     "name": "stderr",
     "output_type": "stream",
     "text": [
      "[Parallel(n_jobs=-1)]: Using backend LokyBackend with 8 concurrent workers.\n",
      "[Parallel(n_jobs=-1)]: Done  25 tasks      | elapsed:    3.4s\n",
      "[Parallel(n_jobs=-1)]: Done 146 tasks      | elapsed:   17.4s\n",
      "[Parallel(n_jobs=-1)]: Done 349 tasks      | elapsed:   37.8s\n",
      "[Parallel(n_jobs=-1)]: Done 500 out of 500 | elapsed:   53.3s finished\n"
     ]
    },
    {
     "name": "stdout",
     "output_type": "stream",
     "text": [
      "Best Model Parameters\n",
      "{'n_estimators': 200, 'min_samples_split': 4, 'min_samples_leaf': 5, 'max_depth': 4}\n",
      "Fitting 5 folds for each of 100 candidates, totalling 500 fits\n"
     ]
    },
    {
     "name": "stderr",
     "output_type": "stream",
     "text": [
      "[Parallel(n_jobs=-1)]: Using backend LokyBackend with 8 concurrent workers.\n",
      "[Parallel(n_jobs=-1)]: Done  25 tasks      | elapsed:    3.1s\n",
      "[Parallel(n_jobs=-1)]: Done 146 tasks      | elapsed:   14.3s\n",
      "[Parallel(n_jobs=-1)]: Done 349 tasks      | elapsed:   38.7s\n",
      "[Parallel(n_jobs=-1)]: Done 500 out of 500 | elapsed:   54.6s finished\n"
     ]
    },
    {
     "name": "stdout",
     "output_type": "stream",
     "text": [
      "Best Model Parameters\n",
      "{'n_estimators': 190, 'min_samples_split': 2, 'min_samples_leaf': 2, 'max_depth': 4}\n",
      "Fitting 5 folds for each of 100 candidates, totalling 500 fits\n"
     ]
    },
    {
     "name": "stderr",
     "output_type": "stream",
     "text": [
      "[Parallel(n_jobs=-1)]: Using backend LokyBackend with 8 concurrent workers.\n",
      "[Parallel(n_jobs=-1)]: Done  25 tasks      | elapsed:    2.9s\n",
      "[Parallel(n_jobs=-1)]: Done 146 tasks      | elapsed:   17.0s\n",
      "[Parallel(n_jobs=-1)]: Done 349 tasks      | elapsed:   40.6s\n",
      "[Parallel(n_jobs=-1)]: Done 500 out of 500 | elapsed:   56.9s finished\n"
     ]
    },
    {
     "name": "stdout",
     "output_type": "stream",
     "text": [
      "Best Model Parameters\n",
      "{'n_estimators': 110, 'min_samples_split': 3, 'min_samples_leaf': 5, 'max_depth': 5}\n",
      "Fitting 5 folds for each of 100 candidates, totalling 500 fits\n"
     ]
    },
    {
     "name": "stderr",
     "output_type": "stream",
     "text": [
      "[Parallel(n_jobs=-1)]: Using backend LokyBackend with 8 concurrent workers.\n",
      "[Parallel(n_jobs=-1)]: Done  25 tasks      | elapsed:    2.8s\n",
      "[Parallel(n_jobs=-1)]: Done 146 tasks      | elapsed:   14.9s\n",
      "[Parallel(n_jobs=-1)]: Done 349 tasks      | elapsed:   35.8s\n",
      "[Parallel(n_jobs=-1)]: Done 500 out of 500 | elapsed:   49.9s finished\n"
     ]
    },
    {
     "name": "stdout",
     "output_type": "stream",
     "text": [
      "Best Model Parameters\n",
      "{'n_estimators': 170, 'min_samples_split': 3, 'min_samples_leaf': 4, 'max_depth': 4}\n",
      "Fitting 5 folds for each of 100 candidates, totalling 500 fits\n"
     ]
    },
    {
     "name": "stderr",
     "output_type": "stream",
     "text": [
      "[Parallel(n_jobs=-1)]: Using backend LokyBackend with 8 concurrent workers.\n",
      "[Parallel(n_jobs=-1)]: Done  25 tasks      | elapsed:    2.4s\n",
      "[Parallel(n_jobs=-1)]: Done 146 tasks      | elapsed:   14.5s\n",
      "[Parallel(n_jobs=-1)]: Done 349 tasks      | elapsed:   36.6s\n",
      "[Parallel(n_jobs=-1)]: Done 500 out of 500 | elapsed:   52.6s finished\n"
     ]
    },
    {
     "name": "stdout",
     "output_type": "stream",
     "text": [
      "Best Model Parameters\n",
      "{'n_estimators': 150, 'min_samples_split': 2, 'min_samples_leaf': 5, 'max_depth': 5}\n",
      "Fitting 5 folds for each of 100 candidates, totalling 500 fits\n"
     ]
    },
    {
     "name": "stderr",
     "output_type": "stream",
     "text": [
      "[Parallel(n_jobs=-1)]: Using backend LokyBackend with 8 concurrent workers.\n",
      "[Parallel(n_jobs=-1)]: Done  25 tasks      | elapsed:    2.4s\n",
      "[Parallel(n_jobs=-1)]: Done 146 tasks      | elapsed:   14.2s\n",
      "[Parallel(n_jobs=-1)]: Done 349 tasks      | elapsed:   35.2s\n",
      "[Parallel(n_jobs=-1)]: Done 500 out of 500 | elapsed:   50.4s finished\n"
     ]
    },
    {
     "name": "stdout",
     "output_type": "stream",
     "text": [
      "Best Model Parameters\n",
      "{'n_estimators': 100, 'min_samples_split': 4, 'min_samples_leaf': 2, 'max_depth': 4}\n",
      "Fitting 5 folds for each of 100 candidates, totalling 500 fits\n"
     ]
    },
    {
     "name": "stderr",
     "output_type": "stream",
     "text": [
      "[Parallel(n_jobs=-1)]: Using backend LokyBackend with 8 concurrent workers.\n",
      "[Parallel(n_jobs=-1)]: Done  25 tasks      | elapsed:    2.6s\n",
      "[Parallel(n_jobs=-1)]: Done 146 tasks      | elapsed:   15.0s\n",
      "[Parallel(n_jobs=-1)]: Done 349 tasks      | elapsed:   37.2s\n",
      "[Parallel(n_jobs=-1)]: Done 500 out of 500 | elapsed:   54.7s finished\n"
     ]
    },
    {
     "name": "stdout",
     "output_type": "stream",
     "text": [
      "Best Model Parameters\n",
      "{'n_estimators': 200, 'min_samples_split': 2, 'min_samples_leaf': 1, 'max_depth': 5}\n",
      "Fitting 5 folds for each of 100 candidates, totalling 500 fits\n"
     ]
    },
    {
     "name": "stderr",
     "output_type": "stream",
     "text": [
      "[Parallel(n_jobs=-1)]: Using backend LokyBackend with 8 concurrent workers.\n",
      "[Parallel(n_jobs=-1)]: Done  25 tasks      | elapsed:    2.0s\n",
      "[Parallel(n_jobs=-1)]: Done 146 tasks      | elapsed:   15.1s\n",
      "[Parallel(n_jobs=-1)]: Done 349 tasks      | elapsed:   35.3s\n",
      "[Parallel(n_jobs=-1)]: Done 500 out of 500 | elapsed:   52.2s finished\n"
     ]
    },
    {
     "name": "stdout",
     "output_type": "stream",
     "text": [
      "Best Model Parameters\n",
      "{'n_estimators': 160, 'min_samples_split': 4, 'min_samples_leaf': 2, 'max_depth': 4}\n",
      "Fitting 5 folds for each of 100 candidates, totalling 500 fits\n"
     ]
    },
    {
     "name": "stderr",
     "output_type": "stream",
     "text": [
      "[Parallel(n_jobs=-1)]: Using backend LokyBackend with 8 concurrent workers.\n",
      "[Parallel(n_jobs=-1)]: Done  25 tasks      | elapsed:    2.0s\n",
      "[Parallel(n_jobs=-1)]: Done 146 tasks      | elapsed:   14.0s\n",
      "[Parallel(n_jobs=-1)]: Done 349 tasks      | elapsed:   33.1s\n",
      "[Parallel(n_jobs=-1)]: Done 500 out of 500 | elapsed:   49.2s finished\n"
     ]
    },
    {
     "name": "stdout",
     "output_type": "stream",
     "text": [
      "Best Model Parameters\n",
      "{'n_estimators': 160, 'min_samples_split': 3, 'min_samples_leaf': 5, 'max_depth': 5}\n",
      "Fitting 5 folds for each of 100 candidates, totalling 500 fits\n"
     ]
    },
    {
     "name": "stderr",
     "output_type": "stream",
     "text": [
      "[Parallel(n_jobs=-1)]: Using backend LokyBackend with 8 concurrent workers.\n",
      "[Parallel(n_jobs=-1)]: Done  25 tasks      | elapsed:    4.0s\n",
      "[Parallel(n_jobs=-1)]: Done 146 tasks      | elapsed:   19.0s\n",
      "[Parallel(n_jobs=-1)]: Done 349 tasks      | elapsed:   40.7s\n",
      "[Parallel(n_jobs=-1)]: Done 500 out of 500 | elapsed:   56.3s finished\n"
     ]
    },
    {
     "name": "stdout",
     "output_type": "stream",
     "text": [
      "Best Model Parameters\n",
      "{'n_estimators': 120, 'min_samples_split': 2, 'min_samples_leaf': 3, 'max_depth': 4}\n",
      "Fitting 5 folds for each of 100 candidates, totalling 500 fits\n"
     ]
    },
    {
     "name": "stderr",
     "output_type": "stream",
     "text": [
      "[Parallel(n_jobs=-1)]: Using backend LokyBackend with 8 concurrent workers.\n",
      "[Parallel(n_jobs=-1)]: Done  25 tasks      | elapsed:    2.8s\n",
      "[Parallel(n_jobs=-1)]: Done 146 tasks      | elapsed:   15.6s\n",
      "[Parallel(n_jobs=-1)]: Done 349 tasks      | elapsed:   36.8s\n",
      "[Parallel(n_jobs=-1)]: Done 500 out of 500 | elapsed:   51.9s finished\n"
     ]
    },
    {
     "name": "stdout",
     "output_type": "stream",
     "text": [
      "Best Model Parameters\n",
      "{'n_estimators': 120, 'min_samples_split': 5, 'min_samples_leaf': 5, 'max_depth': 3}\n",
      "Fitting 5 folds for each of 100 candidates, totalling 500 fits\n"
     ]
    },
    {
     "name": "stderr",
     "output_type": "stream",
     "text": [
      "[Parallel(n_jobs=-1)]: Using backend LokyBackend with 8 concurrent workers.\n",
      "[Parallel(n_jobs=-1)]: Done  25 tasks      | elapsed:    2.6s\n",
      "[Parallel(n_jobs=-1)]: Done 146 tasks      | elapsed:   15.6s\n",
      "[Parallel(n_jobs=-1)]: Done 349 tasks      | elapsed:   39.0s\n",
      "[Parallel(n_jobs=-1)]: Done 500 out of 500 | elapsed:   56.0s finished\n"
     ]
    },
    {
     "name": "stdout",
     "output_type": "stream",
     "text": [
      "Best Model Parameters\n",
      "{'n_estimators': 180, 'min_samples_split': 4, 'min_samples_leaf': 1, 'max_depth': 5}\n",
      "Fitting 5 folds for each of 100 candidates, totalling 500 fits\n"
     ]
    },
    {
     "name": "stderr",
     "output_type": "stream",
     "text": [
      "[Parallel(n_jobs=-1)]: Using backend LokyBackend with 8 concurrent workers.\n",
      "[Parallel(n_jobs=-1)]: Done  25 tasks      | elapsed:    2.8s\n",
      "[Parallel(n_jobs=-1)]: Done 146 tasks      | elapsed:   13.4s\n",
      "[Parallel(n_jobs=-1)]: Done 349 tasks      | elapsed:   35.6s\n",
      "[Parallel(n_jobs=-1)]: Done 500 out of 500 | elapsed:   49.9s finished\n"
     ]
    },
    {
     "name": "stdout",
     "output_type": "stream",
     "text": [
      "Best Model Parameters\n",
      "{'n_estimators': 120, 'min_samples_split': 3, 'min_samples_leaf': 2, 'max_depth': 5}\n"
     ]
    }
   ],
   "source": [
    "# Optimise fridge and coffeemachine model\n",
    "fridgecoffeemachine_model = train_ensemble_model(Xtrain, Ytrain['Model3_FridgeCoffeeMachine'])"
   ]
  },
  {
   "cell_type": "code",
   "execution_count": 16,
   "metadata": {},
   "outputs": [
    {
     "name": "stdout",
     "output_type": "stream",
     "text": [
      "Fitting 5 folds for each of 100 candidates, totalling 500 fits\n"
     ]
    },
    {
     "name": "stderr",
     "output_type": "stream",
     "text": [
      "[Parallel(n_jobs=-1)]: Using backend LokyBackend with 8 concurrent workers.\n",
      "[Parallel(n_jobs=-1)]: Done  25 tasks      | elapsed:    3.2s\n",
      "[Parallel(n_jobs=-1)]: Done 146 tasks      | elapsed:   13.9s\n",
      "[Parallel(n_jobs=-1)]: Done 349 tasks      | elapsed:   31.3s\n",
      "[Parallel(n_jobs=-1)]: Done 500 out of 500 | elapsed:   44.9s finished\n"
     ]
    },
    {
     "name": "stdout",
     "output_type": "stream",
     "text": [
      "Best Model Parameters\n",
      "{'n_estimators': 200, 'min_samples_split': 2, 'min_samples_leaf': 5, 'max_depth': 2}\n",
      "Fitting 5 folds for each of 100 candidates, totalling 500 fits\n"
     ]
    },
    {
     "name": "stderr",
     "output_type": "stream",
     "text": [
      "[Parallel(n_jobs=-1)]: Using backend LokyBackend with 8 concurrent workers.\n",
      "[Parallel(n_jobs=-1)]: Done  34 tasks      | elapsed:    2.9s\n",
      "[Parallel(n_jobs=-1)]: Done 172 tasks      | elapsed:   15.0s\n",
      "[Parallel(n_jobs=-1)]: Done 375 tasks      | elapsed:   31.6s\n",
      "[Parallel(n_jobs=-1)]: Done 500 out of 500 | elapsed:   41.5s finished\n"
     ]
    },
    {
     "name": "stdout",
     "output_type": "stream",
     "text": [
      "Best Model Parameters\n",
      "{'n_estimators': 200, 'min_samples_split': 3, 'min_samples_leaf': 5, 'max_depth': 5}\n",
      "Fitting 5 folds for each of 100 candidates, totalling 500 fits\n"
     ]
    },
    {
     "name": "stderr",
     "output_type": "stream",
     "text": [
      "[Parallel(n_jobs=-1)]: Using backend LokyBackend with 8 concurrent workers.\n",
      "[Parallel(n_jobs=-1)]: Done  25 tasks      | elapsed:    2.6s\n",
      "[Parallel(n_jobs=-1)]: Done 146 tasks      | elapsed:   13.9s\n",
      "[Parallel(n_jobs=-1)]: Done 349 tasks      | elapsed:   31.3s\n",
      "[Parallel(n_jobs=-1)]: Done 500 out of 500 | elapsed:   45.2s finished\n"
     ]
    },
    {
     "name": "stdout",
     "output_type": "stream",
     "text": [
      "Best Model Parameters\n",
      "{'n_estimators': 170, 'min_samples_split': 5, 'min_samples_leaf': 3, 'max_depth': 4}\n",
      "Fitting 5 folds for each of 100 candidates, totalling 500 fits\n"
     ]
    },
    {
     "name": "stderr",
     "output_type": "stream",
     "text": [
      "[Parallel(n_jobs=-1)]: Using backend LokyBackend with 8 concurrent workers.\n",
      "[Parallel(n_jobs=-1)]: Done  34 tasks      | elapsed:    2.9s\n",
      "[Parallel(n_jobs=-1)]: Done 169 tasks      | elapsed:   12.9s\n",
      "[Parallel(n_jobs=-1)]: Done 372 tasks      | elapsed:   28.2s\n",
      "[Parallel(n_jobs=-1)]: Done 500 out of 500 | elapsed:   38.0s finished\n"
     ]
    },
    {
     "name": "stdout",
     "output_type": "stream",
     "text": [
      "Best Model Parameters\n",
      "{'n_estimators': 150, 'min_samples_split': 2, 'min_samples_leaf': 3, 'max_depth': 5}\n",
      "Fitting 5 folds for each of 100 candidates, totalling 500 fits\n"
     ]
    },
    {
     "name": "stderr",
     "output_type": "stream",
     "text": [
      "[Parallel(n_jobs=-1)]: Using backend LokyBackend with 8 concurrent workers.\n",
      "[Parallel(n_jobs=-1)]: Done  25 tasks      | elapsed:    2.0s\n",
      "[Parallel(n_jobs=-1)]: Done 146 tasks      | elapsed:   11.3s\n",
      "[Parallel(n_jobs=-1)]: Done 349 tasks      | elapsed:   27.4s\n",
      "[Parallel(n_jobs=-1)]: Done 500 out of 500 | elapsed:   39.6s finished\n"
     ]
    },
    {
     "name": "stdout",
     "output_type": "stream",
     "text": [
      "Best Model Parameters\n",
      "{'n_estimators': 190, 'min_samples_split': 4, 'min_samples_leaf': 1, 'max_depth': 4}\n",
      "Fitting 5 folds for each of 100 candidates, totalling 500 fits\n"
     ]
    },
    {
     "name": "stderr",
     "output_type": "stream",
     "text": [
      "[Parallel(n_jobs=-1)]: Using backend LokyBackend with 8 concurrent workers.\n",
      "[Parallel(n_jobs=-1)]: Done  25 tasks      | elapsed:    2.2s\n",
      "[Parallel(n_jobs=-1)]: Done 146 tasks      | elapsed:   12.6s\n",
      "[Parallel(n_jobs=-1)]: Done 349 tasks      | elapsed:   30.2s\n",
      "[Parallel(n_jobs=-1)]: Done 500 out of 500 | elapsed:   43.2s finished\n"
     ]
    },
    {
     "name": "stdout",
     "output_type": "stream",
     "text": [
      "Best Model Parameters\n",
      "{'n_estimators': 130, 'min_samples_split': 3, 'min_samples_leaf': 5, 'max_depth': 4}\n",
      "Fitting 5 folds for each of 100 candidates, totalling 500 fits\n"
     ]
    },
    {
     "name": "stderr",
     "output_type": "stream",
     "text": [
      "[Parallel(n_jobs=-1)]: Using backend LokyBackend with 8 concurrent workers.\n",
      "[Parallel(n_jobs=-1)]: Done  34 tasks      | elapsed:    2.4s\n",
      "[Parallel(n_jobs=-1)]: Done 176 tasks      | elapsed:   14.9s\n",
      "[Parallel(n_jobs=-1)]: Done 379 tasks      | elapsed:   31.4s\n",
      "[Parallel(n_jobs=-1)]: Done 500 out of 500 | elapsed:   42.0s finished\n"
     ]
    },
    {
     "name": "stdout",
     "output_type": "stream",
     "text": [
      "Best Model Parameters\n",
      "{'n_estimators': 120, 'min_samples_split': 4, 'min_samples_leaf': 5, 'max_depth': 5}\n",
      "Fitting 5 folds for each of 100 candidates, totalling 500 fits\n"
     ]
    },
    {
     "name": "stderr",
     "output_type": "stream",
     "text": [
      "[Parallel(n_jobs=-1)]: Using backend LokyBackend with 8 concurrent workers.\n",
      "[Parallel(n_jobs=-1)]: Done  25 tasks      | elapsed:    1.9s\n",
      "[Parallel(n_jobs=-1)]: Done 146 tasks      | elapsed:   11.1s\n",
      "[Parallel(n_jobs=-1)]: Done 349 tasks      | elapsed:   28.1s\n",
      "[Parallel(n_jobs=-1)]: Done 500 out of 500 | elapsed:   39.7s finished\n"
     ]
    },
    {
     "name": "stdout",
     "output_type": "stream",
     "text": [
      "Best Model Parameters\n",
      "{'n_estimators': 130, 'min_samples_split': 4, 'min_samples_leaf': 3, 'max_depth': 3}\n",
      "Fitting 5 folds for each of 100 candidates, totalling 500 fits\n"
     ]
    },
    {
     "name": "stderr",
     "output_type": "stream",
     "text": [
      "[Parallel(n_jobs=-1)]: Using backend LokyBackend with 8 concurrent workers.\n",
      "[Parallel(n_jobs=-1)]: Done  25 tasks      | elapsed:    2.3s\n",
      "[Parallel(n_jobs=-1)]: Done 146 tasks      | elapsed:   13.1s\n",
      "[Parallel(n_jobs=-1)]: Done 349 tasks      | elapsed:   30.8s\n",
      "[Parallel(n_jobs=-1)]: Done 500 out of 500 | elapsed:   44.6s finished\n"
     ]
    },
    {
     "name": "stdout",
     "output_type": "stream",
     "text": [
      "Best Model Parameters\n",
      "{'n_estimators': 170, 'min_samples_split': 2, 'min_samples_leaf': 3, 'max_depth': 5}\n",
      "Fitting 5 folds for each of 100 candidates, totalling 500 fits\n"
     ]
    },
    {
     "name": "stderr",
     "output_type": "stream",
     "text": [
      "[Parallel(n_jobs=-1)]: Using backend LokyBackend with 8 concurrent workers.\n",
      "[Parallel(n_jobs=-1)]: Done  25 tasks      | elapsed:    2.0s\n",
      "[Parallel(n_jobs=-1)]: Done 146 tasks      | elapsed:   13.1s\n",
      "[Parallel(n_jobs=-1)]: Done 349 tasks      | elapsed:   29.8s\n",
      "[Parallel(n_jobs=-1)]: Done 500 out of 500 | elapsed:   41.9s finished\n"
     ]
    },
    {
     "name": "stdout",
     "output_type": "stream",
     "text": [
      "Best Model Parameters\n",
      "{'n_estimators': 180, 'min_samples_split': 4, 'min_samples_leaf': 1, 'max_depth': 4}\n",
      "Fitting 5 folds for each of 100 candidates, totalling 500 fits\n"
     ]
    },
    {
     "name": "stderr",
     "output_type": "stream",
     "text": [
      "[Parallel(n_jobs=-1)]: Using backend LokyBackend with 8 concurrent workers.\n",
      "[Parallel(n_jobs=-1)]: Done  25 tasks      | elapsed:    2.6s\n",
      "[Parallel(n_jobs=-1)]: Done 146 tasks      | elapsed:   13.0s\n",
      "[Parallel(n_jobs=-1)]: Done 349 tasks      | elapsed:   30.8s\n",
      "[Parallel(n_jobs=-1)]: Done 500 out of 500 | elapsed:   44.0s finished\n"
     ]
    },
    {
     "name": "stdout",
     "output_type": "stream",
     "text": [
      "Best Model Parameters\n",
      "{'n_estimators': 130, 'min_samples_split': 5, 'min_samples_leaf': 1, 'max_depth': 5}\n",
      "Fitting 5 folds for each of 100 candidates, totalling 500 fits\n"
     ]
    },
    {
     "name": "stderr",
     "output_type": "stream",
     "text": [
      "[Parallel(n_jobs=-1)]: Using backend LokyBackend with 8 concurrent workers.\n",
      "[Parallel(n_jobs=-1)]: Done  34 tasks      | elapsed:    3.2s\n",
      "[Parallel(n_jobs=-1)]: Done 162 tasks      | elapsed:   13.1s\n",
      "[Parallel(n_jobs=-1)]: Done 365 tasks      | elapsed:   31.2s\n",
      "[Parallel(n_jobs=-1)]: Done 500 out of 500 | elapsed:   42.4s finished\n"
     ]
    },
    {
     "name": "stdout",
     "output_type": "stream",
     "text": [
      "Best Model Parameters\n",
      "{'n_estimators': 180, 'min_samples_split': 5, 'min_samples_leaf': 2, 'max_depth': 3}\n",
      "Fitting 5 folds for each of 100 candidates, totalling 500 fits\n"
     ]
    },
    {
     "name": "stderr",
     "output_type": "stream",
     "text": [
      "[Parallel(n_jobs=-1)]: Using backend LokyBackend with 8 concurrent workers.\n",
      "[Parallel(n_jobs=-1)]: Done  25 tasks      | elapsed:    2.9s\n",
      "[Parallel(n_jobs=-1)]: Done 146 tasks      | elapsed:   13.1s\n",
      "[Parallel(n_jobs=-1)]: Done 349 tasks      | elapsed:   31.1s\n",
      "[Parallel(n_jobs=-1)]: Done 500 out of 500 | elapsed:   45.1s finished\n"
     ]
    },
    {
     "name": "stdout",
     "output_type": "stream",
     "text": [
      "Best Model Parameters\n",
      "{'n_estimators': 180, 'min_samples_split': 3, 'min_samples_leaf': 5, 'max_depth': 2}\n",
      "Fitting 5 folds for each of 100 candidates, totalling 500 fits\n"
     ]
    },
    {
     "name": "stderr",
     "output_type": "stream",
     "text": [
      "[Parallel(n_jobs=-1)]: Using backend LokyBackend with 8 concurrent workers.\n",
      "[Parallel(n_jobs=-1)]: Done  25 tasks      | elapsed:    1.5s\n",
      "[Parallel(n_jobs=-1)]: Done 146 tasks      | elapsed:   12.1s\n",
      "[Parallel(n_jobs=-1)]: Done 349 tasks      | elapsed:   29.0s\n",
      "[Parallel(n_jobs=-1)]: Done 500 out of 500 | elapsed:   41.1s finished\n"
     ]
    },
    {
     "name": "stdout",
     "output_type": "stream",
     "text": [
      "Best Model Parameters\n",
      "{'n_estimators': 190, 'min_samples_split': 2, 'min_samples_leaf': 1, 'max_depth': 5}\n",
      "Fitting 5 folds for each of 100 candidates, totalling 500 fits\n"
     ]
    },
    {
     "name": "stderr",
     "output_type": "stream",
     "text": [
      "[Parallel(n_jobs=-1)]: Using backend LokyBackend with 8 concurrent workers.\n",
      "[Parallel(n_jobs=-1)]: Done  25 tasks      | elapsed:    2.6s\n",
      "[Parallel(n_jobs=-1)]: Done 146 tasks      | elapsed:   14.2s\n",
      "[Parallel(n_jobs=-1)]: Done 349 tasks      | elapsed:   32.3s\n",
      "[Parallel(n_jobs=-1)]: Done 500 out of 500 | elapsed:   45.7s finished\n"
     ]
    },
    {
     "name": "stdout",
     "output_type": "stream",
     "text": [
      "Best Model Parameters\n",
      "{'n_estimators': 200, 'min_samples_split': 3, 'min_samples_leaf': 1, 'max_depth': 5}\n"
     ]
    }
   ],
   "source": [
    "# Optimise microwave waterdispenser model\n",
    "microwavewaterdispenser_model = train_ensemble_model(Xtrain, Ytrain['Model3_MicrowaveWaterDispenser'])"
   ]
  },
  {
   "cell_type": "code",
   "execution_count": 17,
   "metadata": {},
   "outputs": [
    {
     "name": "stdout",
     "output_type": "stream",
     "text": [
      "Fitting 5 folds for each of 100 candidates, totalling 500 fits\n"
     ]
    },
    {
     "name": "stderr",
     "output_type": "stream",
     "text": [
      "[Parallel(n_jobs=-1)]: Using backend LokyBackend with 8 concurrent workers.\n",
      "[Parallel(n_jobs=-1)]: Done  25 tasks      | elapsed:    3.3s\n",
      "[Parallel(n_jobs=-1)]: Done 146 tasks      | elapsed:   15.6s\n",
      "[Parallel(n_jobs=-1)]: Done 349 tasks      | elapsed:   41.6s\n",
      "[Parallel(n_jobs=-1)]: Done 500 out of 500 | elapsed:  1.0min finished\n"
     ]
    },
    {
     "name": "stdout",
     "output_type": "stream",
     "text": [
      "Best Model Parameters\n",
      "{'n_estimators': 160, 'min_samples_split': 4, 'min_samples_leaf': 4, 'max_depth': 3}\n",
      "Fitting 5 folds for each of 100 candidates, totalling 500 fits\n"
     ]
    },
    {
     "name": "stderr",
     "output_type": "stream",
     "text": [
      "[Parallel(n_jobs=-1)]: Using backend LokyBackend with 8 concurrent workers.\n",
      "[Parallel(n_jobs=-1)]: Done  25 tasks      | elapsed:    3.7s\n",
      "[Parallel(n_jobs=-1)]: Done 146 tasks      | elapsed:   21.4s\n",
      "[Parallel(n_jobs=-1)]: Done 349 tasks      | elapsed:   48.3s\n",
      "[Parallel(n_jobs=-1)]: Done 500 out of 500 | elapsed:  1.1min finished\n"
     ]
    },
    {
     "name": "stdout",
     "output_type": "stream",
     "text": [
      "Best Model Parameters\n",
      "{'n_estimators': 190, 'min_samples_split': 4, 'min_samples_leaf': 2, 'max_depth': 3}\n",
      "Fitting 5 folds for each of 100 candidates, totalling 500 fits\n"
     ]
    },
    {
     "name": "stderr",
     "output_type": "stream",
     "text": [
      "[Parallel(n_jobs=-1)]: Using backend LokyBackend with 8 concurrent workers.\n",
      "[Parallel(n_jobs=-1)]: Done  34 tasks      | elapsed:    4.3s\n",
      "[Parallel(n_jobs=-1)]: Done 162 tasks      | elapsed:   21.4s\n",
      "[Parallel(n_jobs=-1)]: Done 365 tasks      | elapsed:   49.4s\n",
      "[Parallel(n_jobs=-1)]: Done 500 out of 500 | elapsed:  1.2min finished\n"
     ]
    },
    {
     "name": "stdout",
     "output_type": "stream",
     "text": [
      "Best Model Parameters\n",
      "{'n_estimators': 200, 'min_samples_split': 2, 'min_samples_leaf': 5, 'max_depth': 3}\n",
      "Fitting 5 folds for each of 100 candidates, totalling 500 fits\n"
     ]
    },
    {
     "name": "stderr",
     "output_type": "stream",
     "text": [
      "[Parallel(n_jobs=-1)]: Using backend LokyBackend with 8 concurrent workers.\n",
      "[Parallel(n_jobs=-1)]: Done  25 tasks      | elapsed:    3.5s\n",
      "[Parallel(n_jobs=-1)]: Done 146 tasks      | elapsed:   22.2s\n",
      "[Parallel(n_jobs=-1)]: Done 349 tasks      | elapsed:   49.7s\n",
      "[Parallel(n_jobs=-1)]: Done 500 out of 500 | elapsed:  1.1min finished\n"
     ]
    },
    {
     "name": "stdout",
     "output_type": "stream",
     "text": [
      "Best Model Parameters\n",
      "{'n_estimators': 190, 'min_samples_split': 4, 'min_samples_leaf': 1, 'max_depth': 3}\n",
      "Fitting 5 folds for each of 100 candidates, totalling 500 fits\n"
     ]
    },
    {
     "name": "stderr",
     "output_type": "stream",
     "text": [
      "[Parallel(n_jobs=-1)]: Using backend LokyBackend with 8 concurrent workers.\n",
      "[Parallel(n_jobs=-1)]: Done  25 tasks      | elapsed:    2.6s\n",
      "[Parallel(n_jobs=-1)]: Done 146 tasks      | elapsed:   21.0s\n",
      "[Parallel(n_jobs=-1)]: Done 349 tasks      | elapsed:   45.5s\n",
      "[Parallel(n_jobs=-1)]: Done 500 out of 500 | elapsed:  1.1min finished\n"
     ]
    },
    {
     "name": "stdout",
     "output_type": "stream",
     "text": [
      "Best Model Parameters\n",
      "{'n_estimators': 130, 'min_samples_split': 3, 'min_samples_leaf': 4, 'max_depth': 5}\n",
      "Fitting 5 folds for each of 100 candidates, totalling 500 fits\n"
     ]
    },
    {
     "name": "stderr",
     "output_type": "stream",
     "text": [
      "[Parallel(n_jobs=-1)]: Using backend LokyBackend with 8 concurrent workers.\n",
      "[Parallel(n_jobs=-1)]: Done  25 tasks      | elapsed:    4.0s\n",
      "[Parallel(n_jobs=-1)]: Done 146 tasks      | elapsed:   20.3s\n",
      "[Parallel(n_jobs=-1)]: Done 349 tasks      | elapsed:   45.5s\n",
      "[Parallel(n_jobs=-1)]: Done 500 out of 500 | elapsed:  1.1min finished\n"
     ]
    },
    {
     "name": "stdout",
     "output_type": "stream",
     "text": [
      "Best Model Parameters\n",
      "{'n_estimators': 200, 'min_samples_split': 3, 'min_samples_leaf': 3, 'max_depth': 3}\n",
      "Fitting 5 folds for each of 100 candidates, totalling 500 fits\n"
     ]
    },
    {
     "name": "stderr",
     "output_type": "stream",
     "text": [
      "[Parallel(n_jobs=-1)]: Using backend LokyBackend with 8 concurrent workers.\n",
      "[Parallel(n_jobs=-1)]: Done  25 tasks      | elapsed:    3.7s\n",
      "[Parallel(n_jobs=-1)]: Done 146 tasks      | elapsed:   19.8s\n",
      "[Parallel(n_jobs=-1)]: Done 349 tasks      | elapsed:   45.0s\n",
      "[Parallel(n_jobs=-1)]: Done 500 out of 500 | elapsed:  1.1min finished\n"
     ]
    },
    {
     "name": "stdout",
     "output_type": "stream",
     "text": [
      "Best Model Parameters\n",
      "{'n_estimators': 160, 'min_samples_split': 5, 'min_samples_leaf': 4, 'max_depth': 4}\n",
      "Fitting 5 folds for each of 100 candidates, totalling 500 fits\n"
     ]
    },
    {
     "name": "stderr",
     "output_type": "stream",
     "text": [
      "[Parallel(n_jobs=-1)]: Using backend LokyBackend with 8 concurrent workers.\n",
      "[Parallel(n_jobs=-1)]: Done  25 tasks      | elapsed:    2.8s\n",
      "[Parallel(n_jobs=-1)]: Done 146 tasks      | elapsed:   19.4s\n",
      "[Parallel(n_jobs=-1)]: Done 349 tasks      | elapsed:   43.3s\n",
      "[Parallel(n_jobs=-1)]: Done 500 out of 500 | elapsed:  1.1min finished\n"
     ]
    },
    {
     "name": "stdout",
     "output_type": "stream",
     "text": [
      "Best Model Parameters\n",
      "{'n_estimators': 150, 'min_samples_split': 5, 'min_samples_leaf': 4, 'max_depth': 5}\n",
      "Fitting 5 folds for each of 100 candidates, totalling 500 fits\n"
     ]
    },
    {
     "name": "stderr",
     "output_type": "stream",
     "text": [
      "[Parallel(n_jobs=-1)]: Using backend LokyBackend with 8 concurrent workers.\n",
      "[Parallel(n_jobs=-1)]: Done  25 tasks      | elapsed:    1.8s\n",
      "[Parallel(n_jobs=-1)]: Done 146 tasks      | elapsed:   16.5s\n",
      "[Parallel(n_jobs=-1)]: Done 349 tasks      | elapsed:   38.9s\n",
      "[Parallel(n_jobs=-1)]: Done 500 out of 500 | elapsed:   57.6s finished\n"
     ]
    },
    {
     "name": "stdout",
     "output_type": "stream",
     "text": [
      "Best Model Parameters\n",
      "{'n_estimators': 140, 'min_samples_split': 3, 'min_samples_leaf': 3, 'max_depth': 4}\n",
      "Fitting 5 folds for each of 100 candidates, totalling 500 fits\n"
     ]
    },
    {
     "name": "stderr",
     "output_type": "stream",
     "text": [
      "[Parallel(n_jobs=-1)]: Using backend LokyBackend with 8 concurrent workers.\n",
      "[Parallel(n_jobs=-1)]: Done  25 tasks      | elapsed:    2.9s\n",
      "[Parallel(n_jobs=-1)]: Done 146 tasks      | elapsed:   14.9s\n",
      "[Parallel(n_jobs=-1)]: Done 349 tasks      | elapsed:   39.7s\n",
      "[Parallel(n_jobs=-1)]: Done 500 out of 500 | elapsed:   59.5s finished\n"
     ]
    },
    {
     "name": "stdout",
     "output_type": "stream",
     "text": [
      "Best Model Parameters\n",
      "{'n_estimators': 170, 'min_samples_split': 3, 'min_samples_leaf': 5, 'max_depth': 4}\n",
      "Fitting 5 folds for each of 100 candidates, totalling 500 fits\n"
     ]
    },
    {
     "name": "stderr",
     "output_type": "stream",
     "text": [
      "[Parallel(n_jobs=-1)]: Using backend LokyBackend with 8 concurrent workers.\n",
      "[Parallel(n_jobs=-1)]: Done  25 tasks      | elapsed:    3.0s\n",
      "[Parallel(n_jobs=-1)]: Done 146 tasks      | elapsed:   20.4s\n",
      "[Parallel(n_jobs=-1)]: Done 349 tasks      | elapsed:   45.9s\n",
      "[Parallel(n_jobs=-1)]: Done 500 out of 500 | elapsed:  1.1min finished\n"
     ]
    },
    {
     "name": "stdout",
     "output_type": "stream",
     "text": [
      "Best Model Parameters\n",
      "{'n_estimators': 120, 'min_samples_split': 2, 'min_samples_leaf': 3, 'max_depth': 5}\n",
      "Fitting 5 folds for each of 100 candidates, totalling 500 fits\n"
     ]
    },
    {
     "name": "stderr",
     "output_type": "stream",
     "text": [
      "[Parallel(n_jobs=-1)]: Using backend LokyBackend with 8 concurrent workers.\n",
      "[Parallel(n_jobs=-1)]: Done  25 tasks      | elapsed:    4.9s\n",
      "[Parallel(n_jobs=-1)]: Done 146 tasks      | elapsed:   20.7s\n",
      "[Parallel(n_jobs=-1)]: Done 349 tasks      | elapsed:   47.0s\n",
      "[Parallel(n_jobs=-1)]: Done 500 out of 500 | elapsed:  1.1min finished\n"
     ]
    },
    {
     "name": "stdout",
     "output_type": "stream",
     "text": [
      "Best Model Parameters\n",
      "{'n_estimators': 200, 'min_samples_split': 2, 'min_samples_leaf': 1, 'max_depth': 4}\n",
      "Fitting 5 folds for each of 100 candidates, totalling 500 fits\n"
     ]
    },
    {
     "name": "stderr",
     "output_type": "stream",
     "text": [
      "[Parallel(n_jobs=-1)]: Using backend LokyBackend with 8 concurrent workers.\n",
      "[Parallel(n_jobs=-1)]: Done  34 tasks      | elapsed:    4.5s\n",
      "[Parallel(n_jobs=-1)]: Done 169 tasks      | elapsed:   20.9s\n",
      "[Parallel(n_jobs=-1)]: Done 372 tasks      | elapsed:   48.2s\n",
      "[Parallel(n_jobs=-1)]: Done 500 out of 500 | elapsed:  1.1min finished\n"
     ]
    },
    {
     "name": "stdout",
     "output_type": "stream",
     "text": [
      "Best Model Parameters\n",
      "{'n_estimators': 90, 'min_samples_split': 2, 'min_samples_leaf': 5, 'max_depth': 4}\n",
      "Fitting 5 folds for each of 100 candidates, totalling 500 fits\n"
     ]
    },
    {
     "name": "stderr",
     "output_type": "stream",
     "text": [
      "[Parallel(n_jobs=-1)]: Using backend LokyBackend with 8 concurrent workers.\n",
      "[Parallel(n_jobs=-1)]: Done  25 tasks      | elapsed:    2.6s\n",
      "[Parallel(n_jobs=-1)]: Done 146 tasks      | elapsed:   21.0s\n",
      "[Parallel(n_jobs=-1)]: Done 349 tasks      | elapsed:   48.8s\n",
      "[Parallel(n_jobs=-1)]: Done 500 out of 500 | elapsed:  1.1min finished\n"
     ]
    },
    {
     "name": "stdout",
     "output_type": "stream",
     "text": [
      "Best Model Parameters\n",
      "{'n_estimators': 200, 'min_samples_split': 4, 'min_samples_leaf': 3, 'max_depth': 2}\n"
     ]
    }
   ],
   "source": [
    "# Optimise meeting room model\n",
    "meeting_model = train_ensemble_model(Xtrain, Ytrain['Model3_MeetingRoom'])"
   ]
  },
  {
   "cell_type": "code",
   "execution_count": 18,
   "metadata": {
    "scrolled": true
   },
   "outputs": [
    {
     "name": "stdout",
     "output_type": "stream",
     "text": [
      "Fitting 5 folds for each of 100 candidates, totalling 500 fits\n"
     ]
    },
    {
     "name": "stderr",
     "output_type": "stream",
     "text": [
      "[Parallel(n_jobs=-1)]: Using backend LokyBackend with 8 concurrent workers.\n",
      "[Parallel(n_jobs=-1)]: Done  25 tasks      | elapsed:    6.3s\n",
      "[Parallel(n_jobs=-1)]: Done 146 tasks      | elapsed:   28.8s\n",
      "[Parallel(n_jobs=-1)]: Done 349 tasks      | elapsed:  1.2min\n",
      "[Parallel(n_jobs=-1)]: Done 500 out of 500 | elapsed:  1.7min finished\n"
     ]
    },
    {
     "name": "stdout",
     "output_type": "stream",
     "text": [
      "Best Model Parameters\n",
      "{'n_estimators': 170, 'min_samples_split': 5, 'min_samples_leaf': 3, 'max_depth': 4}\n",
      "Fitting 5 folds for each of 100 candidates, totalling 500 fits\n"
     ]
    },
    {
     "name": "stderr",
     "output_type": "stream",
     "text": [
      "[Parallel(n_jobs=-1)]: Using backend LokyBackend with 8 concurrent workers.\n",
      "[Parallel(n_jobs=-1)]: Done  25 tasks      | elapsed:    5.4s\n",
      "[Parallel(n_jobs=-1)]: Done 146 tasks      | elapsed:   39.1s\n",
      "[Parallel(n_jobs=-1)]: Done 349 tasks      | elapsed:  1.4min\n",
      "[Parallel(n_jobs=-1)]: Done 500 out of 500 | elapsed:  2.0min finished\n"
     ]
    },
    {
     "name": "stdout",
     "output_type": "stream",
     "text": [
      "Best Model Parameters\n",
      "{'n_estimators': 190, 'min_samples_split': 3, 'min_samples_leaf': 1, 'max_depth': 4}\n",
      "Fitting 5 folds for each of 100 candidates, totalling 500 fits\n"
     ]
    },
    {
     "name": "stderr",
     "output_type": "stream",
     "text": [
      "[Parallel(n_jobs=-1)]: Using backend LokyBackend with 8 concurrent workers.\n",
      "[Parallel(n_jobs=-1)]: Done  25 tasks      | elapsed:    4.8s\n",
      "[Parallel(n_jobs=-1)]: Done 146 tasks      | elapsed:   33.5s\n",
      "[Parallel(n_jobs=-1)]: Done 349 tasks      | elapsed:  1.2min\n",
      "[Parallel(n_jobs=-1)]: Done 500 out of 500 | elapsed:  1.7min finished\n"
     ]
    },
    {
     "name": "stdout",
     "output_type": "stream",
     "text": [
      "Best Model Parameters\n",
      "{'n_estimators': 190, 'min_samples_split': 3, 'min_samples_leaf': 1, 'max_depth': 5}\n",
      "Fitting 5 folds for each of 100 candidates, totalling 500 fits\n"
     ]
    },
    {
     "name": "stderr",
     "output_type": "stream",
     "text": [
      "[Parallel(n_jobs=-1)]: Using backend LokyBackend with 8 concurrent workers.\n",
      "[Parallel(n_jobs=-1)]: Done  25 tasks      | elapsed:    5.4s\n",
      "[Parallel(n_jobs=-1)]: Done 146 tasks      | elapsed:   36.9s\n",
      "[Parallel(n_jobs=-1)]: Done 349 tasks      | elapsed:  1.3min\n",
      "[Parallel(n_jobs=-1)]: Done 500 out of 500 | elapsed:  1.9min finished\n"
     ]
    },
    {
     "name": "stdout",
     "output_type": "stream",
     "text": [
      "Best Model Parameters\n",
      "{'n_estimators': 190, 'min_samples_split': 5, 'min_samples_leaf': 3, 'max_depth': 4}\n",
      "Fitting 5 folds for each of 100 candidates, totalling 500 fits\n"
     ]
    },
    {
     "name": "stderr",
     "output_type": "stream",
     "text": [
      "[Parallel(n_jobs=-1)]: Using backend LokyBackend with 8 concurrent workers.\n",
      "[Parallel(n_jobs=-1)]: Done  25 tasks      | elapsed:    5.2s\n",
      "[Parallel(n_jobs=-1)]: Done 146 tasks      | elapsed:   33.2s\n",
      "[Parallel(n_jobs=-1)]: Done 349 tasks      | elapsed:  1.4min\n",
      "[Parallel(n_jobs=-1)]: Done 500 out of 500 | elapsed:  2.0min finished\n"
     ]
    },
    {
     "name": "stdout",
     "output_type": "stream",
     "text": [
      "Best Model Parameters\n",
      "{'n_estimators': 190, 'min_samples_split': 4, 'min_samples_leaf': 1, 'max_depth': 4}\n",
      "Fitting 5 folds for each of 100 candidates, totalling 500 fits\n"
     ]
    },
    {
     "name": "stderr",
     "output_type": "stream",
     "text": [
      "[Parallel(n_jobs=-1)]: Using backend LokyBackend with 8 concurrent workers.\n",
      "[Parallel(n_jobs=-1)]: Done  25 tasks      | elapsed:    4.8s\n",
      "[Parallel(n_jobs=-1)]: Done 146 tasks      | elapsed:   35.7s\n",
      "[Parallel(n_jobs=-1)]: Done 349 tasks      | elapsed:  1.4min\n",
      "[Parallel(n_jobs=-1)]: Done 500 out of 500 | elapsed:  2.0min finished\n"
     ]
    },
    {
     "name": "stdout",
     "output_type": "stream",
     "text": [
      "Best Model Parameters\n",
      "{'n_estimators': 180, 'min_samples_split': 3, 'min_samples_leaf': 2, 'max_depth': 5}\n",
      "Fitting 5 folds for each of 100 candidates, totalling 500 fits\n"
     ]
    },
    {
     "name": "stderr",
     "output_type": "stream",
     "text": [
      "[Parallel(n_jobs=-1)]: Using backend LokyBackend with 8 concurrent workers.\n",
      "[Parallel(n_jobs=-1)]: Done  25 tasks      | elapsed:    9.6s\n",
      "[Parallel(n_jobs=-1)]: Done 146 tasks      | elapsed:   44.1s\n",
      "[Parallel(n_jobs=-1)]: Done 349 tasks      | elapsed:  1.4min\n",
      "[Parallel(n_jobs=-1)]: Done 500 out of 500 | elapsed:  2.0min finished\n"
     ]
    },
    {
     "name": "stdout",
     "output_type": "stream",
     "text": [
      "Best Model Parameters\n",
      "{'n_estimators': 160, 'min_samples_split': 4, 'min_samples_leaf': 3, 'max_depth': 4}\n"
     ]
    }
   ],
   "source": [
    "# Optimise office area 1 model\n",
    "officearea_1_model = train_ensemble_model(Xtrain, Ytrain['Model3_OfficeArea_1'])"
   ]
  },
  {
   "cell_type": "code",
   "execution_count": 19,
   "metadata": {
    "scrolled": true
   },
   "outputs": [
    {
     "name": "stdout",
     "output_type": "stream",
     "text": [
      "Fitting 5 folds for each of 100 candidates, totalling 500 fits\n"
     ]
    },
    {
     "name": "stderr",
     "output_type": "stream",
     "text": [
      "[Parallel(n_jobs=-1)]: Using backend LokyBackend with 8 concurrent workers.\n",
      "[Parallel(n_jobs=-1)]: Done  25 tasks      | elapsed:    8.5s\n",
      "[Parallel(n_jobs=-1)]: Done 146 tasks      | elapsed:   34.3s\n",
      "[Parallel(n_jobs=-1)]: Done 349 tasks      | elapsed:  1.4min\n",
      "[Parallel(n_jobs=-1)]: Done 500 out of 500 | elapsed:  2.0min finished\n"
     ]
    },
    {
     "name": "stdout",
     "output_type": "stream",
     "text": [
      "Best Model Parameters\n",
      "{'n_estimators': 140, 'min_samples_split': 3, 'min_samples_leaf': 3, 'max_depth': 3}\n",
      "Fitting 5 folds for each of 100 candidates, totalling 500 fits\n"
     ]
    },
    {
     "name": "stderr",
     "output_type": "stream",
     "text": [
      "[Parallel(n_jobs=-1)]: Using backend LokyBackend with 8 concurrent workers.\n",
      "[Parallel(n_jobs=-1)]: Done  25 tasks      | elapsed:    7.2s\n",
      "[Parallel(n_jobs=-1)]: Done 146 tasks      | elapsed:   40.3s\n",
      "[Parallel(n_jobs=-1)]: Done 349 tasks      | elapsed:  1.6min\n",
      "[Parallel(n_jobs=-1)]: Done 500 out of 500 | elapsed:  2.2min finished\n"
     ]
    },
    {
     "name": "stdout",
     "output_type": "stream",
     "text": [
      "Best Model Parameters\n",
      "{'n_estimators': 190, 'min_samples_split': 4, 'min_samples_leaf': 3, 'max_depth': 4}\n",
      "Fitting 5 folds for each of 100 candidates, totalling 500 fits\n"
     ]
    },
    {
     "name": "stderr",
     "output_type": "stream",
     "text": [
      "[Parallel(n_jobs=-1)]: Using backend LokyBackend with 8 concurrent workers.\n",
      "[Parallel(n_jobs=-1)]: Done  25 tasks      | elapsed:    7.9s\n",
      "[Parallel(n_jobs=-1)]: Done 146 tasks      | elapsed:   39.7s\n",
      "[Parallel(n_jobs=-1)]: Done 349 tasks      | elapsed:  1.5min\n",
      "[Parallel(n_jobs=-1)]: Done 500 out of 500 | elapsed:  2.0min finished\n"
     ]
    },
    {
     "name": "stdout",
     "output_type": "stream",
     "text": [
      "Best Model Parameters\n",
      "{'n_estimators': 110, 'min_samples_split': 3, 'min_samples_leaf': 5, 'max_depth': 5}\n",
      "Fitting 5 folds for each of 100 candidates, totalling 500 fits\n"
     ]
    },
    {
     "name": "stderr",
     "output_type": "stream",
     "text": [
      "[Parallel(n_jobs=-1)]: Using backend LokyBackend with 8 concurrent workers.\n",
      "[Parallel(n_jobs=-1)]: Done  25 tasks      | elapsed:    7.3s\n",
      "[Parallel(n_jobs=-1)]: Done 146 tasks      | elapsed:   39.6s\n",
      "[Parallel(n_jobs=-1)]: Done 349 tasks      | elapsed:  1.4min\n",
      "[Parallel(n_jobs=-1)]: Done 500 out of 500 | elapsed:  2.0min finished\n"
     ]
    },
    {
     "name": "stdout",
     "output_type": "stream",
     "text": [
      "Best Model Parameters\n",
      "{'n_estimators': 180, 'min_samples_split': 5, 'min_samples_leaf': 4, 'max_depth': 3}\n",
      "Fitting 5 folds for each of 100 candidates, totalling 500 fits\n"
     ]
    },
    {
     "name": "stderr",
     "output_type": "stream",
     "text": [
      "[Parallel(n_jobs=-1)]: Using backend LokyBackend with 8 concurrent workers.\n",
      "[Parallel(n_jobs=-1)]: Done  25 tasks      | elapsed:    5.7s\n",
      "[Parallel(n_jobs=-1)]: Done 146 tasks      | elapsed:   38.4s\n",
      "[Parallel(n_jobs=-1)]: Done 349 tasks      | elapsed:  1.5min\n",
      "[Parallel(n_jobs=-1)]: Done 500 out of 500 | elapsed:  2.1min finished\n"
     ]
    },
    {
     "name": "stdout",
     "output_type": "stream",
     "text": [
      "Best Model Parameters\n",
      "{'n_estimators': 150, 'min_samples_split': 3, 'min_samples_leaf': 3, 'max_depth': 4}\n"
     ]
    }
   ],
   "source": [
    "# Optimise office area 2 model\n",
    "officearea_2_model = train_ensemble_model(Xtrain, Ytrain['Model3_OfficeArea_2'])"
   ]
  },
  {
   "cell_type": "code",
   "execution_count": 20,
   "metadata": {},
   "outputs": [
    {
     "name": "stdout",
     "output_type": "stream",
     "text": [
      "Fitting 5 folds for each of 100 candidates, totalling 500 fits\n"
     ]
    },
    {
     "name": "stderr",
     "output_type": "stream",
     "text": [
      "[Parallel(n_jobs=-1)]: Using backend LokyBackend with 8 concurrent workers.\n",
      "[Parallel(n_jobs=-1)]: Done  34 tasks      | elapsed:    3.1s\n",
      "[Parallel(n_jobs=-1)]: Done 168 tasks      | elapsed:   14.3s\n",
      "[Parallel(n_jobs=-1)]: Done 371 tasks      | elapsed:   30.5s\n",
      "[Parallel(n_jobs=-1)]: Done 500 out of 500 | elapsed:   40.4s finished\n"
     ]
    },
    {
     "name": "stdout",
     "output_type": "stream",
     "text": [
      "Best Model Parameters\n",
      "{'n_estimators': 70, 'min_samples_split': 2, 'min_samples_leaf': 1, 'max_depth': 4}\n",
      "Fitting 5 folds for each of 100 candidates, totalling 500 fits\n"
     ]
    },
    {
     "name": "stderr",
     "output_type": "stream",
     "text": [
      "[Parallel(n_jobs=-1)]: Using backend LokyBackend with 8 concurrent workers.\n",
      "[Parallel(n_jobs=-1)]: Done  25 tasks      | elapsed:    1.8s\n",
      "[Parallel(n_jobs=-1)]: Done 146 tasks      | elapsed:   11.0s\n",
      "[Parallel(n_jobs=-1)]: Done 349 tasks      | elapsed:   26.3s\n",
      "[Parallel(n_jobs=-1)]: Done 500 out of 500 | elapsed:   37.9s finished\n"
     ]
    },
    {
     "name": "stdout",
     "output_type": "stream",
     "text": [
      "Best Model Parameters\n",
      "{'n_estimators': 100, 'min_samples_split': 4, 'min_samples_leaf': 4, 'max_depth': 2}\n",
      "Fitting 5 folds for each of 100 candidates, totalling 500 fits\n"
     ]
    },
    {
     "name": "stderr",
     "output_type": "stream",
     "text": [
      "[Parallel(n_jobs=-1)]: Using backend LokyBackend with 8 concurrent workers.\n",
      "[Parallel(n_jobs=-1)]: Done  25 tasks      | elapsed:    2.5s\n",
      "[Parallel(n_jobs=-1)]: Done 146 tasks      | elapsed:   13.1s\n",
      "[Parallel(n_jobs=-1)]: Done 349 tasks      | elapsed:   30.5s\n",
      "[Parallel(n_jobs=-1)]: Done 500 out of 500 | elapsed:   44.1s finished\n"
     ]
    },
    {
     "name": "stdout",
     "output_type": "stream",
     "text": [
      "Best Model Parameters\n",
      "{'n_estimators': 170, 'min_samples_split': 2, 'min_samples_leaf': 5, 'max_depth': 2}\n",
      "Fitting 5 folds for each of 100 candidates, totalling 500 fits\n"
     ]
    },
    {
     "name": "stderr",
     "output_type": "stream",
     "text": [
      "[Parallel(n_jobs=-1)]: Using backend LokyBackend with 8 concurrent workers.\n",
      "[Parallel(n_jobs=-1)]: Done  25 tasks      | elapsed:    2.5s\n",
      "[Parallel(n_jobs=-1)]: Done 146 tasks      | elapsed:   11.9s\n",
      "[Parallel(n_jobs=-1)]: Done 349 tasks      | elapsed:   27.6s\n",
      "[Parallel(n_jobs=-1)]: Done 500 out of 500 | elapsed:   39.4s finished\n"
     ]
    },
    {
     "name": "stdout",
     "output_type": "stream",
     "text": [
      "Best Model Parameters\n",
      "{'n_estimators': 180, 'min_samples_split': 3, 'min_samples_leaf': 2, 'max_depth': 3}\n",
      "Fitting 5 folds for each of 100 candidates, totalling 500 fits\n"
     ]
    },
    {
     "name": "stderr",
     "output_type": "stream",
     "text": [
      "[Parallel(n_jobs=-1)]: Using backend LokyBackend with 8 concurrent workers.\n",
      "[Parallel(n_jobs=-1)]: Done  25 tasks      | elapsed:    2.3s\n",
      "[Parallel(n_jobs=-1)]: Done 146 tasks      | elapsed:   10.5s\n",
      "[Parallel(n_jobs=-1)]: Done 349 tasks      | elapsed:   24.8s\n",
      "[Parallel(n_jobs=-1)]: Done 500 out of 500 | elapsed:   36.5s finished\n"
     ]
    },
    {
     "name": "stdout",
     "output_type": "stream",
     "text": [
      "Best Model Parameters\n",
      "{'n_estimators': 80, 'min_samples_split': 2, 'min_samples_leaf': 3, 'max_depth': 4}\n",
      "Fitting 5 folds for each of 100 candidates, totalling 500 fits\n"
     ]
    },
    {
     "name": "stderr",
     "output_type": "stream",
     "text": [
      "[Parallel(n_jobs=-1)]: Using backend LokyBackend with 8 concurrent workers.\n",
      "[Parallel(n_jobs=-1)]: Done  34 tasks      | elapsed:    2.4s\n",
      "[Parallel(n_jobs=-1)]: Done 173 tasks      | elapsed:   13.0s\n",
      "[Parallel(n_jobs=-1)]: Done 376 tasks      | elapsed:   29.0s\n",
      "[Parallel(n_jobs=-1)]: Done 500 out of 500 | elapsed:   38.8s finished\n"
     ]
    },
    {
     "name": "stdout",
     "output_type": "stream",
     "text": [
      "Best Model Parameters\n",
      "{'n_estimators': 100, 'min_samples_split': 2, 'min_samples_leaf': 1, 'max_depth': 5}\n",
      "Fitting 5 folds for each of 100 candidates, totalling 500 fits\n"
     ]
    },
    {
     "name": "stderr",
     "output_type": "stream",
     "text": [
      "[Parallel(n_jobs=-1)]: Using backend LokyBackend with 8 concurrent workers.\n",
      "[Parallel(n_jobs=-1)]: Done  25 tasks      | elapsed:    2.3s\n",
      "[Parallel(n_jobs=-1)]: Done 146 tasks      | elapsed:   12.5s\n",
      "[Parallel(n_jobs=-1)]: Done 349 tasks      | elapsed:   28.2s\n",
      "[Parallel(n_jobs=-1)]: Done 500 out of 500 | elapsed:   39.6s finished\n"
     ]
    },
    {
     "name": "stdout",
     "output_type": "stream",
     "text": [
      "Best Model Parameters\n",
      "{'n_estimators': 180, 'min_samples_split': 3, 'min_samples_leaf': 3, 'max_depth': 3}\n",
      "Fitting 5 folds for each of 100 candidates, totalling 500 fits\n"
     ]
    },
    {
     "name": "stderr",
     "output_type": "stream",
     "text": [
      "[Parallel(n_jobs=-1)]: Using backend LokyBackend with 8 concurrent workers.\n",
      "[Parallel(n_jobs=-1)]: Done  25 tasks      | elapsed:    2.0s\n",
      "[Parallel(n_jobs=-1)]: Done 146 tasks      | elapsed:   10.0s\n",
      "[Parallel(n_jobs=-1)]: Done 349 tasks      | elapsed:   23.4s\n",
      "[Parallel(n_jobs=-1)]: Done 500 out of 500 | elapsed:   33.2s finished\n"
     ]
    },
    {
     "name": "stdout",
     "output_type": "stream",
     "text": [
      "Best Model Parameters\n",
      "{'n_estimators': 140, 'min_samples_split': 3, 'min_samples_leaf': 3, 'max_depth': 3}\n",
      "Fitting 5 folds for each of 100 candidates, totalling 500 fits\n"
     ]
    },
    {
     "name": "stderr",
     "output_type": "stream",
     "text": [
      "[Parallel(n_jobs=-1)]: Using backend LokyBackend with 8 concurrent workers.\n",
      "[Parallel(n_jobs=-1)]: Done  25 tasks      | elapsed:    2.7s\n",
      "[Parallel(n_jobs=-1)]: Done 146 tasks      | elapsed:   13.3s\n",
      "[Parallel(n_jobs=-1)]: Done 349 tasks      | elapsed:   29.8s\n",
      "[Parallel(n_jobs=-1)]: Done 500 out of 500 | elapsed:   43.3s finished\n"
     ]
    },
    {
     "name": "stdout",
     "output_type": "stream",
     "text": [
      "Best Model Parameters\n",
      "{'n_estimators': 170, 'min_samples_split': 2, 'min_samples_leaf': 4, 'max_depth': 4}\n",
      "Fitting 5 folds for each of 100 candidates, totalling 500 fits\n"
     ]
    },
    {
     "name": "stderr",
     "output_type": "stream",
     "text": [
      "[Parallel(n_jobs=-1)]: Using backend LokyBackend with 8 concurrent workers.\n",
      "[Parallel(n_jobs=-1)]: Done  25 tasks      | elapsed:    1.9s\n",
      "[Parallel(n_jobs=-1)]: Done 146 tasks      | elapsed:   11.4s\n",
      "[Parallel(n_jobs=-1)]: Done 349 tasks      | elapsed:   27.6s\n",
      "[Parallel(n_jobs=-1)]: Done 500 out of 500 | elapsed:   38.2s finished\n"
     ]
    },
    {
     "name": "stdout",
     "output_type": "stream",
     "text": [
      "Best Model Parameters\n",
      "{'n_estimators': 150, 'min_samples_split': 4, 'min_samples_leaf': 4, 'max_depth': 4}\n",
      "Fitting 5 folds for each of 100 candidates, totalling 500 fits\n"
     ]
    },
    {
     "name": "stderr",
     "output_type": "stream",
     "text": [
      "[Parallel(n_jobs=-1)]: Using backend LokyBackend with 8 concurrent workers.\n",
      "[Parallel(n_jobs=-1)]: Done  25 tasks      | elapsed:    2.5s\n",
      "[Parallel(n_jobs=-1)]: Done 146 tasks      | elapsed:   12.6s\n",
      "[Parallel(n_jobs=-1)]: Done 349 tasks      | elapsed:   29.3s\n",
      "[Parallel(n_jobs=-1)]: Done 500 out of 500 | elapsed:   41.7s finished\n"
     ]
    },
    {
     "name": "stdout",
     "output_type": "stream",
     "text": [
      "Best Model Parameters\n",
      "{'n_estimators': 150, 'min_samples_split': 4, 'min_samples_leaf': 2, 'max_depth': 3}\n",
      "Fitting 5 folds for each of 100 candidates, totalling 500 fits\n"
     ]
    },
    {
     "name": "stderr",
     "output_type": "stream",
     "text": [
      "[Parallel(n_jobs=-1)]: Using backend LokyBackend with 8 concurrent workers.\n",
      "[Parallel(n_jobs=-1)]: Done  25 tasks      | elapsed:    2.6s\n",
      "[Parallel(n_jobs=-1)]: Done 146 tasks      | elapsed:   13.0s\n",
      "[Parallel(n_jobs=-1)]: Done 349 tasks      | elapsed:   27.9s\n",
      "[Parallel(n_jobs=-1)]: Done 500 out of 500 | elapsed:   39.7s finished\n"
     ]
    },
    {
     "name": "stdout",
     "output_type": "stream",
     "text": [
      "Best Model Parameters\n",
      "{'n_estimators': 170, 'min_samples_split': 4, 'min_samples_leaf': 2, 'max_depth': 5}\n",
      "Fitting 5 folds for each of 100 candidates, totalling 500 fits\n"
     ]
    },
    {
     "name": "stderr",
     "output_type": "stream",
     "text": [
      "[Parallel(n_jobs=-1)]: Using backend LokyBackend with 8 concurrent workers.\n",
      "[Parallel(n_jobs=-1)]: Done  34 tasks      | elapsed:    3.3s\n",
      "[Parallel(n_jobs=-1)]: Done 169 tasks      | elapsed:   14.1s\n",
      "[Parallel(n_jobs=-1)]: Done 372 tasks      | elapsed:   30.7s\n",
      "[Parallel(n_jobs=-1)]: Done 500 out of 500 | elapsed:   39.5s finished\n"
     ]
    },
    {
     "name": "stdout",
     "output_type": "stream",
     "text": [
      "Best Model Parameters\n",
      "{'n_estimators': 190, 'min_samples_split': 2, 'min_samples_leaf': 5, 'max_depth': 2}\n",
      "Fitting 5 folds for each of 100 candidates, totalling 500 fits\n"
     ]
    },
    {
     "name": "stderr",
     "output_type": "stream",
     "text": [
      "[Parallel(n_jobs=-1)]: Using backend LokyBackend with 8 concurrent workers.\n",
      "[Parallel(n_jobs=-1)]: Done  34 tasks      | elapsed:    2.4s\n",
      "[Parallel(n_jobs=-1)]: Done 176 tasks      | elapsed:   13.2s\n",
      "[Parallel(n_jobs=-1)]: Done 379 tasks      | elapsed:   29.8s\n",
      "[Parallel(n_jobs=-1)]: Done 500 out of 500 | elapsed:   38.8s finished\n"
     ]
    },
    {
     "name": "stdout",
     "output_type": "stream",
     "text": [
      "Best Model Parameters\n",
      "{'n_estimators': 190, 'min_samples_split': 2, 'min_samples_leaf': 5, 'max_depth': 3}\n",
      "Fitting 5 folds for each of 100 candidates, totalling 500 fits\n"
     ]
    },
    {
     "name": "stderr",
     "output_type": "stream",
     "text": [
      "[Parallel(n_jobs=-1)]: Using backend LokyBackend with 8 concurrent workers.\n",
      "[Parallel(n_jobs=-1)]: Done  25 tasks      | elapsed:    2.6s\n",
      "[Parallel(n_jobs=-1)]: Done 146 tasks      | elapsed:   12.8s\n",
      "[Parallel(n_jobs=-1)]: Done 349 tasks      | elapsed:   28.5s\n",
      "[Parallel(n_jobs=-1)]: Done 500 out of 500 | elapsed:   39.8s finished\n"
     ]
    },
    {
     "name": "stdout",
     "output_type": "stream",
     "text": [
      "Best Model Parameters\n",
      "{'n_estimators': 190, 'min_samples_split': 3, 'min_samples_leaf': 2, 'max_depth': 2}\n",
      "Fitting 5 folds for each of 100 candidates, totalling 500 fits\n"
     ]
    },
    {
     "name": "stderr",
     "output_type": "stream",
     "text": [
      "[Parallel(n_jobs=-1)]: Using backend LokyBackend with 8 concurrent workers.\n",
      "[Parallel(n_jobs=-1)]: Done  25 tasks      | elapsed:    2.2s\n",
      "[Parallel(n_jobs=-1)]: Done 146 tasks      | elapsed:   12.2s\n",
      "[Parallel(n_jobs=-1)]: Done 349 tasks      | elapsed:   29.6s\n",
      "[Parallel(n_jobs=-1)]: Done 500 out of 500 | elapsed:   42.3s finished\n"
     ]
    },
    {
     "name": "stdout",
     "output_type": "stream",
     "text": [
      "Best Model Parameters\n",
      "{'n_estimators': 110, 'min_samples_split': 5, 'min_samples_leaf': 4, 'max_depth': 4}\n"
     ]
    }
   ],
   "source": [
    "# Optimise printer model\n",
    "printer_model = train_ensemble_model(Xtrain, Ytrain['Model3_Printer'])"
   ]
  },
  {
   "cell_type": "markdown",
   "metadata": {},
   "source": [
    "# Calculate test performance of ensemble model"
   ]
  },
  {
   "cell_type": "code",
   "execution_count": 21,
   "metadata": {},
   "outputs": [],
   "source": [
    "def plot_model_performance(true_label, prediction):\n",
    "    \"\"\"\n",
    "    This function compares the predicted location with the true location information\n",
    "    and presents the model performance using a classification report and a confusion\n",
    "    matrix.\n",
    "    \"\"\"   \n",
    "    # Classification report\n",
    "    print(classification_report(true_label, prediction))\n",
    "    \n",
    "    # Confusion matrix in the form of a heat map\n",
    "    cm = confusion_matrix(true_label, prediction)\n",
    "    cm = pd.DataFrame(cm)\n",
    "    sns.heatmap(cm, annot=True)\n",
    "    plt.title('Confusion Matrix')\n",
    "    plt.ylabel('True label')\n",
    "    plt.xlabel('Predicted label') "
   ]
  },
  {
   "cell_type": "code",
   "execution_count": 22,
   "metadata": {},
   "outputs": [],
   "source": [
    "def predict(ensemble_model, Xtest):\n",
    "    \"\"\"\n",
    "    This function calculates the prediction probability of \n",
    "    each individual model in the ensemble model and finds the\n",
    "    average prediction probability.\n",
    "    \"\"\"\n",
    "    prediction_proba = np.zeros((Xtest.shape[0],1))\n",
    "    for model in ensemble_model:\n",
    "        prediction_proba += model.predict_proba(Xtest)[:,1].reshape(-1,1) / len(ensemble_model)\n",
    "        \n",
    "    return prediction_proba"
   ]
  },
  {
   "cell_type": "code",
   "execution_count": 24,
   "metadata": {},
   "outputs": [],
   "source": [
    "# Extract the prediction probability based on each individual zone model\n",
    "assemblyspace_prediction = predict(assemblyspace_model, Xtest)\n",
    "prototyping_prediction = predict(prototyping_model, Xtest)\n",
    "out_prediction = predict(out_model, Xtest)\n",
    "lasercutting_prediction = predict(lasercutting_model, Xtest)\n",
    "precision_prediction = predict(precision_model, Xtest)\n",
    "pantry_other_prediction = predict(pantry_other_model, Xtest)\n",
    "fridgecoffeemachine_prediction = predict(fridgecoffeemachine_model, Xtest)\n",
    "microwavewaterdispenser_prediction = predict(microwavewaterdispenser_model, Xtest)\n",
    "meeting_prediction = predict(meeting_model, Xtest)\n",
    "officearea_1_prediction = predict(officearea_1_model, Xtest)\n",
    "officearea_2_prediction = predict(officearea_2_model, Xtest)\n",
    "printer_prediction = predict(printer_model, Xtest)"
   ]
  },
  {
   "cell_type": "code",
   "execution_count": 25,
   "metadata": {},
   "outputs": [],
   "source": [
    "# Identify the most likely (confident) prediction among all the models\n",
    "prediction = np.hstack((assemblyspace_prediction,\n",
    "                        prototyping_prediction,\n",
    "                        out_prediction,\n",
    "                        lasercutting_prediction,\n",
    "                        precision_prediction,\n",
    "                        pantry_other_prediction,\n",
    "                        fridgecoffeemachine_prediction,\n",
    "                        microwavewaterdispenser_prediction,\n",
    "                        meeting_prediction,\n",
    "                        officearea_1_prediction,\n",
    "                        officearea_2_prediction,\n",
    "                        printer_prediction))\n",
    "\n",
    "columns = ['AssemblySpace','PrototypingRoom','Out','LaserCuttingRoom',\n",
    "            'PrecisionRoom','Pantry_Other','Pantry_FridgeCoffeeMachine',\n",
    "            'Pantry_MicrowaveWaterDispenser','MeetingRoom',\n",
    "            'OfficeArea_1','OfficeArea_2','Printer']\n",
    "prediction = pd.DataFrame(prediction, columns=columns)\n",
    "final_prediction = prediction.idxmax(axis=1)"
   ]
  },
  {
   "cell_type": "code",
   "execution_count": 26,
   "metadata": {},
   "outputs": [
    {
     "name": "stdout",
     "output_type": "stream",
     "text": [
      "                                precision    recall  f1-score   support\n",
      "\n",
      "                 AssemblySpace       0.73      1.00      0.84       210\n",
      "              LaserCuttingRoom       0.89      0.90      0.90       898\n",
      "                   MeetingRoom       0.91      0.55      0.69       279\n",
      "                  OfficeArea_1       0.94      0.81      0.87       911\n",
      "                  OfficeArea_2       0.89      0.96      0.92      1213\n",
      "                           Out       0.99      1.00      0.99       154\n",
      "    Pantry_FridgeCoffeeMachine       0.38      0.91      0.54       272\n",
      "Pantry_MicrowaveWaterDispenser       0.79      0.35      0.49       251\n",
      "                  Pantry_Other       0.31      0.07      0.12       254\n",
      "                 PrecisionRoom       0.99      0.75      0.85       262\n",
      "                       Printer       0.77      0.81      0.79       146\n",
      "               PrototypingRoom       0.64      0.83      0.72       214\n",
      "\n",
      "                      accuracy                           0.81      5064\n",
      "                     macro avg       0.77      0.75      0.73      5064\n",
      "                  weighted avg       0.83      0.81      0.80      5064\n",
      "\n"
     ]
    },
    {
     "data": {
      "image/png": "[encoded data removed]",
      "text/plain": [
       "<Figure size 432x288 with 2 Axes>"
      ]
     },
     "metadata": {},
     "output_type": "display_data"
    }
   ],
   "source": [
    "plot_model_performance(Ytest['Model1'], final_prediction)"
   ]
  },
  {
   "cell_type": "markdown",
   "metadata": {},
   "source": [
    "# Identify significant factors using feature importance scores"
   ]
  },
  {
   "cell_type": "code",
   "execution_count": 27,
   "metadata": {},
   "outputs": [],
   "source": [
    "def combine_importance_score(model_list):\n",
    "    \"\"\"\n",
    "    This function combines the feature importance score of each individual model by\n",
    "    calculating the average importance score of each input feature in the ensemble model.\n",
    "    \"\"\"\n",
    "    score = np.zeros(len(model_list[0].feature_importances_))\n",
    "    for model in model_list:\n",
    "        score += model.feature_importances_ / float(len(model_list))\n",
    "        \n",
    "    return score"
   ]
  },
  {
   "cell_type": "code",
   "execution_count": 28,
   "metadata": {},
   "outputs": [],
   "source": [
    "def plot_feature_importance(model_list, input_columns):\n",
    "    \"\"\"\n",
    "    This function calculates the feature importance score of each input feature and plots\n",
    "    them on a pareto chart in descending order.\n",
    "    \"\"\"\n",
    "    cutoff = 1\n",
    "\n",
    "    score = combine_importance_score(model_list)\n",
    "    feature_importance = pd.DataFrame(score)\n",
    "    x_axis = input_columns\n",
    "    feature_importance.index = x_axis\n",
    "    feature_importance.columns = ['Feature Importance Score']\n",
    "    feature_importance.sort_values(by='Feature Importance Score',axis=0,ascending=False, inplace=True)\n",
    "\n",
    "    pareto_score = []\n",
    "    total_score = sum(feature_importance['Feature Importance Score'])\n",
    "    cumulative_score = 0\n",
    "    for index in feature_importance.index:\n",
    "        cumulative_score += feature_importance.loc[index,'Feature Importance Score']\n",
    "        if cumulative_score <= cutoff:\n",
    "            pareto_score.append(cumulative_score/total_score * 100)\n",
    "        else:\n",
    "            break\n",
    "\n",
    "    feature_importance_cutoff_index = feature_importance.index[:len(pareto_score)]\n",
    "    print(feature_importance_cutoff_index)\n",
    "    feature_importance_cutoff = feature_importance.loc[feature_importance_cutoff_index[0]:feature_importance_cutoff_index[len(pareto_score)-1],:]\n",
    "\n",
    "    fig, ax = plt.subplots()\n",
    "    fig = plt.xticks(rotation=90)\n",
    "    fig = sns.barplot(x=feature_importance_cutoff.index,y=feature_importance_cutoff['Feature Importance Score'], ax=ax)\n",
    "    ax2 = ax.twinx()\n",
    "    ax2.set_ylabel(\"Cumulative % of Total Importance Score\")\n",
    "    fig = sns.lineplot(x=np.arange(len(feature_importance_cutoff)), y=pareto_score, ax=ax2, color='black')"
   ]
  },
  {
   "cell_type": "code",
   "execution_count": 176,
   "metadata": {},
   "outputs": [
    {
     "name": "stdout",
     "output_type": "stream",
     "text": [
      "Index(['RSSI_Workshop', 'RSSI_Fridge', 'RSSI_MeetingRoom',\n",
      "       'RSSI_CoffeeMachine', 'RSSI_ResearcherEntrance', 'RSSI_Microwave',\n",
      "       'RSSI_Stratasys', 'RSSI_WaterDispenser', 'RSSI_PrototypingEntrance',\n",
      "       'RSSI_LabManagerOffice', 'RSSI_Ada', 'RSSI_AssemblyEntrance',\n",
      "       'RSSI_PrototypingRoom', 'RSSI_AssemblySpace',\n",
      "       'RSSI_LaserCuttingEntrance', 'RSSI_Carlye', 'RSSI_3DPrinter',\n",
      "       'RSSI_PrecisionRoom', 'RSSI_PrecisionEntrance', 'RSSI_LaserCutter',\n",
      "       'RSSI_Printer'],\n",
      "      dtype='object')\n"
     ]
    },
    {
     "data": {
      "image/png": "[encoded data removed]",
      "text/plain": [
       "<Figure size 432x288 with 2 Axes>"
      ]
     },
     "metadata": {},
     "output_type": "display_data"
    }
   ],
   "source": [
    "# Identify significant factors for assembly space model\n",
    "input_columns = train_data.loc[:,'RSSI_AssemblyEntrance':'RSSI_Printer'].columns.values.tolist()\n",
    "plot_feature_importance(assemblyspace_model, input_columns)\n",
    "assemblyspace_features = ['RSSI_Workshop','RSSI_Fridge','RSSI_MeetingRoom','RSSI_CoffeeMachine',\n",
    "                          'RSSI_ResearcherEntrance','RSSI_Microwave','RSSI_Stratasys']\n",
    "assemblyspace_feature_index = [input_columns.index(feature) for feature in assemblyspace_features]"
   ]
  },
  {
   "cell_type": "code",
   "execution_count": 177,
   "metadata": {},
   "outputs": [
    {
     "name": "stdout",
     "output_type": "stream",
     "text": [
      "Index(['RSSI_PrototypingRoom', 'RSSI_PrecisionEntrance', 'RSSI_Workshop',\n",
      "       'RSSI_Microwave', 'RSSI_AssemblySpace', 'RSSI_CoffeeMachine',\n",
      "       'RSSI_Carlye', 'RSSI_Fridge', 'RSSI_WaterDispenser', 'RSSI_Printer',\n",
      "       'RSSI_Stratasys', 'RSSI_PrototypingEntrance', 'RSSI_ResearcherEntrance',\n",
      "       'RSSI_AssemblyEntrance', 'RSSI_3DPrinter', 'RSSI_PrecisionRoom',\n",
      "       'RSSI_MeetingRoom', 'RSSI_Ada', 'RSSI_LabManagerOffice',\n",
      "       'RSSI_LaserCutter', 'RSSI_LaserCuttingEntrance'],\n",
      "      dtype='object')\n"
     ]
    },
    {
     "data": {
      "image/png": "[encoded data removed]",
      "text/plain": [
       "<Figure size 432x288 with 2 Axes>"
      ]
     },
     "metadata": {},
     "output_type": "display_data"
    }
   ],
   "source": [
    "# Identify significant factors for prototyping room model\n",
    "plot_feature_importance(prototyping_model, input_columns)\n",
    "prototyping_features = ['RSSI_PrototypingRoom','RSSI_PrecisionEntrance','RSSI_Workshop','RSSI_Microwave',\n",
    "                        'RSSI_AssemblySpace','RSSI_CoffeeMachine','RSSI_Carlye','RSSI_Fridge']\n",
    "prototyping_feature_index = [input_columns.index(feature) for feature in prototyping_features]"
   ]
  },
  {
   "cell_type": "code",
   "execution_count": 222,
   "metadata": {},
   "outputs": [
    {
     "name": "stdout",
     "output_type": "stream",
     "text": [
      "Index(['RSSI_ResearcherEntrance', 'RSSI_LaserCuttingEntrance', 'RSSI_Printer',\n",
      "       'RSSI_PrecisionRoom', 'RSSI_3DPrinter', 'RSSI_PrecisionEntrance',\n",
      "       'RSSI_CoffeeMachine', 'RSSI_AssemblySpace', 'RSSI_MeetingRoom',\n",
      "       'RSSI_WaterDispenser', 'RSSI_Microwave', 'RSSI_Fridge', 'RSSI_Carlye',\n",
      "       'RSSI_Ada', 'RSSI_LabManagerOffice', 'RSSI_LaserCutter',\n",
      "       'RSSI_PrototypingRoom', 'RSSI_Workshop', 'RSSI_Stratasys',\n",
      "       'RSSI_PrototypingEntrance', 'RSSI_AssemblyEntrance'],\n",
      "      dtype='object')\n"
     ]
    },
    {
     "data": {
      "image/png": "[encoded data removed]",
      "text/plain": [
       "<Figure size 432x288 with 2 Axes>"
      ]
     },
     "metadata": {},
     "output_type": "display_data"
    }
   ],
   "source": [
    "# Identify significant factors for out model\n",
    "plot_feature_importance(out_model, input_columns)\n",
    "out_features = ['RSSI_ResearcherEntrance','RSSI_LaserCuttingEntrance','RSSI_Printer',\n",
    "                'RSSI_PrecisionRoom','RSSI_3DPrinter','RSSI_PrecisionEntrance']\n",
    "out_feature_index = [input_columns.index(feature) for feature in out_features]"
   ]
  },
  {
   "cell_type": "code",
   "execution_count": 179,
   "metadata": {},
   "outputs": [
    {
     "name": "stdout",
     "output_type": "stream",
     "text": [
      "Index(['RSSI_LaserCuttingEntrance', 'RSSI_LaserCutter', 'RSSI_Stratasys',\n",
      "       'RSSI_3DPrinter', 'RSSI_ResearcherEntrance', 'RSSI_AssemblyEntrance',\n",
      "       'RSSI_LabManagerOffice', 'RSSI_Printer', 'RSSI_PrototypingEntrance',\n",
      "       'RSSI_PrecisionEntrance', 'RSSI_Ada', 'RSSI_Carlye',\n",
      "       'RSSI_WaterDispenser', 'RSSI_Microwave', 'RSSI_MeetingRoom',\n",
      "       'RSSI_CoffeeMachine', 'RSSI_PrecisionRoom', 'RSSI_Fridge',\n",
      "       'RSSI_AssemblySpace', 'RSSI_PrototypingRoom', 'RSSI_Workshop'],\n",
      "      dtype='object')\n"
     ]
    },
    {
     "data": {
      "image/png": "[encoded data removed]",
      "text/plain": [
       "<Figure size 432x288 with 2 Axes>"
      ]
     },
     "metadata": {},
     "output_type": "display_data"
    }
   ],
   "source": [
    "# Identify significant factors for lasercutting room model\n",
    "plot_feature_importance(lasercutting_model, input_columns)\n",
    "lasercutting_features = ['RSSI_LaserCuttingEntrance','RSSI_LaserCutter','RSSI_Stratasys','RSSI_3DPrinter',\n",
    "                         'RSSI_ResearcherEntrance','RSSI_AssemblyEntrance','RSSI_LabManagerOffice']\n",
    "lasercutting_feature_index = [input_columns.index(feature) for feature in lasercutting_features]"
   ]
  },
  {
   "cell_type": "code",
   "execution_count": 241,
   "metadata": {},
   "outputs": [
    {
     "name": "stdout",
     "output_type": "stream",
     "text": [
      "Index(['RSSI_Microwave', 'RSSI_Workshop', 'RSSI_Stratasys',\n",
      "       'RSSI_PrototypingEntrance', 'RSSI_Carlye', 'RSSI_WaterDispenser',\n",
      "       'RSSI_MeetingRoom', 'RSSI_3DPrinter', 'RSSI_Printer', 'RSSI_Fridge',\n",
      "       'RSSI_CoffeeMachine', 'RSSI_LaserCutter', 'RSSI_PrecisionRoom',\n",
      "       'RSSI_AssemblySpace', 'RSSI_LabManagerOffice', 'RSSI_Ada',\n",
      "       'RSSI_PrecisionEntrance', 'RSSI_PrototypingRoom',\n",
      "       'RSSI_AssemblyEntrance', 'RSSI_ResearcherEntrance'],\n",
      "      dtype='object')\n"
     ]
    },
    {
     "data": {
      "image/png": "[encoded data removed]",
      "text/plain": [
       "<Figure size 432x288 with 2 Axes>"
      ]
     },
     "metadata": {},
     "output_type": "display_data"
    }
   ],
   "source": [
    "# Identify significant factors for precision model\n",
    "plot_feature_importance(precision_model, input_columns)\n",
    "precision_features = ['RSSI_Microwave','RSSI_Workshop','RSSI_Stratasys','RSSI_PrototypingEntrance',\n",
    "                      'RSSI_Carlye','RSSI_WaterDispenser','RSSI_MeetingRoom','RSSI_3DPrinter',\n",
    "                      'RSSI_Printer','RSSI_Fridge','RSSI_CoffeeMachine','RSSI_LaserCutter',\n",
    "                      'RSSI_PrecisionRoom','RSSI_AssemblySpace','RSSI_LabManagerOffice']\n",
    "precision_feature_index = [input_columns.index(feature) for feature in precision_features]"
   ]
  },
  {
   "cell_type": "code",
   "execution_count": 242,
   "metadata": {},
   "outputs": [
    {
     "name": "stdout",
     "output_type": "stream",
     "text": [
      "Index(['RSSI_AssemblySpace', 'RSSI_Fridge', 'RSSI_Stratasys',\n",
      "       'RSSI_PrecisionRoom', 'RSSI_Workshop', 'RSSI_PrototypingEntrance',\n",
      "       'RSSI_3DPrinter', 'RSSI_Microwave', 'RSSI_MeetingRoom',\n",
      "       'RSSI_WaterDispenser', 'RSSI_PrototypingRoom', 'RSSI_LaserCutter',\n",
      "       'RSSI_CoffeeMachine', 'RSSI_Ada', 'RSSI_PrecisionEntrance',\n",
      "       'RSSI_Carlye', 'RSSI_LabManagerOffice', 'RSSI_ResearcherEntrance',\n",
      "       'RSSI_LaserCuttingEntrance', 'RSSI_Printer'],\n",
      "      dtype='object')\n"
     ]
    },
    {
     "data": {
      "image/png": "[encoded data removed]",
      "text/plain": [
       "<Figure size 432x288 with 2 Axes>"
      ]
     },
     "metadata": {},
     "output_type": "display_data"
    }
   ],
   "source": [
    "# Identify significant factors for pantry_other model\n",
    "plot_feature_importance(pantry_other_model, input_columns)\n",
    "pantry_other_features = ['RSSI_AssemblySpace','RSSI_Fridge','RSSI_Stratasys','RSSI_PrecisionRoom',\n",
    "                         'RSSI_Workshop','RSSI_PrototypingEntrance','RSSI_3DPrinter','RSSI_Microwave',\n",
    "                         'RSSI_MeetingRoom']\n",
    "pantry_other_feature_index = [input_columns.index(feature) for feature in pantry_other_features]"
   ]
  },
  {
   "cell_type": "code",
   "execution_count": 225,
   "metadata": {},
   "outputs": [
    {
     "name": "stdout",
     "output_type": "stream",
     "text": [
      "Index(['RSSI_LabManagerOffice', 'RSSI_CoffeeMachine', 'RSSI_WaterDispenser',\n",
      "       'RSSI_PrecisionEntrance', 'RSSI_Microwave', 'RSSI_Fridge',\n",
      "       'RSSI_PrecisionRoom', 'RSSI_Workshop', 'RSSI_ResearcherEntrance',\n",
      "       'RSSI_Ada', 'RSSI_PrototypingRoom', 'RSSI_LaserCuttingEntrance',\n",
      "       'RSSI_PrototypingEntrance', 'RSSI_MeetingRoom', 'RSSI_3DPrinter',\n",
      "       'RSSI_Carlye', 'RSSI_LaserCutter', 'RSSI_AssemblySpace',\n",
      "       'RSSI_Stratasys', 'RSSI_Printer', 'RSSI_AssemblyEntrance'],\n",
      "      dtype='object')\n"
     ]
    },
    {
     "data": {
      "image/png": "[encoded data removed]",
      "text/plain": [
       "<Figure size 432x288 with 2 Axes>"
      ]
     },
     "metadata": {},
     "output_type": "display_data"
    }
   ],
   "source": [
    "# Identify significant factors for fridge + coffeemachine model\n",
    "plot_feature_importance(fridgecoffeemachine_model, input_columns)\n",
    "fridgecoffeemachine_features = ['RSSI_LabManagerOffice','RSSI_CoffeeMachine','RSSI_WaterDispenser',\n",
    "                                'RSSI_PrecisionEntrance','RSSI_Microwave','RSSI_Fridge','RSSI_PrecisionRoom',\n",
    "                                'RSSI_Workshop','RSSI_ResearcherEntrance','RSSI_Ada','RSSI_PrototypingRoom',\n",
    "                                'RSSI_LaserCuttingEntrance','RSSI_PrototypingEntrance','RSSI_MeetingRoom']\n",
    "fridgecoffeemachine_feature_index = [input_columns.index(feature) for feature in fridgecoffeemachine_features]"
   ]
  },
  {
   "cell_type": "code",
   "execution_count": 226,
   "metadata": {},
   "outputs": [
    {
     "name": "stdout",
     "output_type": "stream",
     "text": [
      "Index(['RSSI_PrecisionRoom', 'RSSI_WaterDispenser', 'RSSI_Microwave',\n",
      "       'RSSI_Stratasys', 'RSSI_Ada', 'RSSI_ResearcherEntrance',\n",
      "       'RSSI_3DPrinter', 'RSSI_Fridge', 'RSSI_LaserCuttingEntrance',\n",
      "       'RSSI_CoffeeMachine', 'RSSI_MeetingRoom', 'RSSI_PrototypingRoom',\n",
      "       'RSSI_LabManagerOffice', 'RSSI_Printer', 'RSSI_Workshop', 'RSSI_Carlye',\n",
      "       'RSSI_PrecisionEntrance', 'RSSI_PrototypingEntrance',\n",
      "       'RSSI_LaserCutter', 'RSSI_AssemblySpace', 'RSSI_AssemblyEntrance'],\n",
      "      dtype='object')\n"
     ]
    },
    {
     "data": {
      "image/png": "[encoded data removed]",
      "text/plain": [
       "<Figure size 432x288 with 2 Axes>"
      ]
     },
     "metadata": {},
     "output_type": "display_data"
    }
   ],
   "source": [
    "# Identify significant factors for microwave + waterdispenser model\n",
    "plot_feature_importance(microwavewaterdispenser_model, input_columns)\n",
    "microwavewaterdispenser_features = ['RSSI_PrecisionRoom','RSSI_WaterDispenser',\n",
    "                                    'RSSI_Microwave','RSSI_Stratasys','RSSI_Ada',\n",
    "                                    'RSSI_ResearcherEntrance','RSSI_3DPrinter']\n",
    "microwavewaterdispenser_feature_index = [input_columns.index(feature) for feature in microwavewaterdispenser_features]"
   ]
  },
  {
   "cell_type": "code",
   "execution_count": 254,
   "metadata": {},
   "outputs": [
    {
     "name": "stdout",
     "output_type": "stream",
     "text": [
      "Index(['RSSI_WaterDispenser', 'RSSI_AssemblySpace', 'RSSI_Stratasys',\n",
      "       'RSSI_LabManagerOffice', 'RSSI_Fridge', 'RSSI_CoffeeMachine',\n",
      "       'RSSI_3DPrinter', 'RSSI_LaserCutter', 'RSSI_MeetingRoom',\n",
      "       'RSSI_AssemblyEntrance', 'RSSI_Microwave', 'RSSI_PrecisionEntrance',\n",
      "       'RSSI_PrototypingRoom', 'RSSI_PrototypingEntrance',\n",
      "       'RSSI_PrecisionRoom', 'RSSI_Printer', 'RSSI_Workshop',\n",
      "       'RSSI_LaserCuttingEntrance', 'RSSI_ResearcherEntrance', 'RSSI_Ada',\n",
      "       'RSSI_Carlye'],\n",
      "      dtype='object')\n"
     ]
    },
    {
     "data": {
      "image/png": "[encoded data removed]",
      "text/plain": [
       "<Figure size 432x288 with 2 Axes>"
      ]
     },
     "metadata": {},
     "output_type": "display_data"
    }
   ],
   "source": [
    "# Identify significant factors for meeting model\n",
    "plot_feature_importance(meeting_model, input_columns)\n",
    "meeting_features = ['RSSI_WaterDispenser','RSSI_AssemblySpace','RSSI_Stratasys','RSSI_LabManagerOffice',\n",
    "                    'RSSI_Fridge','RSSI_CoffeeMachine','RSSI_3DPrinter','RSSI_LaserCutter','RSSI_MeetingRoom',\n",
    "                    'RSSI_AssemblyEntrance','RSSI_Microwave','RSSI_PrecisionEntrance','RSSI_PrototypingRoom',\n",
    "                    'RSSI_PrototypingEntrance']\n",
    "meeting_feature_index = [input_columns.index(feature) for feature in meeting_features]"
   ]
  },
  {
   "cell_type": "code",
   "execution_count": 185,
   "metadata": {
    "scrolled": false
   },
   "outputs": [
    {
     "name": "stdout",
     "output_type": "stream",
     "text": [
      "Index(['RSSI_Ada', 'RSSI_PrecisionEntrance', 'RSSI_Fridge',\n",
      "       'RSSI_AssemblyEntrance', 'RSSI_3DPrinter', 'RSSI_Stratasys',\n",
      "       'RSSI_ResearcherEntrance', 'RSSI_CoffeeMachine',\n",
      "       'RSSI_LabManagerOffice', 'RSSI_Printer', 'RSSI_PrototypingEntrance',\n",
      "       'RSSI_LaserCuttingEntrance', 'RSSI_MeetingRoom', 'RSSI_Carlye',\n",
      "       'RSSI_AssemblySpace', 'RSSI_Workshop', 'RSSI_LaserCutter',\n",
      "       'RSSI_PrototypingRoom', 'RSSI_PrecisionRoom', 'RSSI_Microwave',\n",
      "       'RSSI_WaterDispenser'],\n",
      "      dtype='object')\n"
     ]
    },
    {
     "data": {
      "image/png": "[encoded data removed]",
      "text/plain": [
       "<Figure size 432x288 with 2 Axes>"
      ]
     },
     "metadata": {},
     "output_type": "display_data"
    }
   ],
   "source": [
    "# Identify significant factors for officearea_1 model\n",
    "plot_feature_importance(officearea_1_model, input_columns)\n",
    "officearea_1_features = ['RSSI_Ada','RSSI_PrecisionEntrance','RSSI_Fridge','RSSI_AssemblyEntrance',\n",
    "                         'RSSI_3DPrinter','RSSI_Stratasys','RSSI_ResearcherEntrance',\n",
    "                         'RSSI_CoffeeMachine','RSSI_LabManagerOffice']\n",
    "officearea_1_feature_index = [input_columns.index(feature) for feature in officearea_1_features]"
   ]
  },
  {
   "cell_type": "code",
   "execution_count": 244,
   "metadata": {},
   "outputs": [
    {
     "name": "stdout",
     "output_type": "stream",
     "text": [
      "Index(['RSSI_Stratasys', 'RSSI_LabManagerOffice', 'RSSI_PrecisionEntrance',\n",
      "       'RSSI_Ada', 'RSSI_PrecisionRoom', 'RSSI_Carlye', 'RSSI_Printer',\n",
      "       'RSSI_CoffeeMachine', 'RSSI_PrototypingEntrance', 'RSSI_MeetingRoom',\n",
      "       'RSSI_Workshop', 'RSSI_PrototypingRoom', 'RSSI_Fridge',\n",
      "       'RSSI_3DPrinter', 'RSSI_LaserCuttingEntrance', 'RSSI_AssemblySpace',\n",
      "       'RSSI_WaterDispenser', 'RSSI_LaserCutter', 'RSSI_ResearcherEntrance',\n",
      "       'RSSI_Microwave', 'RSSI_AssemblyEntrance'],\n",
      "      dtype='object')\n"
     ]
    },
    {
     "data": {
      "image/png": "[encoded data removed]",
      "text/plain": [
       "<Figure size 432x288 with 2 Axes>"
      ]
     },
     "metadata": {},
     "output_type": "display_data"
    }
   ],
   "source": [
    "# Identify significant factors for officearea_2 model\n",
    "plot_feature_importance(officearea_2_model, input_columns)\n",
    "officearea_2_features = ['RSSI_Stratasys','RSSI_LabManagerOffice','RSSI_PrecisionEntrance',\n",
    "                         'RSSI_Ada','RSSI_PrecisionRoom','RSSI_Carlye','RSSI_Printer']\n",
    "officearea_2_feature_index = [input_columns.index(feature) for feature in officearea_2_features]"
   ]
  },
  {
   "cell_type": "code",
   "execution_count": 245,
   "metadata": {},
   "outputs": [
    {
     "name": "stdout",
     "output_type": "stream",
     "text": [
      "Index(['RSSI_Printer', 'RSSI_WaterDispenser', 'RSSI_Stratasys', 'RSSI_Ada',\n",
      "       'RSSI_3DPrinter', 'RSSI_Workshop', 'RSSI_AssemblySpace',\n",
      "       'RSSI_LabManagerOffice', 'RSSI_PrototypingEntrance',\n",
      "       'RSSI_PrecisionEntrance', 'RSSI_Carlye', 'RSSI_PrototypingRoom',\n",
      "       'RSSI_Fridge', 'RSSI_ResearcherEntrance', 'RSSI_LaserCuttingEntrance',\n",
      "       'RSSI_CoffeeMachine', 'RSSI_MeetingRoom', 'RSSI_LaserCutter',\n",
      "       'RSSI_PrecisionRoom', 'RSSI_Microwave', 'RSSI_AssemblyEntrance'],\n",
      "      dtype='object')\n"
     ]
    },
    {
     "data": {
      "image/png": "[encoded data removed]",
      "text/plain": [
       "<Figure size 432x288 with 2 Axes>"
      ]
     },
     "metadata": {},
     "output_type": "display_data"
    }
   ],
   "source": [
    "# Identify significant factors for printer model\n",
    "plot_feature_importance(printer_model, input_columns)\n",
    "printer_features = ['RSSI_Printer','RSSI_WaterDispenser','RSSI_Stratasys','RSSI_Ada',\n",
    "                    'RSSI_3DPrinter','RSSI_Workshop','RSSI_AssemblySpace', \n",
    "                    'RSSI_LabManagerOffice','RSSI_PrototypingEntrance','RSSI_PrecisionEntrance']\n",
    "printer_feature_index = [input_columns.index(feature) for feature in printer_features]"
   ]
  },
  {
   "cell_type": "markdown",
   "metadata": {},
   "source": [
    "# Retrain model based on most significant input features"
   ]
  },
  {
   "cell_type": "code",
   "execution_count": 188,
   "metadata": {
    "scrolled": true
   },
   "outputs": [
    {
     "name": "stdout",
     "output_type": "stream",
     "text": [
      "Fitting 5 folds for each of 100 candidates, totalling 500 fits\n"
     ]
    },
    {
     "name": "stderr",
     "output_type": "stream",
     "text": [
      "[Parallel(n_jobs=-1)]: Using backend LokyBackend with 8 concurrent workers.\n",
      "[Parallel(n_jobs=-1)]: Done  25 tasks      | elapsed:    3.3s\n",
      "[Parallel(n_jobs=-1)]: Done 146 tasks      | elapsed:    7.0s\n",
      "[Parallel(n_jobs=-1)]: Done 349 tasks      | elapsed:   12.9s\n",
      "[Parallel(n_jobs=-1)]: Done 500 out of 500 | elapsed:   17.1s finished\n",
      "[Parallel(n_jobs=-1)]: Using backend LokyBackend with 8 concurrent workers.\n"
     ]
    },
    {
     "name": "stdout",
     "output_type": "stream",
     "text": [
      "Best Model Parameters\n",
      "{'n_estimators': 150, 'min_samples_split': 5, 'min_samples_leaf': 5, 'max_depth': 5}\n",
      "Fitting 5 folds for each of 100 candidates, totalling 500 fits\n"
     ]
    },
    {
     "name": "stderr",
     "output_type": "stream",
     "text": [
      "[Parallel(n_jobs=-1)]: Done  25 tasks      | elapsed:    1.1s\n",
      "[Parallel(n_jobs=-1)]: Done 146 tasks      | elapsed:    4.9s\n",
      "[Parallel(n_jobs=-1)]: Done 349 tasks      | elapsed:   11.6s\n",
      "[Parallel(n_jobs=-1)]: Done 500 out of 500 | elapsed:   16.6s finished\n",
      "[Parallel(n_jobs=-1)]: Using backend LokyBackend with 8 concurrent workers.\n"
     ]
    },
    {
     "name": "stdout",
     "output_type": "stream",
     "text": [
      "Best Model Parameters\n",
      "{'n_estimators': 180, 'min_samples_split': 3, 'min_samples_leaf': 5, 'max_depth': 2}\n",
      "Fitting 5 folds for each of 100 candidates, totalling 500 fits\n"
     ]
    },
    {
     "name": "stderr",
     "output_type": "stream",
     "text": [
      "[Parallel(n_jobs=-1)]: Done  25 tasks      | elapsed:    1.2s\n",
      "[Parallel(n_jobs=-1)]: Done 146 tasks      | elapsed:    5.0s\n",
      "[Parallel(n_jobs=-1)]: Done 349 tasks      | elapsed:   12.1s\n",
      "[Parallel(n_jobs=-1)]: Done 500 out of 500 | elapsed:   16.4s finished\n",
      "[Parallel(n_jobs=-1)]: Using backend LokyBackend with 8 concurrent workers.\n"
     ]
    },
    {
     "name": "stdout",
     "output_type": "stream",
     "text": [
      "Best Model Parameters\n",
      "{'n_estimators': 160, 'min_samples_split': 2, 'min_samples_leaf': 1, 'max_depth': 2}\n",
      "Fitting 5 folds for each of 100 candidates, totalling 500 fits\n"
     ]
    },
    {
     "name": "stderr",
     "output_type": "stream",
     "text": [
      "[Parallel(n_jobs=-1)]: Done  25 tasks      | elapsed:    1.0s\n",
      "[Parallel(n_jobs=-1)]: Done 146 tasks      | elapsed:    4.2s\n",
      "[Parallel(n_jobs=-1)]: Done 349 tasks      | elapsed:   10.9s\n",
      "[Parallel(n_jobs=-1)]: Done 500 out of 500 | elapsed:   15.4s finished\n",
      "[Parallel(n_jobs=-1)]: Using backend LokyBackend with 8 concurrent workers.\n"
     ]
    },
    {
     "name": "stdout",
     "output_type": "stream",
     "text": [
      "Best Model Parameters\n",
      "{'n_estimators': 80, 'min_samples_split': 3, 'min_samples_leaf': 3, 'max_depth': 2}\n",
      "Fitting 5 folds for each of 100 candidates, totalling 500 fits\n"
     ]
    },
    {
     "name": "stderr",
     "output_type": "stream",
     "text": [
      "[Parallel(n_jobs=-1)]: Done  34 tasks      | elapsed:    1.2s\n",
      "[Parallel(n_jobs=-1)]: Done 276 tasks      | elapsed:    8.0s\n",
      "[Parallel(n_jobs=-1)]: Done 500 out of 500 | elapsed:   14.9s finished\n",
      "[Parallel(n_jobs=-1)]: Using backend LokyBackend with 8 concurrent workers.\n"
     ]
    },
    {
     "name": "stdout",
     "output_type": "stream",
     "text": [
      "Best Model Parameters\n",
      "{'n_estimators': 80, 'min_samples_split': 3, 'min_samples_leaf': 4, 'max_depth': 5}\n",
      "Fitting 5 folds for each of 100 candidates, totalling 500 fits\n"
     ]
    },
    {
     "name": "stderr",
     "output_type": "stream",
     "text": [
      "[Parallel(n_jobs=-1)]: Done  34 tasks      | elapsed:    1.3s\n",
      "[Parallel(n_jobs=-1)]: Done 276 tasks      | elapsed:    8.5s\n",
      "[Parallel(n_jobs=-1)]: Done 500 out of 500 | elapsed:   15.3s finished\n",
      "[Parallel(n_jobs=-1)]: Using backend LokyBackend with 8 concurrent workers.\n"
     ]
    },
    {
     "name": "stdout",
     "output_type": "stream",
     "text": [
      "Best Model Parameters\n",
      "{'n_estimators': 190, 'min_samples_split': 4, 'min_samples_leaf': 4, 'max_depth': 4}\n",
      "Fitting 5 folds for each of 100 candidates, totalling 500 fits\n"
     ]
    },
    {
     "name": "stderr",
     "output_type": "stream",
     "text": [
      "[Parallel(n_jobs=-1)]: Done  25 tasks      | elapsed:    0.8s\n",
      "[Parallel(n_jobs=-1)]: Done 146 tasks      | elapsed:    4.6s\n",
      "[Parallel(n_jobs=-1)]: Done 349 tasks      | elapsed:   11.1s\n",
      "[Parallel(n_jobs=-1)]: Done 500 out of 500 | elapsed:   15.9s finished\n",
      "[Parallel(n_jobs=-1)]: Using backend LokyBackend with 8 concurrent workers.\n"
     ]
    },
    {
     "name": "stdout",
     "output_type": "stream",
     "text": [
      "Best Model Parameters\n",
      "{'n_estimators': 110, 'min_samples_split': 2, 'min_samples_leaf': 4, 'max_depth': 5}\n",
      "Fitting 5 folds for each of 100 candidates, totalling 500 fits\n"
     ]
    },
    {
     "name": "stderr",
     "output_type": "stream",
     "text": [
      "[Parallel(n_jobs=-1)]: Done  34 tasks      | elapsed:    1.4s\n",
      "[Parallel(n_jobs=-1)]: Done 276 tasks      | elapsed:    8.6s\n",
      "[Parallel(n_jobs=-1)]: Done 500 out of 500 | elapsed:   15.1s finished\n",
      "[Parallel(n_jobs=-1)]: Using backend LokyBackend with 8 concurrent workers.\n"
     ]
    },
    {
     "name": "stdout",
     "output_type": "stream",
     "text": [
      "Best Model Parameters\n",
      "{'n_estimators': 150, 'min_samples_split': 2, 'min_samples_leaf': 4, 'max_depth': 3}\n",
      "Fitting 5 folds for each of 100 candidates, totalling 500 fits\n"
     ]
    },
    {
     "name": "stderr",
     "output_type": "stream",
     "text": [
      "[Parallel(n_jobs=-1)]: Done  25 tasks      | elapsed:    1.0s\n",
      "[Parallel(n_jobs=-1)]: Done 146 tasks      | elapsed:    4.6s\n",
      "[Parallel(n_jobs=-1)]: Done 349 tasks      | elapsed:   11.4s\n",
      "[Parallel(n_jobs=-1)]: Done 500 out of 500 | elapsed:   16.5s finished\n"
     ]
    },
    {
     "name": "stdout",
     "output_type": "stream",
     "text": [
      "Best Model Parameters\n",
      "{'n_estimators': 190, 'min_samples_split': 3, 'min_samples_leaf': 5, 'max_depth': 5}\n",
      "Fitting 5 folds for each of 100 candidates, totalling 500 fits\n"
     ]
    },
    {
     "name": "stderr",
     "output_type": "stream",
     "text": [
      "[Parallel(n_jobs=-1)]: Using backend LokyBackend with 8 concurrent workers.\n",
      "[Parallel(n_jobs=-1)]: Done  25 tasks      | elapsed:    1.0s\n",
      "[Parallel(n_jobs=-1)]: Done 146 tasks      | elapsed:    4.3s\n",
      "[Parallel(n_jobs=-1)]: Done 349 tasks      | elapsed:   10.0s\n",
      "[Parallel(n_jobs=-1)]: Done 500 out of 500 | elapsed:   14.2s finished\n",
      "[Parallel(n_jobs=-1)]: Using backend LokyBackend with 8 concurrent workers.\n"
     ]
    },
    {
     "name": "stdout",
     "output_type": "stream",
     "text": [
      "Best Model Parameters\n",
      "{'n_estimators': 170, 'min_samples_split': 5, 'min_samples_leaf': 3, 'max_depth': 2}\n",
      "Fitting 5 folds for each of 100 candidates, totalling 500 fits\n"
     ]
    },
    {
     "name": "stderr",
     "output_type": "stream",
     "text": [
      "[Parallel(n_jobs=-1)]: Done  25 tasks      | elapsed:    1.0s\n",
      "[Parallel(n_jobs=-1)]: Done 146 tasks      | elapsed:    4.3s\n",
      "[Parallel(n_jobs=-1)]: Done 349 tasks      | elapsed:    9.5s\n",
      "[Parallel(n_jobs=-1)]: Done 500 out of 500 | elapsed:   13.4s finished\n",
      "[Parallel(n_jobs=-1)]: Using backend LokyBackend with 8 concurrent workers.\n"
     ]
    },
    {
     "name": "stdout",
     "output_type": "stream",
     "text": [
      "Best Model Parameters\n",
      "{'n_estimators': 140, 'min_samples_split': 4, 'min_samples_leaf': 3, 'max_depth': 2}\n",
      "Fitting 5 folds for each of 100 candidates, totalling 500 fits\n"
     ]
    },
    {
     "name": "stderr",
     "output_type": "stream",
     "text": [
      "[Parallel(n_jobs=-1)]: Done  34 tasks      | elapsed:    1.1s\n",
      "[Parallel(n_jobs=-1)]: Done 276 tasks      | elapsed:    8.4s\n",
      "[Parallel(n_jobs=-1)]: Done 500 out of 500 | elapsed:   14.6s finished\n",
      "[Parallel(n_jobs=-1)]: Using backend LokyBackend with 8 concurrent workers.\n"
     ]
    },
    {
     "name": "stdout",
     "output_type": "stream",
     "text": [
      "Best Model Parameters\n",
      "{'n_estimators': 190, 'min_samples_split': 5, 'min_samples_leaf': 4, 'max_depth': 5}\n",
      "Fitting 5 folds for each of 100 candidates, totalling 500 fits\n"
     ]
    },
    {
     "name": "stderr",
     "output_type": "stream",
     "text": [
      "[Parallel(n_jobs=-1)]: Done  34 tasks      | elapsed:    1.1s\n",
      "[Parallel(n_jobs=-1)]: Done 276 tasks      | elapsed:    8.2s\n",
      "[Parallel(n_jobs=-1)]: Done 500 out of 500 | elapsed:   14.7s finished\n",
      "[Parallel(n_jobs=-1)]: Using backend LokyBackend with 8 concurrent workers.\n"
     ]
    },
    {
     "name": "stdout",
     "output_type": "stream",
     "text": [
      "Best Model Parameters\n",
      "{'n_estimators': 110, 'min_samples_split': 3, 'min_samples_leaf': 1, 'max_depth': 5}\n",
      "Fitting 5 folds for each of 100 candidates, totalling 500 fits\n"
     ]
    },
    {
     "name": "stderr",
     "output_type": "stream",
     "text": [
      "[Parallel(n_jobs=-1)]: Done  25 tasks      | elapsed:    1.1s\n",
      "[Parallel(n_jobs=-1)]: Done 146 tasks      | elapsed:    4.8s\n",
      "[Parallel(n_jobs=-1)]: Done 349 tasks      | elapsed:   10.7s\n",
      "[Parallel(n_jobs=-1)]: Done 500 out of 500 | elapsed:   15.8s finished\n",
      "[Parallel(n_jobs=-1)]: Using backend LokyBackend with 8 concurrent workers.\n"
     ]
    },
    {
     "name": "stdout",
     "output_type": "stream",
     "text": [
      "Best Model Parameters\n",
      "{'n_estimators': 80, 'min_samples_split': 3, 'min_samples_leaf': 1, 'max_depth': 3}\n",
      "Fitting 5 folds for each of 100 candidates, totalling 500 fits\n"
     ]
    },
    {
     "name": "stderr",
     "output_type": "stream",
     "text": [
      "[Parallel(n_jobs=-1)]: Done  25 tasks      | elapsed:    0.9s\n",
      "[Parallel(n_jobs=-1)]: Done 146 tasks      | elapsed:    4.4s\n",
      "[Parallel(n_jobs=-1)]: Done 349 tasks      | elapsed:   10.4s\n"
     ]
    },
    {
     "name": "stdout",
     "output_type": "stream",
     "text": [
      "Best Model Parameters\n",
      "{'n_estimators': 150, 'min_samples_split': 2, 'min_samples_leaf': 1, 'max_depth': 3}\n"
     ]
    },
    {
     "name": "stderr",
     "output_type": "stream",
     "text": [
      "[Parallel(n_jobs=-1)]: Done 500 out of 500 | elapsed:   14.6s finished\n"
     ]
    }
   ],
   "source": [
    "# Retrain assembly space model based on most significant features\n",
    "retrained_assemblyspace_model = train_ensemble_model(Xtrain[:,assemblyspace_feature_index], Ytrain['Model3_AssemblySpace'])"
   ]
  },
  {
   "cell_type": "code",
   "execution_count": 189,
   "metadata": {},
   "outputs": [
    {
     "name": "stdout",
     "output_type": "stream",
     "text": [
      "Fitting 5 folds for each of 100 candidates, totalling 500 fits\n"
     ]
    },
    {
     "name": "stderr",
     "output_type": "stream",
     "text": [
      "[Parallel(n_jobs=-1)]: Using backend LokyBackend with 8 concurrent workers.\n",
      "[Parallel(n_jobs=-1)]: Done  25 tasks      | elapsed:    1.0s\n",
      "[Parallel(n_jobs=-1)]: Done 146 tasks      | elapsed:    5.3s\n",
      "[Parallel(n_jobs=-1)]: Done 349 tasks      | elapsed:   13.1s\n",
      "[Parallel(n_jobs=-1)]: Done 500 out of 500 | elapsed:   18.2s finished\n"
     ]
    },
    {
     "name": "stdout",
     "output_type": "stream",
     "text": [
      "Best Model Parameters\n",
      "{'n_estimators': 140, 'min_samples_split': 3, 'min_samples_leaf': 2, 'max_depth': 5}\n",
      "Fitting 5 folds for each of 100 candidates, totalling 500 fits\n"
     ]
    },
    {
     "name": "stderr",
     "output_type": "stream",
     "text": [
      "[Parallel(n_jobs=-1)]: Using backend LokyBackend with 8 concurrent workers.\n",
      "[Parallel(n_jobs=-1)]: Done  25 tasks      | elapsed:    1.1s\n",
      "[Parallel(n_jobs=-1)]: Done 146 tasks      | elapsed:    5.1s\n",
      "[Parallel(n_jobs=-1)]: Done 349 tasks      | elapsed:   12.7s\n",
      "[Parallel(n_jobs=-1)]: Done 500 out of 500 | elapsed:   18.6s finished\n"
     ]
    },
    {
     "name": "stdout",
     "output_type": "stream",
     "text": [
      "Best Model Parameters\n",
      "{'n_estimators': 160, 'min_samples_split': 5, 'min_samples_leaf': 3, 'max_depth': 5}\n",
      "Fitting 5 folds for each of 100 candidates, totalling 500 fits\n"
     ]
    },
    {
     "name": "stderr",
     "output_type": "stream",
     "text": [
      "[Parallel(n_jobs=-1)]: Using backend LokyBackend with 8 concurrent workers.\n",
      "[Parallel(n_jobs=-1)]: Done  25 tasks      | elapsed:    1.2s\n",
      "[Parallel(n_jobs=-1)]: Done 146 tasks      | elapsed:    5.1s\n",
      "[Parallel(n_jobs=-1)]: Done 349 tasks      | elapsed:   12.8s\n",
      "[Parallel(n_jobs=-1)]: Done 500 out of 500 | elapsed:   17.2s finished\n"
     ]
    },
    {
     "name": "stdout",
     "output_type": "stream",
     "text": [
      "Best Model Parameters\n",
      "{'n_estimators': 190, 'min_samples_split': 5, 'min_samples_leaf': 2, 'max_depth': 5}\n",
      "Fitting 5 folds for each of 100 candidates, totalling 500 fits\n"
     ]
    },
    {
     "name": "stderr",
     "output_type": "stream",
     "text": [
      "[Parallel(n_jobs=-1)]: Using backend LokyBackend with 8 concurrent workers.\n",
      "[Parallel(n_jobs=-1)]: Done  34 tasks      | elapsed:    1.4s\n",
      "[Parallel(n_jobs=-1)]: Done 276 tasks      | elapsed:    9.6s\n",
      "[Parallel(n_jobs=-1)]: Done 500 out of 500 | elapsed:   17.1s finished\n"
     ]
    },
    {
     "name": "stdout",
     "output_type": "stream",
     "text": [
      "Best Model Parameters\n",
      "{'n_estimators': 150, 'min_samples_split': 4, 'min_samples_leaf': 5, 'max_depth': 4}\n",
      "Fitting 5 folds for each of 100 candidates, totalling 500 fits\n"
     ]
    },
    {
     "name": "stderr",
     "output_type": "stream",
     "text": [
      "[Parallel(n_jobs=-1)]: Using backend LokyBackend with 8 concurrent workers.\n",
      "[Parallel(n_jobs=-1)]: Done  34 tasks      | elapsed:    1.5s\n",
      "[Parallel(n_jobs=-1)]: Done 276 tasks      | elapsed:    9.4s\n",
      "[Parallel(n_jobs=-1)]: Done 500 out of 500 | elapsed:   16.9s finished\n"
     ]
    },
    {
     "name": "stdout",
     "output_type": "stream",
     "text": [
      "Best Model Parameters\n",
      "{'n_estimators': 190, 'min_samples_split': 5, 'min_samples_leaf': 2, 'max_depth': 3}\n",
      "Fitting 5 folds for each of 100 candidates, totalling 500 fits\n"
     ]
    },
    {
     "name": "stderr",
     "output_type": "stream",
     "text": [
      "[Parallel(n_jobs=-1)]: Using backend LokyBackend with 8 concurrent workers.\n",
      "[Parallel(n_jobs=-1)]: Done  34 tasks      | elapsed:    1.4s\n",
      "[Parallel(n_jobs=-1)]: Done 276 tasks      | elapsed:   10.7s\n",
      "[Parallel(n_jobs=-1)]: Done 500 out of 500 | elapsed:   18.5s finished\n",
      "[Parallel(n_jobs=-1)]: Using backend LokyBackend with 8 concurrent workers.\n"
     ]
    },
    {
     "name": "stdout",
     "output_type": "stream",
     "text": [
      "Best Model Parameters\n",
      "{'n_estimators': 130, 'min_samples_split': 4, 'min_samples_leaf': 4, 'max_depth': 3}\n",
      "Fitting 5 folds for each of 100 candidates, totalling 500 fits\n"
     ]
    },
    {
     "name": "stderr",
     "output_type": "stream",
     "text": [
      "[Parallel(n_jobs=-1)]: Done  25 tasks      | elapsed:    1.3s\n",
      "[Parallel(n_jobs=-1)]: Done 146 tasks      | elapsed:    6.0s\n",
      "[Parallel(n_jobs=-1)]: Done 349 tasks      | elapsed:   13.4s\n",
      "[Parallel(n_jobs=-1)]: Done 500 out of 500 | elapsed:   19.4s finished\n"
     ]
    },
    {
     "name": "stdout",
     "output_type": "stream",
     "text": [
      "Best Model Parameters\n",
      "{'n_estimators': 190, 'min_samples_split': 3, 'min_samples_leaf': 4, 'max_depth': 3}\n",
      "Fitting 5 folds for each of 100 candidates, totalling 500 fits\n"
     ]
    },
    {
     "name": "stderr",
     "output_type": "stream",
     "text": [
      "[Parallel(n_jobs=-1)]: Using backend LokyBackend with 8 concurrent workers.\n",
      "[Parallel(n_jobs=-1)]: Done  34 tasks      | elapsed:    1.3s\n",
      "[Parallel(n_jobs=-1)]: Done 276 tasks      | elapsed:   11.1s\n",
      "[Parallel(n_jobs=-1)]: Done 500 out of 500 | elapsed:   18.9s finished\n"
     ]
    },
    {
     "name": "stdout",
     "output_type": "stream",
     "text": [
      "Best Model Parameters\n",
      "{'n_estimators': 200, 'min_samples_split': 4, 'min_samples_leaf': 2, 'max_depth': 3}\n",
      "Fitting 5 folds for each of 100 candidates, totalling 500 fits\n"
     ]
    },
    {
     "name": "stderr",
     "output_type": "stream",
     "text": [
      "[Parallel(n_jobs=-1)]: Using backend LokyBackend with 8 concurrent workers.\n",
      "[Parallel(n_jobs=-1)]: Done  34 tasks      | elapsed:    1.5s\n",
      "[Parallel(n_jobs=-1)]: Done 276 tasks      | elapsed:    9.6s\n",
      "[Parallel(n_jobs=-1)]: Done 500 out of 500 | elapsed:   18.5s finished\n"
     ]
    },
    {
     "name": "stdout",
     "output_type": "stream",
     "text": [
      "Best Model Parameters\n",
      "{'n_estimators': 140, 'min_samples_split': 2, 'min_samples_leaf': 3, 'max_depth': 4}\n",
      "Fitting 5 folds for each of 100 candidates, totalling 500 fits\n"
     ]
    },
    {
     "name": "stderr",
     "output_type": "stream",
     "text": [
      "[Parallel(n_jobs=-1)]: Using backend LokyBackend with 8 concurrent workers.\n",
      "[Parallel(n_jobs=-1)]: Done  34 tasks      | elapsed:    1.7s\n",
      "[Parallel(n_jobs=-1)]: Done 276 tasks      | elapsed:   11.7s\n",
      "[Parallel(n_jobs=-1)]: Done 500 out of 500 | elapsed:   20.1s finished\n",
      "[Parallel(n_jobs=-1)]: Using backend LokyBackend with 8 concurrent workers.\n"
     ]
    },
    {
     "name": "stdout",
     "output_type": "stream",
     "text": [
      "Best Model Parameters\n",
      "{'n_estimators': 200, 'min_samples_split': 5, 'min_samples_leaf': 3, 'max_depth': 2}\n",
      "Fitting 5 folds for each of 100 candidates, totalling 500 fits\n"
     ]
    },
    {
     "name": "stderr",
     "output_type": "stream",
     "text": [
      "[Parallel(n_jobs=-1)]: Done  70 tasks      | elapsed:    3.2s\n",
      "[Parallel(n_jobs=-1)]: Done 263 tasks      | elapsed:    9.0s\n",
      "[Parallel(n_jobs=-1)]: Done 466 tasks      | elapsed:   16.0s\n",
      "[Parallel(n_jobs=-1)]: Done 500 out of 500 | elapsed:   17.1s finished\n"
     ]
    },
    {
     "name": "stdout",
     "output_type": "stream",
     "text": [
      "Best Model Parameters\n",
      "{'n_estimators': 190, 'min_samples_split': 2, 'min_samples_leaf': 2, 'max_depth': 3}\n",
      "Fitting 5 folds for each of 100 candidates, totalling 500 fits\n"
     ]
    },
    {
     "name": "stderr",
     "output_type": "stream",
     "text": [
      "[Parallel(n_jobs=-1)]: Using backend LokyBackend with 8 concurrent workers.\n",
      "[Parallel(n_jobs=-1)]: Done  25 tasks      | elapsed:    1.1s\n",
      "[Parallel(n_jobs=-1)]: Done 146 tasks      | elapsed:    5.7s\n",
      "[Parallel(n_jobs=-1)]: Done 349 tasks      | elapsed:   12.7s\n",
      "[Parallel(n_jobs=-1)]: Done 500 out of 500 | elapsed:   18.3s finished\n"
     ]
    },
    {
     "name": "stdout",
     "output_type": "stream",
     "text": [
      "Best Model Parameters\n",
      "{'n_estimators': 200, 'min_samples_split': 3, 'min_samples_leaf': 5, 'max_depth': 3}\n",
      "Fitting 5 folds for each of 100 candidates, totalling 500 fits\n"
     ]
    },
    {
     "name": "stderr",
     "output_type": "stream",
     "text": [
      "[Parallel(n_jobs=-1)]: Using backend LokyBackend with 8 concurrent workers.\n",
      "[Parallel(n_jobs=-1)]: Done  25 tasks      | elapsed:    1.2s\n",
      "[Parallel(n_jobs=-1)]: Done 146 tasks      | elapsed:    5.4s\n",
      "[Parallel(n_jobs=-1)]: Done 349 tasks      | elapsed:   12.8s\n",
      "[Parallel(n_jobs=-1)]: Done 500 out of 500 | elapsed:   17.8s finished\n",
      "[Parallel(n_jobs=-1)]: Using backend LokyBackend with 8 concurrent workers.\n"
     ]
    },
    {
     "name": "stdout",
     "output_type": "stream",
     "text": [
      "Best Model Parameters\n",
      "{'n_estimators': 90, 'min_samples_split': 3, 'min_samples_leaf': 1, 'max_depth': 4}\n",
      "Fitting 5 folds for each of 100 candidates, totalling 500 fits\n"
     ]
    },
    {
     "name": "stderr",
     "output_type": "stream",
     "text": [
      "[Parallel(n_jobs=-1)]: Done  25 tasks      | elapsed:    0.9s\n",
      "[Parallel(n_jobs=-1)]: Done 146 tasks      | elapsed:    5.4s\n",
      "[Parallel(n_jobs=-1)]: Done 349 tasks      | elapsed:   13.6s\n",
      "[Parallel(n_jobs=-1)]: Done 500 out of 500 | elapsed:   19.7s finished\n"
     ]
    },
    {
     "name": "stdout",
     "output_type": "stream",
     "text": [
      "Best Model Parameters\n",
      "{'n_estimators': 120, 'min_samples_split': 3, 'min_samples_leaf': 5, 'max_depth': 5}\n",
      "Fitting 5 folds for each of 100 candidates, totalling 500 fits\n"
     ]
    },
    {
     "name": "stderr",
     "output_type": "stream",
     "text": [
      "[Parallel(n_jobs=-1)]: Using backend LokyBackend with 8 concurrent workers.\n",
      "[Parallel(n_jobs=-1)]: Done  25 tasks      | elapsed:    1.0s\n",
      "[Parallel(n_jobs=-1)]: Done 146 tasks      | elapsed:    5.6s\n",
      "[Parallel(n_jobs=-1)]: Done 349 tasks      | elapsed:   13.2s\n"
     ]
    },
    {
     "name": "stdout",
     "output_type": "stream",
     "text": [
      "Best Model Parameters\n",
      "{'n_estimators': 150, 'min_samples_split': 5, 'min_samples_leaf': 4, 'max_depth': 2}\n"
     ]
    },
    {
     "name": "stderr",
     "output_type": "stream",
     "text": [
      "[Parallel(n_jobs=-1)]: Done 500 out of 500 | elapsed:   17.9s finished\n"
     ]
    }
   ],
   "source": [
    "# Retrain prototyping room model based on most significant features\n",
    "retrained_prototyping_model = train_ensemble_model(Xtrain[:,prototyping_feature_index], Ytrain['Model3_PrototypingRoom'])"
   ]
  },
  {
   "cell_type": "code",
   "execution_count": 230,
   "metadata": {},
   "outputs": [
    {
     "name": "stdout",
     "output_type": "stream",
     "text": [
      "Fitting 5 folds for each of 100 candidates, totalling 500 fits\n"
     ]
    },
    {
     "name": "stderr",
     "output_type": "stream",
     "text": [
      "[Parallel(n_jobs=-1)]: Using backend LokyBackend with 8 concurrent workers.\n",
      "[Parallel(n_jobs=-1)]: Done  25 tasks      | elapsed:    2.9s\n",
      "[Parallel(n_jobs=-1)]: Done 146 tasks      | elapsed:    5.1s\n",
      "[Parallel(n_jobs=-1)]: Done 383 tasks      | elapsed:    9.4s\n",
      "[Parallel(n_jobs=-1)]: Done 485 out of 500 | elapsed:   11.4s remaining:    0.4s\n",
      "[Parallel(n_jobs=-1)]: Done 500 out of 500 | elapsed:   11.7s finished\n",
      "[Parallel(n_jobs=-1)]: Using backend LokyBackend with 8 concurrent workers.\n"
     ]
    },
    {
     "name": "stdout",
     "output_type": "stream",
     "text": [
      "Best Model Parameters\n",
      "{'n_estimators': 170, 'min_samples_split': 4, 'min_samples_leaf': 1, 'max_depth': 2}\n",
      "Fitting 5 folds for each of 100 candidates, totalling 500 fits\n"
     ]
    },
    {
     "name": "stderr",
     "output_type": "stream",
     "text": [
      "[Parallel(n_jobs=-1)]: Done  52 tasks      | elapsed:    1.1s\n",
      "[Parallel(n_jobs=-1)]: Done 500 out of 500 | elapsed:    8.2s finished\n",
      "[Parallel(n_jobs=-1)]: Using backend LokyBackend with 8 concurrent workers.\n"
     ]
    },
    {
     "name": "stdout",
     "output_type": "stream",
     "text": [
      "Best Model Parameters\n",
      "{'n_estimators': 110, 'min_samples_split': 4, 'min_samples_leaf': 1, 'max_depth': 4}\n",
      "Fitting 5 folds for each of 100 candidates, totalling 500 fits\n"
     ]
    },
    {
     "name": "stderr",
     "output_type": "stream",
     "text": [
      "[Parallel(n_jobs=-1)]: Done  34 tasks      | elapsed:    0.9s\n",
      "[Parallel(n_jobs=-1)]: Done 276 tasks      | elapsed:    5.5s\n",
      "[Parallel(n_jobs=-1)]: Done 500 out of 500 | elapsed:   10.0s finished\n",
      "[Parallel(n_jobs=-1)]: Using backend LokyBackend with 8 concurrent workers.\n"
     ]
    },
    {
     "name": "stdout",
     "output_type": "stream",
     "text": [
      "Best Model Parameters\n",
      "{'n_estimators': 160, 'min_samples_split': 5, 'min_samples_leaf': 3, 'max_depth': 5}\n",
      "Fitting 5 folds for each of 100 candidates, totalling 500 fits\n"
     ]
    },
    {
     "name": "stderr",
     "output_type": "stream",
     "text": [
      "[Parallel(n_jobs=-1)]: Done  34 tasks      | elapsed:    0.8s\n",
      "[Parallel(n_jobs=-1)]: Done 276 tasks      | elapsed:    6.0s\n",
      "[Parallel(n_jobs=-1)]: Done 500 out of 500 | elapsed:   10.4s finished\n",
      "[Parallel(n_jobs=-1)]: Using backend LokyBackend with 8 concurrent workers.\n"
     ]
    },
    {
     "name": "stdout",
     "output_type": "stream",
     "text": [
      "Best Model Parameters\n",
      "{'n_estimators': 190, 'min_samples_split': 4, 'min_samples_leaf': 5, 'max_depth': 2}\n",
      "Fitting 5 folds for each of 100 candidates, totalling 500 fits\n"
     ]
    },
    {
     "name": "stderr",
     "output_type": "stream",
     "text": [
      "[Parallel(n_jobs=-1)]: Done  34 tasks      | elapsed:    1.1s\n",
      "[Parallel(n_jobs=-1)]: Done 276 tasks      | elapsed:    6.0s\n",
      "[Parallel(n_jobs=-1)]: Done 500 out of 500 | elapsed:   10.1s finished\n",
      "[Parallel(n_jobs=-1)]: Using backend LokyBackend with 8 concurrent workers.\n"
     ]
    },
    {
     "name": "stdout",
     "output_type": "stream",
     "text": [
      "Best Model Parameters\n",
      "{'n_estimators': 140, 'min_samples_split': 3, 'min_samples_leaf': 5, 'max_depth': 3}\n",
      "Fitting 5 folds for each of 100 candidates, totalling 500 fits\n"
     ]
    },
    {
     "name": "stderr",
     "output_type": "stream",
     "text": [
      "[Parallel(n_jobs=-1)]: Done  34 tasks      | elapsed:    0.8s\n",
      "[Parallel(n_jobs=-1)]: Done 276 tasks      | elapsed:    4.4s\n",
      "[Parallel(n_jobs=-1)]: Done 500 out of 500 | elapsed:    7.9s finished\n",
      "[Parallel(n_jobs=-1)]: Using backend LokyBackend with 8 concurrent workers.\n"
     ]
    },
    {
     "name": "stdout",
     "output_type": "stream",
     "text": [
      "Best Model Parameters\n",
      "{'n_estimators': 170, 'min_samples_split': 2, 'min_samples_leaf': 1, 'max_depth': 5}\n",
      "Fitting 5 folds for each of 100 candidates, totalling 500 fits\n"
     ]
    },
    {
     "name": "stderr",
     "output_type": "stream",
     "text": [
      "[Parallel(n_jobs=-1)]: Done  34 tasks      | elapsed:    0.8s\n",
      "[Parallel(n_jobs=-1)]: Done 276 tasks      | elapsed:    5.1s\n",
      "[Parallel(n_jobs=-1)]: Done 500 out of 500 | elapsed:    8.9s finished\n",
      "[Parallel(n_jobs=-1)]: Using backend LokyBackend with 8 concurrent workers.\n"
     ]
    },
    {
     "name": "stdout",
     "output_type": "stream",
     "text": [
      "Best Model Parameters\n",
      "{'n_estimators': 180, 'min_samples_split': 4, 'min_samples_leaf': 1, 'max_depth': 5}\n",
      "Fitting 5 folds for each of 100 candidates, totalling 500 fits\n"
     ]
    },
    {
     "name": "stderr",
     "output_type": "stream",
     "text": [
      "[Parallel(n_jobs=-1)]: Done  52 tasks      | elapsed:    1.1s\n",
      "[Parallel(n_jobs=-1)]: Done 500 out of 500 | elapsed:    8.4s finished\n",
      "[Parallel(n_jobs=-1)]: Using backend LokyBackend with 8 concurrent workers.\n"
     ]
    },
    {
     "name": "stdout",
     "output_type": "stream",
     "text": [
      "Best Model Parameters\n",
      "{'n_estimators': 180, 'min_samples_split': 2, 'min_samples_leaf': 3, 'max_depth': 3}\n",
      "Fitting 5 folds for each of 100 candidates, totalling 500 fits\n"
     ]
    },
    {
     "name": "stderr",
     "output_type": "stream",
     "text": [
      "[Parallel(n_jobs=-1)]: Done  52 tasks      | elapsed:    1.1s\n",
      "[Parallel(n_jobs=-1)]: Done 500 out of 500 | elapsed:    8.9s finished\n",
      "[Parallel(n_jobs=-1)]: Using backend LokyBackend with 8 concurrent workers.\n"
     ]
    },
    {
     "name": "stdout",
     "output_type": "stream",
     "text": [
      "Best Model Parameters\n",
      "{'n_estimators': 110, 'min_samples_split': 4, 'min_samples_leaf': 4, 'max_depth': 5}\n",
      "Fitting 5 folds for each of 100 candidates, totalling 500 fits\n"
     ]
    },
    {
     "name": "stderr",
     "output_type": "stream",
     "text": [
      "[Parallel(n_jobs=-1)]: Done  70 tasks      | elapsed:    1.8s\n",
      "[Parallel(n_jobs=-1)]: Done 500 out of 500 | elapsed:    9.6s finished\n",
      "[Parallel(n_jobs=-1)]: Using backend LokyBackend with 8 concurrent workers.\n"
     ]
    },
    {
     "name": "stdout",
     "output_type": "stream",
     "text": [
      "Best Model Parameters\n",
      "{'n_estimators': 70, 'min_samples_split': 4, 'min_samples_leaf': 4, 'max_depth': 3}\n",
      "Fitting 5 folds for each of 100 candidates, totalling 500 fits\n"
     ]
    },
    {
     "name": "stderr",
     "output_type": "stream",
     "text": [
      "[Parallel(n_jobs=-1)]: Done  34 tasks      | elapsed:    0.8s\n",
      "[Parallel(n_jobs=-1)]: Done 276 tasks      | elapsed:    5.5s\n",
      "[Parallel(n_jobs=-1)]: Done 500 out of 500 | elapsed:    9.5s finished\n",
      "[Parallel(n_jobs=-1)]: Using backend LokyBackend with 8 concurrent workers.\n"
     ]
    },
    {
     "name": "stdout",
     "output_type": "stream",
     "text": [
      "Best Model Parameters\n",
      "{'n_estimators': 180, 'min_samples_split': 3, 'min_samples_leaf': 3, 'max_depth': 2}\n",
      "Fitting 5 folds for each of 100 candidates, totalling 500 fits\n"
     ]
    },
    {
     "name": "stderr",
     "output_type": "stream",
     "text": [
      "[Parallel(n_jobs=-1)]: Done  34 tasks      | elapsed:    0.8s\n",
      "[Parallel(n_jobs=-1)]: Done 276 tasks      | elapsed:    5.0s\n",
      "[Parallel(n_jobs=-1)]: Done 500 out of 500 | elapsed:    9.0s finished\n",
      "[Parallel(n_jobs=-1)]: Using backend LokyBackend with 8 concurrent workers.\n"
     ]
    },
    {
     "name": "stdout",
     "output_type": "stream",
     "text": [
      "Best Model Parameters\n",
      "{'n_estimators': 120, 'min_samples_split': 2, 'min_samples_leaf': 5, 'max_depth': 2}\n",
      "Fitting 5 folds for each of 100 candidates, totalling 500 fits\n"
     ]
    },
    {
     "name": "stderr",
     "output_type": "stream",
     "text": [
      "[Parallel(n_jobs=-1)]: Done  52 tasks      | elapsed:    1.1s\n",
      "[Parallel(n_jobs=-1)]: Done 500 out of 500 | elapsed:    8.3s finished\n",
      "[Parallel(n_jobs=-1)]: Using backend LokyBackend with 8 concurrent workers.\n"
     ]
    },
    {
     "name": "stdout",
     "output_type": "stream",
     "text": [
      "Best Model Parameters\n",
      "{'n_estimators': 70, 'min_samples_split': 4, 'min_samples_leaf': 2, 'max_depth': 4}\n",
      "Fitting 5 folds for each of 100 candidates, totalling 500 fits\n"
     ]
    },
    {
     "name": "stderr",
     "output_type": "stream",
     "text": [
      "[Parallel(n_jobs=-1)]: Done  34 tasks      | elapsed:    1.2s\n",
      "[Parallel(n_jobs=-1)]: Done 276 tasks      | elapsed:    5.7s\n",
      "[Parallel(n_jobs=-1)]: Done 500 out of 500 | elapsed:    9.7s finished\n",
      "[Parallel(n_jobs=-1)]: Using backend LokyBackend with 8 concurrent workers.\n"
     ]
    },
    {
     "name": "stdout",
     "output_type": "stream",
     "text": [
      "Best Model Parameters\n",
      "{'n_estimators': 190, 'min_samples_split': 5, 'min_samples_leaf': 3, 'max_depth': 2}\n",
      "Fitting 5 folds for each of 100 candidates, totalling 500 fits\n"
     ]
    },
    {
     "name": "stderr",
     "output_type": "stream",
     "text": [
      "[Parallel(n_jobs=-1)]: Done  70 tasks      | elapsed:    1.1s\n",
      "[Parallel(n_jobs=-1)]: Done 500 out of 500 | elapsed:    8.5s finished\n",
      "[Parallel(n_jobs=-1)]: Using backend LokyBackend with 8 concurrent workers.\n"
     ]
    },
    {
     "name": "stdout",
     "output_type": "stream",
     "text": [
      "Best Model Parameters\n",
      "{'n_estimators': 50, 'min_samples_split': 4, 'min_samples_leaf': 5, 'max_depth': 3}\n",
      "Fitting 5 folds for each of 100 candidates, totalling 500 fits\n"
     ]
    },
    {
     "name": "stderr",
     "output_type": "stream",
     "text": [
      "[Parallel(n_jobs=-1)]: Done  34 tasks      | elapsed:    0.7s\n",
      "[Parallel(n_jobs=-1)]: Done 276 tasks      | elapsed:    5.4s\n",
      "[Parallel(n_jobs=-1)]: Done 500 out of 500 | elapsed:    9.1s finished\n",
      "[Parallel(n_jobs=-1)]: Using backend LokyBackend with 8 concurrent workers.\n"
     ]
    },
    {
     "name": "stdout",
     "output_type": "stream",
     "text": [
      "Best Model Parameters\n",
      "{'n_estimators': 130, 'min_samples_split': 5, 'min_samples_leaf': 4, 'max_depth': 3}\n",
      "Fitting 5 folds for each of 100 candidates, totalling 500 fits\n"
     ]
    },
    {
     "name": "stderr",
     "output_type": "stream",
     "text": [
      "[Parallel(n_jobs=-1)]: Done  52 tasks      | elapsed:    1.2s\n"
     ]
    },
    {
     "name": "stdout",
     "output_type": "stream",
     "text": [
      "Best Model Parameters\n",
      "{'n_estimators': 200, 'min_samples_split': 2, 'min_samples_leaf': 3, 'max_depth': 3}\n"
     ]
    },
    {
     "name": "stderr",
     "output_type": "stream",
     "text": [
      "[Parallel(n_jobs=-1)]: Done 500 out of 500 | elapsed:    9.7s finished\n"
     ]
    }
   ],
   "source": [
    "# Retrain out model based on most significant features\n",
    "retrained_out_model = train_ensemble_model(Xtrain[:,out_feature_index], Ytrain['Model3_Out'])"
   ]
  },
  {
   "cell_type": "code",
   "execution_count": 191,
   "metadata": {},
   "outputs": [
    {
     "name": "stderr",
     "output_type": "stream",
     "text": [
      "[Parallel(n_jobs=-1)]: Using backend LokyBackend with 8 concurrent workers.\n"
     ]
    },
    {
     "name": "stdout",
     "output_type": "stream",
     "text": [
      "Fitting 5 folds for each of 100 candidates, totalling 500 fits\n"
     ]
    },
    {
     "name": "stderr",
     "output_type": "stream",
     "text": [
      "[Parallel(n_jobs=-1)]: Done  25 tasks      | elapsed:    2.1s\n",
      "[Parallel(n_jobs=-1)]: Done 146 tasks      | elapsed:   12.2s\n",
      "[Parallel(n_jobs=-1)]: Done 349 tasks      | elapsed:   27.3s\n",
      "[Parallel(n_jobs=-1)]: Done 500 out of 500 | elapsed:   38.2s finished\n"
     ]
    },
    {
     "name": "stdout",
     "output_type": "stream",
     "text": [
      "Best Model Parameters\n",
      "{'n_estimators': 140, 'min_samples_split': 3, 'min_samples_leaf': 2, 'max_depth': 5}\n",
      "Fitting 5 folds for each of 100 candidates, totalling 500 fits\n"
     ]
    },
    {
     "name": "stderr",
     "output_type": "stream",
     "text": [
      "[Parallel(n_jobs=-1)]: Using backend LokyBackend with 8 concurrent workers.\n",
      "[Parallel(n_jobs=-1)]: Done  25 tasks      | elapsed:    2.1s\n",
      "[Parallel(n_jobs=-1)]: Done 146 tasks      | elapsed:   12.8s\n",
      "[Parallel(n_jobs=-1)]: Done 349 tasks      | elapsed:   28.9s\n",
      "[Parallel(n_jobs=-1)]: Done 500 out of 500 | elapsed:   40.1s finished\n"
     ]
    },
    {
     "name": "stdout",
     "output_type": "stream",
     "text": [
      "Best Model Parameters\n",
      "{'n_estimators': 150, 'min_samples_split': 3, 'min_samples_leaf': 4, 'max_depth': 4}\n",
      "Fitting 5 folds for each of 100 candidates, totalling 500 fits\n"
     ]
    },
    {
     "name": "stderr",
     "output_type": "stream",
     "text": [
      "[Parallel(n_jobs=-1)]: Using backend LokyBackend with 8 concurrent workers.\n",
      "[Parallel(n_jobs=-1)]: Done  25 tasks      | elapsed:    2.4s\n",
      "[Parallel(n_jobs=-1)]: Done 146 tasks      | elapsed:   12.1s\n",
      "[Parallel(n_jobs=-1)]: Done 349 tasks      | elapsed:   26.6s\n",
      "[Parallel(n_jobs=-1)]: Done 500 out of 500 | elapsed:   39.8s finished\n"
     ]
    },
    {
     "name": "stdout",
     "output_type": "stream",
     "text": [
      "Best Model Parameters\n",
      "{'n_estimators': 140, 'min_samples_split': 2, 'min_samples_leaf': 1, 'max_depth': 4}\n",
      "Fitting 5 folds for each of 100 candidates, totalling 500 fits\n"
     ]
    },
    {
     "name": "stderr",
     "output_type": "stream",
     "text": [
      "[Parallel(n_jobs=-1)]: Using backend LokyBackend with 8 concurrent workers.\n",
      "[Parallel(n_jobs=-1)]: Done  25 tasks      | elapsed:    2.7s\n",
      "[Parallel(n_jobs=-1)]: Done 146 tasks      | elapsed:   12.4s\n",
      "[Parallel(n_jobs=-1)]: Done 349 tasks      | elapsed:   27.2s\n",
      "[Parallel(n_jobs=-1)]: Done 500 out of 500 | elapsed:   39.8s finished\n"
     ]
    },
    {
     "name": "stdout",
     "output_type": "stream",
     "text": [
      "Best Model Parameters\n",
      "{'n_estimators': 190, 'min_samples_split': 4, 'min_samples_leaf': 3, 'max_depth': 4}\n"
     ]
    }
   ],
   "source": [
    "# Retrain lasercutting room model based on most significant features\n",
    "retrained_lasercutting_model = train_ensemble_model(Xtrain[:,lasercutting_feature_index], Ytrain['Model3_LaserCuttingRoom'])"
   ]
  },
  {
   "cell_type": "code",
   "execution_count": 246,
   "metadata": {},
   "outputs": [
    {
     "name": "stdout",
     "output_type": "stream",
     "text": [
      "Fitting 5 folds for each of 100 candidates, totalling 500 fits\n"
     ]
    },
    {
     "name": "stderr",
     "output_type": "stream",
     "text": [
      "[Parallel(n_jobs=-1)]: Using backend LokyBackend with 8 concurrent workers.\n",
      "[Parallel(n_jobs=-1)]: Done  25 tasks      | elapsed:    3.5s\n",
      "[Parallel(n_jobs=-1)]: Done 146 tasks      | elapsed:    9.4s\n",
      "[Parallel(n_jobs=-1)]: Done 349 tasks      | elapsed:   20.3s\n",
      "[Parallel(n_jobs=-1)]: Done 500 out of 500 | elapsed:   28.9s finished\n",
      "[Parallel(n_jobs=-1)]: Using backend LokyBackend with 8 concurrent workers.\n"
     ]
    },
    {
     "name": "stdout",
     "output_type": "stream",
     "text": [
      "Best Model Parameters\n",
      "{'n_estimators': 70, 'min_samples_split': 3, 'min_samples_leaf': 3, 'max_depth': 5}\n",
      "Fitting 5 folds for each of 100 candidates, totalling 500 fits\n"
     ]
    },
    {
     "name": "stderr",
     "output_type": "stream",
     "text": [
      "[Parallel(n_jobs=-1)]: Done  25 tasks      | elapsed:    1.3s\n",
      "[Parallel(n_jobs=-1)]: Done 146 tasks      | elapsed:    8.0s\n",
      "[Parallel(n_jobs=-1)]: Done 349 tasks      | elapsed:   18.5s\n",
      "[Parallel(n_jobs=-1)]: Done 500 out of 500 | elapsed:   26.1s finished\n"
     ]
    },
    {
     "name": "stdout",
     "output_type": "stream",
     "text": [
      "Best Model Parameters\n",
      "{'n_estimators': 130, 'min_samples_split': 4, 'min_samples_leaf': 2, 'max_depth': 4}\n",
      "Fitting 5 folds for each of 100 candidates, totalling 500 fits\n"
     ]
    },
    {
     "name": "stderr",
     "output_type": "stream",
     "text": [
      "[Parallel(n_jobs=-1)]: Using backend LokyBackend with 8 concurrent workers.\n",
      "[Parallel(n_jobs=-1)]: Done  25 tasks      | elapsed:    1.2s\n",
      "[Parallel(n_jobs=-1)]: Done 146 tasks      | elapsed:    8.2s\n",
      "[Parallel(n_jobs=-1)]: Done 349 tasks      | elapsed:   18.0s\n",
      "[Parallel(n_jobs=-1)]: Done 500 out of 500 | elapsed:   25.3s finished\n"
     ]
    },
    {
     "name": "stdout",
     "output_type": "stream",
     "text": [
      "Best Model Parameters\n",
      "{'n_estimators': 120, 'min_samples_split': 2, 'min_samples_leaf': 1, 'max_depth': 5}\n",
      "Fitting 5 folds for each of 100 candidates, totalling 500 fits\n"
     ]
    },
    {
     "name": "stderr",
     "output_type": "stream",
     "text": [
      "[Parallel(n_jobs=-1)]: Using backend LokyBackend with 8 concurrent workers.\n",
      "[Parallel(n_jobs=-1)]: Done  25 tasks      | elapsed:    1.3s\n",
      "[Parallel(n_jobs=-1)]: Done 146 tasks      | elapsed:    6.7s\n",
      "[Parallel(n_jobs=-1)]: Done 349 tasks      | elapsed:   16.0s\n",
      "[Parallel(n_jobs=-1)]: Done 500 out of 500 | elapsed:   23.9s finished\n",
      "[Parallel(n_jobs=-1)]: Using backend LokyBackend with 8 concurrent workers.\n"
     ]
    },
    {
     "name": "stdout",
     "output_type": "stream",
     "text": [
      "Best Model Parameters\n",
      "{'n_estimators': 50, 'min_samples_split': 5, 'min_samples_leaf': 5, 'max_depth': 5}\n",
      "Fitting 5 folds for each of 100 candidates, totalling 500 fits\n"
     ]
    },
    {
     "name": "stderr",
     "output_type": "stream",
     "text": [
      "[Parallel(n_jobs=-1)]: Done  25 tasks      | elapsed:    1.3s\n",
      "[Parallel(n_jobs=-1)]: Done 146 tasks      | elapsed:    7.2s\n",
      "[Parallel(n_jobs=-1)]: Done 349 tasks      | elapsed:   17.5s\n",
      "[Parallel(n_jobs=-1)]: Done 500 out of 500 | elapsed:   25.1s finished\n"
     ]
    },
    {
     "name": "stdout",
     "output_type": "stream",
     "text": [
      "Best Model Parameters\n",
      "{'n_estimators': 190, 'min_samples_split': 5, 'min_samples_leaf': 4, 'max_depth': 2}\n",
      "Fitting 5 folds for each of 100 candidates, totalling 500 fits\n"
     ]
    },
    {
     "name": "stderr",
     "output_type": "stream",
     "text": [
      "[Parallel(n_jobs=-1)]: Using backend LokyBackend with 8 concurrent workers.\n",
      "[Parallel(n_jobs=-1)]: Done  25 tasks      | elapsed:    1.4s\n",
      "[Parallel(n_jobs=-1)]: Done 146 tasks      | elapsed:    6.9s\n",
      "[Parallel(n_jobs=-1)]: Done 349 tasks      | elapsed:   16.4s\n",
      "[Parallel(n_jobs=-1)]: Done 500 out of 500 | elapsed:   22.5s finished\n",
      "[Parallel(n_jobs=-1)]: Using backend LokyBackend with 8 concurrent workers.\n"
     ]
    },
    {
     "name": "stdout",
     "output_type": "stream",
     "text": [
      "Best Model Parameters\n",
      "{'n_estimators': 50, 'min_samples_split': 4, 'min_samples_leaf': 5, 'max_depth': 3}\n",
      "Fitting 5 folds for each of 100 candidates, totalling 500 fits\n"
     ]
    },
    {
     "name": "stderr",
     "output_type": "stream",
     "text": [
      "[Parallel(n_jobs=-1)]: Done  25 tasks      | elapsed:    1.4s\n",
      "[Parallel(n_jobs=-1)]: Done 146 tasks      | elapsed:    6.9s\n",
      "[Parallel(n_jobs=-1)]: Done 349 tasks      | elapsed:   16.5s\n",
      "[Parallel(n_jobs=-1)]: Done 500 out of 500 | elapsed:   23.8s finished\n",
      "[Parallel(n_jobs=-1)]: Using backend LokyBackend with 8 concurrent workers.\n"
     ]
    },
    {
     "name": "stdout",
     "output_type": "stream",
     "text": [
      "Best Model Parameters\n",
      "{'n_estimators': 70, 'min_samples_split': 4, 'min_samples_leaf': 5, 'max_depth': 3}\n",
      "Fitting 5 folds for each of 100 candidates, totalling 500 fits\n"
     ]
    },
    {
     "name": "stderr",
     "output_type": "stream",
     "text": [
      "[Parallel(n_jobs=-1)]: Done  34 tasks      | elapsed:    1.9s\n",
      "[Parallel(n_jobs=-1)]: Done 276 tasks      | elapsed:   13.5s\n",
      "[Parallel(n_jobs=-1)]: Done 500 out of 500 | elapsed:   23.7s finished\n"
     ]
    },
    {
     "name": "stdout",
     "output_type": "stream",
     "text": [
      "Best Model Parameters\n",
      "{'n_estimators': 140, 'min_samples_split': 4, 'min_samples_leaf': 4, 'max_depth': 4}\n",
      "Fitting 5 folds for each of 100 candidates, totalling 500 fits\n"
     ]
    },
    {
     "name": "stderr",
     "output_type": "stream",
     "text": [
      "[Parallel(n_jobs=-1)]: Using backend LokyBackend with 8 concurrent workers.\n",
      "[Parallel(n_jobs=-1)]: Done  34 tasks      | elapsed:    2.5s\n",
      "[Parallel(n_jobs=-1)]: Done 213 tasks      | elapsed:   11.6s\n",
      "[Parallel(n_jobs=-1)]: Done 416 tasks      | elapsed:   23.5s\n",
      "[Parallel(n_jobs=-1)]: Done 500 out of 500 | elapsed:   29.5s finished\n"
     ]
    },
    {
     "name": "stdout",
     "output_type": "stream",
     "text": [
      "Best Model Parameters\n",
      "{'n_estimators': 150, 'min_samples_split': 5, 'min_samples_leaf': 4, 'max_depth': 4}\n",
      "Fitting 5 folds for each of 100 candidates, totalling 500 fits\n"
     ]
    },
    {
     "name": "stderr",
     "output_type": "stream",
     "text": [
      "[Parallel(n_jobs=-1)]: Using backend LokyBackend with 8 concurrent workers.\n",
      "[Parallel(n_jobs=-1)]: Done  25 tasks      | elapsed:    2.3s\n",
      "[Parallel(n_jobs=-1)]: Done 146 tasks      | elapsed:    9.8s\n",
      "[Parallel(n_jobs=-1)]: Done 349 tasks      | elapsed:   21.5s\n",
      "[Parallel(n_jobs=-1)]: Done 500 out of 500 | elapsed:   30.4s finished\n"
     ]
    },
    {
     "name": "stdout",
     "output_type": "stream",
     "text": [
      "Best Model Parameters\n",
      "{'n_estimators': 120, 'min_samples_split': 2, 'min_samples_leaf': 1, 'max_depth': 3}\n",
      "Fitting 5 folds for each of 100 candidates, totalling 500 fits\n"
     ]
    },
    {
     "name": "stderr",
     "output_type": "stream",
     "text": [
      "[Parallel(n_jobs=-1)]: Using backend LokyBackend with 8 concurrent workers.\n",
      "[Parallel(n_jobs=-1)]: Done  25 tasks      | elapsed:    1.7s\n",
      "[Parallel(n_jobs=-1)]: Done 146 tasks      | elapsed:    8.3s\n",
      "[Parallel(n_jobs=-1)]: Done 349 tasks      | elapsed:   19.3s\n",
      "[Parallel(n_jobs=-1)]: Done 500 out of 500 | elapsed:   27.4s finished\n",
      "[Parallel(n_jobs=-1)]: Using backend LokyBackend with 8 concurrent workers.\n"
     ]
    },
    {
     "name": "stdout",
     "output_type": "stream",
     "text": [
      "Best Model Parameters\n",
      "{'n_estimators': 70, 'min_samples_split': 2, 'min_samples_leaf': 2, 'max_depth': 5}\n",
      "Fitting 5 folds for each of 100 candidates, totalling 500 fits\n"
     ]
    },
    {
     "name": "stderr",
     "output_type": "stream",
     "text": [
      "[Parallel(n_jobs=-1)]: Done  34 tasks      | elapsed:    2.0s\n",
      "[Parallel(n_jobs=-1)]: Done 268 tasks      | elapsed:   14.1s\n",
      "[Parallel(n_jobs=-1)]: Done 471 tasks      | elapsed:   25.2s\n",
      "[Parallel(n_jobs=-1)]: Done 500 out of 500 | elapsed:   26.5s finished\n",
      "[Parallel(n_jobs=-1)]: Using backend LokyBackend with 8 concurrent workers.\n"
     ]
    },
    {
     "name": "stdout",
     "output_type": "stream",
     "text": [
      "Best Model Parameters\n",
      "{'n_estimators': 50, 'min_samples_split': 4, 'min_samples_leaf': 5, 'max_depth': 4}\n",
      "Fitting 5 folds for each of 100 candidates, totalling 500 fits\n"
     ]
    },
    {
     "name": "stderr",
     "output_type": "stream",
     "text": [
      "[Parallel(n_jobs=-1)]: Done  25 tasks      | elapsed:    1.5s\n",
      "[Parallel(n_jobs=-1)]: Done 146 tasks      | elapsed:    8.4s\n",
      "[Parallel(n_jobs=-1)]: Done 349 tasks      | elapsed:   18.3s\n",
      "[Parallel(n_jobs=-1)]: Done 500 out of 500 | elapsed:   25.5s finished\n"
     ]
    },
    {
     "name": "stdout",
     "output_type": "stream",
     "text": [
      "Best Model Parameters\n",
      "{'n_estimators': 170, 'min_samples_split': 2, 'min_samples_leaf': 4, 'max_depth': 3}\n"
     ]
    }
   ],
   "source": [
    "# Retrain precision room model based on most significant features\n",
    "retrained_precision_model = train_ensemble_model(Xtrain[:,precision_feature_index], Ytrain['Model3_PrecisionRoom'])"
   ]
  },
  {
   "cell_type": "code",
   "execution_count": 247,
   "metadata": {},
   "outputs": [
    {
     "name": "stdout",
     "output_type": "stream",
     "text": [
      "Fitting 5 folds for each of 100 candidates, totalling 500 fits\n"
     ]
    },
    {
     "name": "stderr",
     "output_type": "stream",
     "text": [
      "[Parallel(n_jobs=-1)]: Using backend LokyBackend with 8 concurrent workers.\n",
      "[Parallel(n_jobs=-1)]: Done  34 tasks      | elapsed:    2.1s\n",
      "[Parallel(n_jobs=-1)]: Done 271 tasks      | elapsed:   13.8s\n",
      "[Parallel(n_jobs=-1)]: Done 477 tasks      | elapsed:   22.0s\n",
      "[Parallel(n_jobs=-1)]: Done 500 out of 500 | elapsed:   23.6s finished\n"
     ]
    },
    {
     "name": "stdout",
     "output_type": "stream",
     "text": [
      "Best Model Parameters\n",
      "{'n_estimators': 180, 'min_samples_split': 3, 'min_samples_leaf': 2, 'max_depth': 4}\n",
      "Fitting 5 folds for each of 100 candidates, totalling 500 fits\n"
     ]
    },
    {
     "name": "stderr",
     "output_type": "stream",
     "text": [
      "[Parallel(n_jobs=-1)]: Using backend LokyBackend with 8 concurrent workers.\n",
      "[Parallel(n_jobs=-1)]: Done  25 tasks      | elapsed:    1.4s\n",
      "[Parallel(n_jobs=-1)]: Done 146 tasks      | elapsed:    6.2s\n",
      "[Parallel(n_jobs=-1)]: Done 349 tasks      | elapsed:   15.6s\n",
      "[Parallel(n_jobs=-1)]: Done 500 out of 500 | elapsed:   22.0s finished\n"
     ]
    },
    {
     "name": "stdout",
     "output_type": "stream",
     "text": [
      "Best Model Parameters\n",
      "{'n_estimators': 160, 'min_samples_split': 5, 'min_samples_leaf': 4, 'max_depth': 4}\n",
      "Fitting 5 folds for each of 100 candidates, totalling 500 fits\n"
     ]
    },
    {
     "name": "stderr",
     "output_type": "stream",
     "text": [
      "[Parallel(n_jobs=-1)]: Using backend LokyBackend with 8 concurrent workers.\n",
      "[Parallel(n_jobs=-1)]: Done  34 tasks      | elapsed:    2.3s\n",
      "[Parallel(n_jobs=-1)]: Done 276 tasks      | elapsed:   13.4s\n",
      "[Parallel(n_jobs=-1)]: Done 500 out of 500 | elapsed:   23.8s finished\n"
     ]
    },
    {
     "name": "stdout",
     "output_type": "stream",
     "text": [
      "Best Model Parameters\n",
      "{'n_estimators': 160, 'min_samples_split': 2, 'min_samples_leaf': 5, 'max_depth': 5}\n",
      "Fitting 5 folds for each of 100 candidates, totalling 500 fits\n"
     ]
    },
    {
     "name": "stderr",
     "output_type": "stream",
     "text": [
      "[Parallel(n_jobs=-1)]: Using backend LokyBackend with 8 concurrent workers.\n",
      "[Parallel(n_jobs=-1)]: Done  34 tasks      | elapsed:    1.9s\n",
      "[Parallel(n_jobs=-1)]: Done 276 tasks      | elapsed:   13.0s\n",
      "[Parallel(n_jobs=-1)]: Done 500 out of 500 | elapsed:   24.4s finished\n"
     ]
    },
    {
     "name": "stdout",
     "output_type": "stream",
     "text": [
      "Best Model Parameters\n",
      "{'n_estimators': 180, 'min_samples_split': 5, 'min_samples_leaf': 3, 'max_depth': 5}\n",
      "Fitting 5 folds for each of 100 candidates, totalling 500 fits\n"
     ]
    },
    {
     "name": "stderr",
     "output_type": "stream",
     "text": [
      "[Parallel(n_jobs=-1)]: Using backend LokyBackend with 8 concurrent workers.\n",
      "[Parallel(n_jobs=-1)]: Done  25 tasks      | elapsed:    1.5s\n",
      "[Parallel(n_jobs=-1)]: Done 146 tasks      | elapsed:    7.5s\n",
      "[Parallel(n_jobs=-1)]: Done 349 tasks      | elapsed:   17.1s\n",
      "[Parallel(n_jobs=-1)]: Done 500 out of 500 | elapsed:   24.1s finished\n"
     ]
    },
    {
     "name": "stdout",
     "output_type": "stream",
     "text": [
      "Best Model Parameters\n",
      "{'n_estimators': 130, 'min_samples_split': 2, 'min_samples_leaf': 4, 'max_depth': 5}\n",
      "Fitting 5 folds for each of 100 candidates, totalling 500 fits\n"
     ]
    },
    {
     "name": "stderr",
     "output_type": "stream",
     "text": [
      "[Parallel(n_jobs=-1)]: Using backend LokyBackend with 8 concurrent workers.\n",
      "[Parallel(n_jobs=-1)]: Done  34 tasks      | elapsed:    2.2s\n",
      "[Parallel(n_jobs=-1)]: Done 276 tasks      | elapsed:   13.8s\n",
      "[Parallel(n_jobs=-1)]: Done 500 out of 500 | elapsed:   23.8s finished\n"
     ]
    },
    {
     "name": "stdout",
     "output_type": "stream",
     "text": [
      "Best Model Parameters\n",
      "{'n_estimators': 150, 'min_samples_split': 5, 'min_samples_leaf': 2, 'max_depth': 4}\n",
      "Fitting 5 folds for each of 100 candidates, totalling 500 fits\n"
     ]
    },
    {
     "name": "stderr",
     "output_type": "stream",
     "text": [
      "[Parallel(n_jobs=-1)]: Using backend LokyBackend with 8 concurrent workers.\n",
      "[Parallel(n_jobs=-1)]: Done  25 tasks      | elapsed:    1.6s\n",
      "[Parallel(n_jobs=-1)]: Done 146 tasks      | elapsed:    7.2s\n",
      "[Parallel(n_jobs=-1)]: Done 349 tasks      | elapsed:   16.7s\n",
      "[Parallel(n_jobs=-1)]: Done 500 out of 500 | elapsed:   23.6s finished\n",
      "[Parallel(n_jobs=-1)]: Using backend LokyBackend with 8 concurrent workers.\n"
     ]
    },
    {
     "name": "stdout",
     "output_type": "stream",
     "text": [
      "Best Model Parameters\n",
      "{'n_estimators': 70, 'min_samples_split': 4, 'min_samples_leaf': 4, 'max_depth': 5}\n",
      "Fitting 5 folds for each of 100 candidates, totalling 500 fits\n"
     ]
    },
    {
     "name": "stderr",
     "output_type": "stream",
     "text": [
      "[Parallel(n_jobs=-1)]: Done  25 tasks      | elapsed:    1.2s\n",
      "[Parallel(n_jobs=-1)]: Done 146 tasks      | elapsed:    7.4s\n",
      "[Parallel(n_jobs=-1)]: Done 349 tasks      | elapsed:   16.7s\n",
      "[Parallel(n_jobs=-1)]: Done 500 out of 500 | elapsed:   23.6s finished\n"
     ]
    },
    {
     "name": "stdout",
     "output_type": "stream",
     "text": [
      "Best Model Parameters\n",
      "{'n_estimators': 140, 'min_samples_split': 2, 'min_samples_leaf': 2, 'max_depth': 5}\n",
      "Fitting 5 folds for each of 100 candidates, totalling 500 fits\n"
     ]
    },
    {
     "name": "stderr",
     "output_type": "stream",
     "text": [
      "[Parallel(n_jobs=-1)]: Using backend LokyBackend with 8 concurrent workers.\n",
      "[Parallel(n_jobs=-1)]: Done  25 tasks      | elapsed:    1.5s\n",
      "[Parallel(n_jobs=-1)]: Done 146 tasks      | elapsed:    7.8s\n",
      "[Parallel(n_jobs=-1)]: Done 349 tasks      | elapsed:   18.1s\n",
      "[Parallel(n_jobs=-1)]: Done 500 out of 500 | elapsed:   24.5s finished\n"
     ]
    },
    {
     "name": "stdout",
     "output_type": "stream",
     "text": [
      "Best Model Parameters\n",
      "{'n_estimators': 140, 'min_samples_split': 3, 'min_samples_leaf': 2, 'max_depth': 5}\n",
      "Fitting 5 folds for each of 100 candidates, totalling 500 fits\n"
     ]
    },
    {
     "name": "stderr",
     "output_type": "stream",
     "text": [
      "[Parallel(n_jobs=-1)]: Using backend LokyBackend with 8 concurrent workers.\n",
      "[Parallel(n_jobs=-1)]: Done  70 tasks      | elapsed:    3.0s\n",
      "[Parallel(n_jobs=-1)]: Done 295 tasks      | elapsed:   11.7s\n",
      "[Parallel(n_jobs=-1)]: Done 500 out of 500 | elapsed:   20.5s finished\n"
     ]
    },
    {
     "name": "stdout",
     "output_type": "stream",
     "text": [
      "Best Model Parameters\n",
      "{'n_estimators': 200, 'min_samples_split': 4, 'min_samples_leaf': 3, 'max_depth': 5}\n",
      "Fitting 5 folds for each of 100 candidates, totalling 500 fits\n"
     ]
    },
    {
     "name": "stderr",
     "output_type": "stream",
     "text": [
      "[Parallel(n_jobs=-1)]: Using backend LokyBackend with 8 concurrent workers.\n",
      "[Parallel(n_jobs=-1)]: Done  25 tasks      | elapsed:    1.3s\n",
      "[Parallel(n_jobs=-1)]: Done 146 tasks      | elapsed:    7.5s\n",
      "[Parallel(n_jobs=-1)]: Done 349 tasks      | elapsed:   17.2s\n",
      "[Parallel(n_jobs=-1)]: Done 500 out of 500 | elapsed:   24.3s finished\n"
     ]
    },
    {
     "name": "stdout",
     "output_type": "stream",
     "text": [
      "Best Model Parameters\n",
      "{'n_estimators': 170, 'min_samples_split': 4, 'min_samples_leaf': 2, 'max_depth': 4}\n",
      "Fitting 5 folds for each of 100 candidates, totalling 500 fits\n"
     ]
    },
    {
     "name": "stderr",
     "output_type": "stream",
     "text": [
      "[Parallel(n_jobs=-1)]: Using backend LokyBackend with 8 concurrent workers.\n",
      "[Parallel(n_jobs=-1)]: Done  25 tasks      | elapsed:    1.2s\n",
      "[Parallel(n_jobs=-1)]: Done 146 tasks      | elapsed:    6.5s\n",
      "[Parallel(n_jobs=-1)]: Done 349 tasks      | elapsed:   15.6s\n",
      "[Parallel(n_jobs=-1)]: Done 500 out of 500 | elapsed:   22.3s finished\n",
      "[Parallel(n_jobs=-1)]: Using backend LokyBackend with 8 concurrent workers.\n"
     ]
    },
    {
     "name": "stdout",
     "output_type": "stream",
     "text": [
      "Best Model Parameters\n",
      "{'n_estimators': 60, 'min_samples_split': 3, 'min_samples_leaf': 5, 'max_depth': 5}\n",
      "Fitting 5 folds for each of 100 candidates, totalling 500 fits\n"
     ]
    },
    {
     "name": "stderr",
     "output_type": "stream",
     "text": [
      "[Parallel(n_jobs=-1)]: Done  34 tasks      | elapsed:    1.4s\n",
      "[Parallel(n_jobs=-1)]: Done 234 tasks      | elapsed:   10.7s\n",
      "[Parallel(n_jobs=-1)]: Done 437 tasks      | elapsed:   20.4s\n",
      "[Parallel(n_jobs=-1)]: Done 500 out of 500 | elapsed:   23.0s finished\n",
      "[Parallel(n_jobs=-1)]: Using backend LokyBackend with 8 concurrent workers.\n"
     ]
    },
    {
     "name": "stdout",
     "output_type": "stream",
     "text": [
      "Best Model Parameters\n",
      "{'n_estimators': 200, 'min_samples_split': 4, 'min_samples_leaf': 1, 'max_depth': 2}\n",
      "Fitting 5 folds for each of 100 candidates, totalling 500 fits\n"
     ]
    },
    {
     "name": "stderr",
     "output_type": "stream",
     "text": [
      "[Parallel(n_jobs=-1)]: Done  34 tasks      | elapsed:    1.6s\n",
      "[Parallel(n_jobs=-1)]: Done 276 tasks      | elapsed:   12.8s\n",
      "[Parallel(n_jobs=-1)]: Done 500 out of 500 | elapsed:   23.8s finished\n"
     ]
    },
    {
     "name": "stdout",
     "output_type": "stream",
     "text": [
      "Best Model Parameters\n",
      "{'n_estimators': 140, 'min_samples_split': 4, 'min_samples_leaf': 5, 'max_depth': 5}\n"
     ]
    }
   ],
   "source": [
    "# Retrain pantry other model based on most significant features\n",
    "retrained_pantry_other_model = train_ensemble_model(Xtrain[:,pantry_other_feature_index], Ytrain['Model3_Pantry_Other'])"
   ]
  },
  {
   "cell_type": "code",
   "execution_count": 233,
   "metadata": {},
   "outputs": [
    {
     "name": "stdout",
     "output_type": "stream",
     "text": [
      "Fitting 5 folds for each of 100 candidates, totalling 500 fits\n"
     ]
    },
    {
     "name": "stderr",
     "output_type": "stream",
     "text": [
      "[Parallel(n_jobs=-1)]: Using backend LokyBackend with 8 concurrent workers.\n",
      "[Parallel(n_jobs=-1)]: Done  25 tasks      | elapsed:    1.2s\n",
      "[Parallel(n_jobs=-1)]: Done 146 tasks      | elapsed:    7.6s\n",
      "[Parallel(n_jobs=-1)]: Done 349 tasks      | elapsed:   18.1s\n",
      "[Parallel(n_jobs=-1)]: Done 500 out of 500 | elapsed:   25.3s finished\n"
     ]
    },
    {
     "name": "stdout",
     "output_type": "stream",
     "text": [
      "Best Model Parameters\n",
      "{'n_estimators': 110, 'min_samples_split': 2, 'min_samples_leaf': 2, 'max_depth': 5}\n",
      "Fitting 5 folds for each of 100 candidates, totalling 500 fits\n"
     ]
    },
    {
     "name": "stderr",
     "output_type": "stream",
     "text": [
      "[Parallel(n_jobs=-1)]: Using backend LokyBackend with 8 concurrent workers.\n",
      "[Parallel(n_jobs=-1)]: Done  25 tasks      | elapsed:    1.4s\n",
      "[Parallel(n_jobs=-1)]: Done 146 tasks      | elapsed:    7.4s\n",
      "[Parallel(n_jobs=-1)]: Done 349 tasks      | elapsed:   16.3s\n",
      "[Parallel(n_jobs=-1)]: Done 500 out of 500 | elapsed:   24.1s finished\n"
     ]
    },
    {
     "name": "stdout",
     "output_type": "stream",
     "text": [
      "Best Model Parameters\n",
      "{'n_estimators': 160, 'min_samples_split': 5, 'min_samples_leaf': 2, 'max_depth': 4}\n",
      "Fitting 5 folds for each of 100 candidates, totalling 500 fits\n"
     ]
    },
    {
     "name": "stderr",
     "output_type": "stream",
     "text": [
      "[Parallel(n_jobs=-1)]: Using backend LokyBackend with 8 concurrent workers.\n",
      "[Parallel(n_jobs=-1)]: Done  25 tasks      | elapsed:    1.6s\n",
      "[Parallel(n_jobs=-1)]: Done 146 tasks      | elapsed:    6.4s\n",
      "[Parallel(n_jobs=-1)]: Done 349 tasks      | elapsed:   16.0s\n",
      "[Parallel(n_jobs=-1)]: Done 500 out of 500 | elapsed:   22.6s finished\n"
     ]
    },
    {
     "name": "stdout",
     "output_type": "stream",
     "text": [
      "Best Model Parameters\n",
      "{'n_estimators': 200, 'min_samples_split': 3, 'min_samples_leaf': 2, 'max_depth': 4}\n",
      "Fitting 5 folds for each of 100 candidates, totalling 500 fits\n"
     ]
    },
    {
     "name": "stderr",
     "output_type": "stream",
     "text": [
      "[Parallel(n_jobs=-1)]: Using backend LokyBackend with 8 concurrent workers.\n",
      "[Parallel(n_jobs=-1)]: Done  34 tasks      | elapsed:    2.0s\n",
      "[Parallel(n_jobs=-1)]: Done 276 tasks      | elapsed:   12.7s\n",
      "[Parallel(n_jobs=-1)]: Done 500 out of 500 | elapsed:   23.4s finished\n"
     ]
    },
    {
     "name": "stdout",
     "output_type": "stream",
     "text": [
      "Best Model Parameters\n",
      "{'n_estimators': 140, 'min_samples_split': 2, 'min_samples_leaf': 5, 'max_depth': 5}\n",
      "Fitting 5 folds for each of 100 candidates, totalling 500 fits\n"
     ]
    },
    {
     "name": "stderr",
     "output_type": "stream",
     "text": [
      "[Parallel(n_jobs=-1)]: Using backend LokyBackend with 8 concurrent workers.\n",
      "[Parallel(n_jobs=-1)]: Done  34 tasks      | elapsed:    1.7s\n",
      "[Parallel(n_jobs=-1)]: Done 276 tasks      | elapsed:   12.4s\n",
      "[Parallel(n_jobs=-1)]: Done 500 out of 500 | elapsed:   21.9s finished\n"
     ]
    },
    {
     "name": "stdout",
     "output_type": "stream",
     "text": [
      "Best Model Parameters\n",
      "{'n_estimators': 120, 'min_samples_split': 2, 'min_samples_leaf': 2, 'max_depth': 5}\n",
      "Fitting 5 folds for each of 100 candidates, totalling 500 fits\n"
     ]
    },
    {
     "name": "stderr",
     "output_type": "stream",
     "text": [
      "[Parallel(n_jobs=-1)]: Using backend LokyBackend with 8 concurrent workers.\n",
      "[Parallel(n_jobs=-1)]: Done  25 tasks      | elapsed:    1.3s\n",
      "[Parallel(n_jobs=-1)]: Done 146 tasks      | elapsed:    7.3s\n",
      "[Parallel(n_jobs=-1)]: Done 349 tasks      | elapsed:   18.2s\n",
      "[Parallel(n_jobs=-1)]: Done 500 out of 500 | elapsed:   25.2s finished\n"
     ]
    },
    {
     "name": "stdout",
     "output_type": "stream",
     "text": [
      "Best Model Parameters\n",
      "{'n_estimators': 100, 'min_samples_split': 3, 'min_samples_leaf': 1, 'max_depth': 5}\n",
      "Fitting 5 folds for each of 100 candidates, totalling 500 fits\n"
     ]
    },
    {
     "name": "stderr",
     "output_type": "stream",
     "text": [
      "[Parallel(n_jobs=-1)]: Using backend LokyBackend with 8 concurrent workers.\n",
      "[Parallel(n_jobs=-1)]: Done  25 tasks      | elapsed:    1.6s\n",
      "[Parallel(n_jobs=-1)]: Done 146 tasks      | elapsed:    7.2s\n",
      "[Parallel(n_jobs=-1)]: Done 349 tasks      | elapsed:   16.3s\n",
      "[Parallel(n_jobs=-1)]: Done 500 out of 500 | elapsed:   22.3s finished\n"
     ]
    },
    {
     "name": "stdout",
     "output_type": "stream",
     "text": [
      "Best Model Parameters\n",
      "{'n_estimators': 130, 'min_samples_split': 4, 'min_samples_leaf': 2, 'max_depth': 4}\n",
      "Fitting 5 folds for each of 100 candidates, totalling 500 fits\n"
     ]
    },
    {
     "name": "stderr",
     "output_type": "stream",
     "text": [
      "[Parallel(n_jobs=-1)]: Using backend LokyBackend with 8 concurrent workers.\n",
      "[Parallel(n_jobs=-1)]: Done  25 tasks      | elapsed:    1.4s\n",
      "[Parallel(n_jobs=-1)]: Done 146 tasks      | elapsed:    6.7s\n",
      "[Parallel(n_jobs=-1)]: Done 349 tasks      | elapsed:   16.0s\n",
      "[Parallel(n_jobs=-1)]: Done 500 out of 500 | elapsed:   22.3s finished\n"
     ]
    },
    {
     "name": "stdout",
     "output_type": "stream",
     "text": [
      "Best Model Parameters\n",
      "{'n_estimators': 170, 'min_samples_split': 4, 'min_samples_leaf': 2, 'max_depth': 4}\n",
      "Fitting 5 folds for each of 100 candidates, totalling 500 fits\n"
     ]
    },
    {
     "name": "stderr",
     "output_type": "stream",
     "text": [
      "[Parallel(n_jobs=-1)]: Using backend LokyBackend with 8 concurrent workers.\n",
      "[Parallel(n_jobs=-1)]: Done  70 tasks      | elapsed:    4.3s\n",
      "[Parallel(n_jobs=-1)]: Done 272 tasks      | elapsed:   13.3s\n",
      "[Parallel(n_jobs=-1)]: Done 475 tasks      | elapsed:   22.1s\n",
      "[Parallel(n_jobs=-1)]: Done 500 out of 500 | elapsed:   23.2s finished\n"
     ]
    },
    {
     "name": "stdout",
     "output_type": "stream",
     "text": [
      "Best Model Parameters\n",
      "{'n_estimators': 150, 'min_samples_split': 2, 'min_samples_leaf': 1, 'max_depth': 3}\n",
      "Fitting 5 folds for each of 100 candidates, totalling 500 fits\n"
     ]
    },
    {
     "name": "stderr",
     "output_type": "stream",
     "text": [
      "[Parallel(n_jobs=-1)]: Using backend LokyBackend with 8 concurrent workers.\n",
      "[Parallel(n_jobs=-1)]: Done  25 tasks      | elapsed:    1.3s\n",
      "[Parallel(n_jobs=-1)]: Done 146 tasks      | elapsed:    7.1s\n",
      "[Parallel(n_jobs=-1)]: Done 349 tasks      | elapsed:   15.9s\n",
      "[Parallel(n_jobs=-1)]: Done 500 out of 500 | elapsed:   22.5s finished\n"
     ]
    },
    {
     "name": "stdout",
     "output_type": "stream",
     "text": [
      "Best Model Parameters\n",
      "{'n_estimators': 150, 'min_samples_split': 3, 'min_samples_leaf': 3, 'max_depth': 5}\n",
      "Fitting 5 folds for each of 100 candidates, totalling 500 fits\n"
     ]
    },
    {
     "name": "stderr",
     "output_type": "stream",
     "text": [
      "[Parallel(n_jobs=-1)]: Using backend LokyBackend with 8 concurrent workers.\n",
      "[Parallel(n_jobs=-1)]: Done  34 tasks      | elapsed:    2.1s\n",
      "[Parallel(n_jobs=-1)]: Done 276 tasks      | elapsed:   12.9s\n",
      "[Parallel(n_jobs=-1)]: Done 500 out of 500 | elapsed:   24.1s finished\n"
     ]
    },
    {
     "name": "stdout",
     "output_type": "stream",
     "text": [
      "Best Model Parameters\n",
      "{'n_estimators': 160, 'min_samples_split': 2, 'min_samples_leaf': 2, 'max_depth': 4}\n",
      "Fitting 5 folds for each of 100 candidates, totalling 500 fits\n"
     ]
    },
    {
     "name": "stderr",
     "output_type": "stream",
     "text": [
      "[Parallel(n_jobs=-1)]: Using backend LokyBackend with 8 concurrent workers.\n",
      "[Parallel(n_jobs=-1)]: Done  34 tasks      | elapsed:    1.6s\n",
      "[Parallel(n_jobs=-1)]: Done 276 tasks      | elapsed:   12.0s\n",
      "[Parallel(n_jobs=-1)]: Done 485 out of 500 | elapsed:   22.5s remaining:    0.7s\n",
      "[Parallel(n_jobs=-1)]: Done 500 out of 500 | elapsed:   23.1s finished\n"
     ]
    },
    {
     "name": "stdout",
     "output_type": "stream",
     "text": [
      "Best Model Parameters\n",
      "{'n_estimators': 120, 'min_samples_split': 5, 'min_samples_leaf': 3, 'max_depth': 5}\n",
      "Fitting 5 folds for each of 100 candidates, totalling 500 fits\n"
     ]
    },
    {
     "name": "stderr",
     "output_type": "stream",
     "text": [
      "[Parallel(n_jobs=-1)]: Using backend LokyBackend with 8 concurrent workers.\n",
      "[Parallel(n_jobs=-1)]: Done  25 tasks      | elapsed:    1.4s\n",
      "[Parallel(n_jobs=-1)]: Done 146 tasks      | elapsed:    7.4s\n",
      "[Parallel(n_jobs=-1)]: Done 349 tasks      | elapsed:   16.3s\n",
      "[Parallel(n_jobs=-1)]: Done 500 out of 500 | elapsed:   22.8s finished\n"
     ]
    },
    {
     "name": "stdout",
     "output_type": "stream",
     "text": [
      "Best Model Parameters\n",
      "{'n_estimators': 120, 'min_samples_split': 4, 'min_samples_leaf': 2, 'max_depth': 5}\n",
      "Fitting 5 folds for each of 100 candidates, totalling 500 fits\n"
     ]
    },
    {
     "name": "stderr",
     "output_type": "stream",
     "text": [
      "[Parallel(n_jobs=-1)]: Using backend LokyBackend with 8 concurrent workers.\n",
      "[Parallel(n_jobs=-1)]: Done  34 tasks      | elapsed:    1.6s\n",
      "[Parallel(n_jobs=-1)]: Done 276 tasks      | elapsed:   13.2s\n",
      "[Parallel(n_jobs=-1)]: Done 500 out of 500 | elapsed:   23.6s finished\n"
     ]
    },
    {
     "name": "stdout",
     "output_type": "stream",
     "text": [
      "Best Model Parameters\n",
      "{'n_estimators': 200, 'min_samples_split': 5, 'min_samples_leaf': 3, 'max_depth': 3}\n"
     ]
    }
   ],
   "source": [
    "# Retrain fridge and coffeemachine model based on most significant features\n",
    "retrained_fridgecoffeemachine_model = train_ensemble_model(Xtrain[:,fridgecoffeemachine_feature_index], Ytrain['Model3_FridgeCoffeeMachine'])"
   ]
  },
  {
   "cell_type": "code",
   "execution_count": 234,
   "metadata": {},
   "outputs": [
    {
     "name": "stdout",
     "output_type": "stream",
     "text": [
      "Fitting 5 folds for each of 100 candidates, totalling 500 fits\n"
     ]
    },
    {
     "name": "stderr",
     "output_type": "stream",
     "text": [
      "[Parallel(n_jobs=-1)]: Using backend LokyBackend with 8 concurrent workers.\n",
      "[Parallel(n_jobs=-1)]: Done  34 tasks      | elapsed:    1.3s\n",
      "[Parallel(n_jobs=-1)]: Done 276 tasks      | elapsed:    8.7s\n",
      "[Parallel(n_jobs=-1)]: Done 500 out of 500 | elapsed:   15.2s finished\n",
      "[Parallel(n_jobs=-1)]: Using backend LokyBackend with 8 concurrent workers.\n"
     ]
    },
    {
     "name": "stdout",
     "output_type": "stream",
     "text": [
      "Best Model Parameters\n",
      "{'n_estimators': 130, 'min_samples_split': 3, 'min_samples_leaf': 1, 'max_depth': 4}\n",
      "Fitting 5 folds for each of 100 candidates, totalling 500 fits\n"
     ]
    },
    {
     "name": "stderr",
     "output_type": "stream",
     "text": [
      "[Parallel(n_jobs=-1)]: Done  34 tasks      | elapsed:    1.2s\n",
      "[Parallel(n_jobs=-1)]: Done 276 tasks      | elapsed:    8.0s\n",
      "[Parallel(n_jobs=-1)]: Done 500 out of 500 | elapsed:   14.7s finished\n",
      "[Parallel(n_jobs=-1)]: Using backend LokyBackend with 8 concurrent workers.\n"
     ]
    },
    {
     "name": "stdout",
     "output_type": "stream",
     "text": [
      "Best Model Parameters\n",
      "{'n_estimators': 90, 'min_samples_split': 2, 'min_samples_leaf': 1, 'max_depth': 5}\n",
      "Fitting 5 folds for each of 100 candidates, totalling 500 fits\n"
     ]
    },
    {
     "name": "stderr",
     "output_type": "stream",
     "text": [
      "[Parallel(n_jobs=-1)]: Done  34 tasks      | elapsed:    1.4s\n",
      "[Parallel(n_jobs=-1)]: Done 276 tasks      | elapsed:   10.0s\n",
      "[Parallel(n_jobs=-1)]: Done 500 out of 500 | elapsed:   17.6s finished\n"
     ]
    },
    {
     "name": "stdout",
     "output_type": "stream",
     "text": [
      "Best Model Parameters\n",
      "{'n_estimators': 160, 'min_samples_split': 4, 'min_samples_leaf': 2, 'max_depth': 4}\n",
      "Fitting 5 folds for each of 100 candidates, totalling 500 fits\n"
     ]
    },
    {
     "name": "stderr",
     "output_type": "stream",
     "text": [
      "[Parallel(n_jobs=-1)]: Using backend LokyBackend with 8 concurrent workers.\n",
      "[Parallel(n_jobs=-1)]: Done  34 tasks      | elapsed:    1.0s\n",
      "[Parallel(n_jobs=-1)]: Done 276 tasks      | elapsed:    7.5s\n",
      "[Parallel(n_jobs=-1)]: Done 500 out of 500 | elapsed:   13.2s finished\n",
      "[Parallel(n_jobs=-1)]: Using backend LokyBackend with 8 concurrent workers.\n"
     ]
    },
    {
     "name": "stdout",
     "output_type": "stream",
     "text": [
      "Best Model Parameters\n",
      "{'n_estimators': 50, 'min_samples_split': 3, 'min_samples_leaf': 2, 'max_depth': 4}\n",
      "Fitting 5 folds for each of 100 candidates, totalling 500 fits\n"
     ]
    },
    {
     "name": "stderr",
     "output_type": "stream",
     "text": [
      "[Parallel(n_jobs=-1)]: Done  34 tasks      | elapsed:    1.4s\n",
      "[Parallel(n_jobs=-1)]: Done 276 tasks      | elapsed:    9.0s\n",
      "[Parallel(n_jobs=-1)]: Done 500 out of 500 | elapsed:   16.1s finished\n",
      "[Parallel(n_jobs=-1)]: Using backend LokyBackend with 8 concurrent workers.\n"
     ]
    },
    {
     "name": "stdout",
     "output_type": "stream",
     "text": [
      "Best Model Parameters\n",
      "{'n_estimators': 70, 'min_samples_split': 4, 'min_samples_leaf': 5, 'max_depth': 5}\n",
      "Fitting 5 folds for each of 100 candidates, totalling 500 fits\n"
     ]
    },
    {
     "name": "stderr",
     "output_type": "stream",
     "text": [
      "[Parallel(n_jobs=-1)]: Done  34 tasks      | elapsed:    1.4s\n",
      "[Parallel(n_jobs=-1)]: Done 276 tasks      | elapsed:    9.3s\n",
      "[Parallel(n_jobs=-1)]: Done 500 out of 500 | elapsed:   16.2s finished\n",
      "[Parallel(n_jobs=-1)]: Using backend LokyBackend with 8 concurrent workers.\n"
     ]
    },
    {
     "name": "stdout",
     "output_type": "stream",
     "text": [
      "Best Model Parameters\n",
      "{'n_estimators': 170, 'min_samples_split': 5, 'min_samples_leaf': 5, 'max_depth': 3}\n",
      "Fitting 5 folds for each of 100 candidates, totalling 500 fits\n"
     ]
    },
    {
     "name": "stderr",
     "output_type": "stream",
     "text": [
      "[Parallel(n_jobs=-1)]: Done  25 tasks      | elapsed:    1.0s\n",
      "[Parallel(n_jobs=-1)]: Done 146 tasks      | elapsed:    4.7s\n",
      "[Parallel(n_jobs=-1)]: Done 349 tasks      | elapsed:   11.5s\n",
      "[Parallel(n_jobs=-1)]: Done 500 out of 500 | elapsed:   15.8s finished\n",
      "[Parallel(n_jobs=-1)]: Using backend LokyBackend with 8 concurrent workers.\n"
     ]
    },
    {
     "name": "stdout",
     "output_type": "stream",
     "text": [
      "Best Model Parameters\n",
      "{'n_estimators': 60, 'min_samples_split': 2, 'min_samples_leaf': 4, 'max_depth': 5}\n",
      "Fitting 5 folds for each of 100 candidates, totalling 500 fits\n"
     ]
    },
    {
     "name": "stderr",
     "output_type": "stream",
     "text": [
      "[Parallel(n_jobs=-1)]: Done  25 tasks      | elapsed:    1.0s\n",
      "[Parallel(n_jobs=-1)]: Done 146 tasks      | elapsed:    4.3s\n",
      "[Parallel(n_jobs=-1)]: Done 349 tasks      | elapsed:   10.6s\n",
      "[Parallel(n_jobs=-1)]: Done 500 out of 500 | elapsed:   15.0s finished\n",
      "[Parallel(n_jobs=-1)]: Using backend LokyBackend with 8 concurrent workers.\n"
     ]
    },
    {
     "name": "stdout",
     "output_type": "stream",
     "text": [
      "Best Model Parameters\n",
      "{'n_estimators': 70, 'min_samples_split': 3, 'min_samples_leaf': 4, 'max_depth': 5}\n",
      "Fitting 5 folds for each of 100 candidates, totalling 500 fits\n"
     ]
    },
    {
     "name": "stderr",
     "output_type": "stream",
     "text": [
      "[Parallel(n_jobs=-1)]: Done  52 tasks      | elapsed:    2.5s\n",
      "[Parallel(n_jobs=-1)]: Done 330 tasks      | elapsed:   12.2s\n",
      "[Parallel(n_jobs=-1)]: Done 500 out of 500 | elapsed:   17.6s finished\n",
      "[Parallel(n_jobs=-1)]: Using backend LokyBackend with 8 concurrent workers.\n"
     ]
    },
    {
     "name": "stdout",
     "output_type": "stream",
     "text": [
      "Best Model Parameters\n",
      "{'n_estimators': 120, 'min_samples_split': 2, 'min_samples_leaf': 1, 'max_depth': 4}\n",
      "Fitting 5 folds for each of 100 candidates, totalling 500 fits\n"
     ]
    },
    {
     "name": "stderr",
     "output_type": "stream",
     "text": [
      "[Parallel(n_jobs=-1)]: Done  25 tasks      | elapsed:    1.2s\n",
      "[Parallel(n_jobs=-1)]: Done 146 tasks      | elapsed:    5.0s\n",
      "[Parallel(n_jobs=-1)]: Done 349 tasks      | elapsed:   11.0s\n",
      "[Parallel(n_jobs=-1)]: Done 500 out of 500 | elapsed:   15.6s finished\n",
      "[Parallel(n_jobs=-1)]: Using backend LokyBackend with 8 concurrent workers.\n"
     ]
    },
    {
     "name": "stdout",
     "output_type": "stream",
     "text": [
      "Best Model Parameters\n",
      "{'n_estimators': 140, 'min_samples_split': 3, 'min_samples_leaf': 1, 'max_depth': 5}\n",
      "Fitting 5 folds for each of 100 candidates, totalling 500 fits\n"
     ]
    },
    {
     "name": "stderr",
     "output_type": "stream",
     "text": [
      "[Parallel(n_jobs=-1)]: Done  34 tasks      | elapsed:    1.5s\n",
      "[Parallel(n_jobs=-1)]: Done 276 tasks      | elapsed:    8.4s\n",
      "[Parallel(n_jobs=-1)]: Done 500 out of 500 | elapsed:   15.2s finished\n",
      "[Parallel(n_jobs=-1)]: Using backend LokyBackend with 8 concurrent workers.\n"
     ]
    },
    {
     "name": "stdout",
     "output_type": "stream",
     "text": [
      "Best Model Parameters\n",
      "{'n_estimators': 80, 'min_samples_split': 5, 'min_samples_leaf': 1, 'max_depth': 5}\n",
      "Fitting 5 folds for each of 100 candidates, totalling 500 fits\n"
     ]
    },
    {
     "name": "stderr",
     "output_type": "stream",
     "text": [
      "[Parallel(n_jobs=-1)]: Done  25 tasks      | elapsed:    0.9s\n",
      "[Parallel(n_jobs=-1)]: Done 146 tasks      | elapsed:    5.2s\n",
      "[Parallel(n_jobs=-1)]: Done 349 tasks      | elapsed:   11.4s\n",
      "[Parallel(n_jobs=-1)]: Done 500 out of 500 | elapsed:   16.4s finished\n",
      "[Parallel(n_jobs=-1)]: Using backend LokyBackend with 8 concurrent workers.\n"
     ]
    },
    {
     "name": "stdout",
     "output_type": "stream",
     "text": [
      "Best Model Parameters\n",
      "{'n_estimators': 90, 'min_samples_split': 5, 'min_samples_leaf': 3, 'max_depth': 3}\n",
      "Fitting 5 folds for each of 100 candidates, totalling 500 fits\n"
     ]
    },
    {
     "name": "stderr",
     "output_type": "stream",
     "text": [
      "[Parallel(n_jobs=-1)]: Done  34 tasks      | elapsed:    1.3s\n",
      "[Parallel(n_jobs=-1)]: Done 276 tasks      | elapsed:    9.1s\n",
      "[Parallel(n_jobs=-1)]: Done 500 out of 500 | elapsed:   16.4s finished\n"
     ]
    },
    {
     "name": "stdout",
     "output_type": "stream",
     "text": [
      "Best Model Parameters\n",
      "{'n_estimators': 200, 'min_samples_split': 4, 'min_samples_leaf': 3, 'max_depth': 3}\n",
      "Fitting 5 folds for each of 100 candidates, totalling 500 fits\n"
     ]
    },
    {
     "name": "stderr",
     "output_type": "stream",
     "text": [
      "[Parallel(n_jobs=-1)]: Using backend LokyBackend with 8 concurrent workers.\n",
      "[Parallel(n_jobs=-1)]: Done  34 tasks      | elapsed:    0.9s\n",
      "[Parallel(n_jobs=-1)]: Done 276 tasks      | elapsed:    8.1s\n",
      "[Parallel(n_jobs=-1)]: Done 500 out of 500 | elapsed:   15.3s finished\n",
      "[Parallel(n_jobs=-1)]: Using backend LokyBackend with 8 concurrent workers.\n"
     ]
    },
    {
     "name": "stdout",
     "output_type": "stream",
     "text": [
      "Best Model Parameters\n",
      "{'n_estimators': 50, 'min_samples_split': 3, 'min_samples_leaf': 1, 'max_depth': 5}\n",
      "Fitting 5 folds for each of 100 candidates, totalling 500 fits\n"
     ]
    },
    {
     "name": "stderr",
     "output_type": "stream",
     "text": [
      "[Parallel(n_jobs=-1)]: Done  34 tasks      | elapsed:    1.4s\n",
      "[Parallel(n_jobs=-1)]: Done 276 tasks      | elapsed:    9.2s\n"
     ]
    },
    {
     "name": "stdout",
     "output_type": "stream",
     "text": [
      "Best Model Parameters\n",
      "{'n_estimators': 120, 'min_samples_split': 3, 'min_samples_leaf': 5, 'max_depth': 4}\n"
     ]
    },
    {
     "name": "stderr",
     "output_type": "stream",
     "text": [
      "[Parallel(n_jobs=-1)]: Done 500 out of 500 | elapsed:   16.7s finished\n"
     ]
    }
   ],
   "source": [
    "# Retrain microwave waterdispenser model based on most significant features\n",
    "retrained_microwavewaterdispenser_model = train_ensemble_model(Xtrain[:,microwavewaterdispenser_feature_index], Ytrain['Model3_MicrowaveWaterDispenser'])"
   ]
  },
  {
   "cell_type": "code",
   "execution_count": 255,
   "metadata": {},
   "outputs": [
    {
     "name": "stdout",
     "output_type": "stream",
     "text": [
      "Fitting 5 folds for each of 100 candidates, totalling 500 fits\n"
     ]
    },
    {
     "name": "stderr",
     "output_type": "stream",
     "text": [
      "[Parallel(n_jobs=-1)]: Using backend LokyBackend with 8 concurrent workers.\n",
      "[Parallel(n_jobs=-1)]: Done  25 tasks      | elapsed:    3.7s\n",
      "[Parallel(n_jobs=-1)]: Done 146 tasks      | elapsed:   11.0s\n",
      "[Parallel(n_jobs=-1)]: Done 349 tasks      | elapsed:   22.5s\n",
      "[Parallel(n_jobs=-1)]: Done 500 out of 500 | elapsed:   32.1s finished\n"
     ]
    },
    {
     "name": "stdout",
     "output_type": "stream",
     "text": [
      "Best Model Parameters\n",
      "{'n_estimators': 170, 'min_samples_split': 2, 'min_samples_leaf': 4, 'max_depth': 5}\n",
      "Fitting 5 folds for each of 100 candidates, totalling 500 fits\n"
     ]
    },
    {
     "name": "stderr",
     "output_type": "stream",
     "text": [
      "[Parallel(n_jobs=-1)]: Using backend LokyBackend with 8 concurrent workers.\n",
      "[Parallel(n_jobs=-1)]: Done  25 tasks      | elapsed:    1.5s\n",
      "[Parallel(n_jobs=-1)]: Done 146 tasks      | elapsed:    9.7s\n",
      "[Parallel(n_jobs=-1)]: Done 349 tasks      | elapsed:   21.3s\n",
      "[Parallel(n_jobs=-1)]: Done 500 out of 500 | elapsed:   30.7s finished\n"
     ]
    },
    {
     "name": "stdout",
     "output_type": "stream",
     "text": [
      "Best Model Parameters\n",
      "{'n_estimators': 170, 'min_samples_split': 4, 'min_samples_leaf': 2, 'max_depth': 5}\n",
      "Fitting 5 folds for each of 100 candidates, totalling 500 fits\n"
     ]
    },
    {
     "name": "stderr",
     "output_type": "stream",
     "text": [
      "[Parallel(n_jobs=-1)]: Using backend LokyBackend with 8 concurrent workers.\n",
      "[Parallel(n_jobs=-1)]: Done  34 tasks      | elapsed:    1.6s\n",
      "[Parallel(n_jobs=-1)]: Done 195 tasks      | elapsed:   11.5s\n",
      "[Parallel(n_jobs=-1)]: Done 398 tasks      | elapsed:   24.3s\n",
      "[Parallel(n_jobs=-1)]: Done 500 out of 500 | elapsed:   30.7s finished\n"
     ]
    },
    {
     "name": "stdout",
     "output_type": "stream",
     "text": [
      "Best Model Parameters\n",
      "{'n_estimators': 160, 'min_samples_split': 4, 'min_samples_leaf': 4, 'max_depth': 3}\n",
      "Fitting 5 folds for each of 100 candidates, totalling 500 fits\n"
     ]
    },
    {
     "name": "stderr",
     "output_type": "stream",
     "text": [
      "[Parallel(n_jobs=-1)]: Using backend LokyBackend with 8 concurrent workers.\n",
      "[Parallel(n_jobs=-1)]: Done  34 tasks      | elapsed:    2.3s\n",
      "[Parallel(n_jobs=-1)]: Done 199 tasks      | elapsed:   10.5s\n",
      "[Parallel(n_jobs=-1)]: Done 402 tasks      | elapsed:   20.9s\n",
      "[Parallel(n_jobs=-1)]: Done 500 out of 500 | elapsed:   25.2s finished\n"
     ]
    },
    {
     "name": "stdout",
     "output_type": "stream",
     "text": [
      "Best Model Parameters\n",
      "{'n_estimators': 170, 'min_samples_split': 2, 'min_samples_leaf': 3, 'max_depth': 4}\n",
      "Fitting 5 folds for each of 100 candidates, totalling 500 fits\n"
     ]
    },
    {
     "name": "stderr",
     "output_type": "stream",
     "text": [
      "[Parallel(n_jobs=-1)]: Using backend LokyBackend with 8 concurrent workers.\n",
      "[Parallel(n_jobs=-1)]: Done  34 tasks      | elapsed:    2.5s\n",
      "[Parallel(n_jobs=-1)]: Done 220 tasks      | elapsed:   13.3s\n",
      "[Parallel(n_jobs=-1)]: Done 423 tasks      | elapsed:   24.3s\n",
      "[Parallel(n_jobs=-1)]: Done 500 out of 500 | elapsed:   28.2s finished\n"
     ]
    },
    {
     "name": "stdout",
     "output_type": "stream",
     "text": [
      "Best Model Parameters\n",
      "{'n_estimators': 200, 'min_samples_split': 4, 'min_samples_leaf': 5, 'max_depth': 5}\n",
      "Fitting 5 folds for each of 100 candidates, totalling 500 fits\n"
     ]
    },
    {
     "name": "stderr",
     "output_type": "stream",
     "text": [
      "[Parallel(n_jobs=-1)]: Using backend LokyBackend with 8 concurrent workers.\n",
      "[Parallel(n_jobs=-1)]: Done  25 tasks      | elapsed:    1.3s\n",
      "[Parallel(n_jobs=-1)]: Done 146 tasks      | elapsed:    7.2s\n",
      "[Parallel(n_jobs=-1)]: Done 349 tasks      | elapsed:   18.2s\n",
      "[Parallel(n_jobs=-1)]: Done 500 out of 500 | elapsed:   26.9s finished\n"
     ]
    },
    {
     "name": "stdout",
     "output_type": "stream",
     "text": [
      "Best Model Parameters\n",
      "{'n_estimators': 180, 'min_samples_split': 3, 'min_samples_leaf': 2, 'max_depth': 3}\n",
      "Fitting 5 folds for each of 100 candidates, totalling 500 fits\n"
     ]
    },
    {
     "name": "stderr",
     "output_type": "stream",
     "text": [
      "[Parallel(n_jobs=-1)]: Using backend LokyBackend with 8 concurrent workers.\n",
      "[Parallel(n_jobs=-1)]: Done  25 tasks      | elapsed:    1.2s\n",
      "[Parallel(n_jobs=-1)]: Done 146 tasks      | elapsed:    9.1s\n",
      "[Parallel(n_jobs=-1)]: Done 349 tasks      | elapsed:   22.2s\n",
      "[Parallel(n_jobs=-1)]: Done 500 out of 500 | elapsed:   30.9s finished\n"
     ]
    },
    {
     "name": "stdout",
     "output_type": "stream",
     "text": [
      "Best Model Parameters\n",
      "{'n_estimators': 200, 'min_samples_split': 3, 'min_samples_leaf': 3, 'max_depth': 5}\n",
      "Fitting 5 folds for each of 100 candidates, totalling 500 fits\n"
     ]
    },
    {
     "name": "stderr",
     "output_type": "stream",
     "text": [
      "[Parallel(n_jobs=-1)]: Using backend LokyBackend with 8 concurrent workers.\n",
      "[Parallel(n_jobs=-1)]: Done  34 tasks      | elapsed:    2.0s\n",
      "[Parallel(n_jobs=-1)]: Done 184 tasks      | elapsed:   11.4s\n",
      "[Parallel(n_jobs=-1)]: Done 387 tasks      | elapsed:   25.1s\n",
      "[Parallel(n_jobs=-1)]: Done 500 out of 500 | elapsed:   31.1s finished\n"
     ]
    },
    {
     "name": "stdout",
     "output_type": "stream",
     "text": [
      "Best Model Parameters\n",
      "{'n_estimators': 180, 'min_samples_split': 2, 'min_samples_leaf': 5, 'max_depth': 5}\n",
      "Fitting 5 folds for each of 100 candidates, totalling 500 fits\n"
     ]
    },
    {
     "name": "stderr",
     "output_type": "stream",
     "text": [
      "[Parallel(n_jobs=-1)]: Using backend LokyBackend with 8 concurrent workers.\n",
      "[Parallel(n_jobs=-1)]: Done  25 tasks      | elapsed:    1.8s\n",
      "[Parallel(n_jobs=-1)]: Done 146 tasks      | elapsed:    9.1s\n",
      "[Parallel(n_jobs=-1)]: Done 349 tasks      | elapsed:   19.9s\n",
      "[Parallel(n_jobs=-1)]: Done 500 out of 500 | elapsed:   29.7s finished\n"
     ]
    },
    {
     "name": "stdout",
     "output_type": "stream",
     "text": [
      "Best Model Parameters\n",
      "{'n_estimators': 190, 'min_samples_split': 2, 'min_samples_leaf': 1, 'max_depth': 5}\n",
      "Fitting 5 folds for each of 100 candidates, totalling 500 fits\n"
     ]
    },
    {
     "name": "stderr",
     "output_type": "stream",
     "text": [
      "[Parallel(n_jobs=-1)]: Using backend LokyBackend with 8 concurrent workers.\n",
      "[Parallel(n_jobs=-1)]: Done  25 tasks      | elapsed:    1.3s\n",
      "[Parallel(n_jobs=-1)]: Done 146 tasks      | elapsed:    9.0s\n",
      "[Parallel(n_jobs=-1)]: Done 349 tasks      | elapsed:   21.6s\n",
      "[Parallel(n_jobs=-1)]: Done 500 out of 500 | elapsed:   33.1s finished\n"
     ]
    },
    {
     "name": "stdout",
     "output_type": "stream",
     "text": [
      "Best Model Parameters\n",
      "{'n_estimators': 180, 'min_samples_split': 5, 'min_samples_leaf': 1, 'max_depth': 4}\n",
      "Fitting 5 folds for each of 100 candidates, totalling 500 fits\n"
     ]
    },
    {
     "name": "stderr",
     "output_type": "stream",
     "text": [
      "[Parallel(n_jobs=-1)]: Using backend LokyBackend with 8 concurrent workers.\n",
      "[Parallel(n_jobs=-1)]: Done  25 tasks      | elapsed:    2.7s\n",
      "[Parallel(n_jobs=-1)]: Done 146 tasks      | elapsed:   13.4s\n",
      "[Parallel(n_jobs=-1)]: Done 349 tasks      | elapsed:   31.7s\n",
      "[Parallel(n_jobs=-1)]: Done 500 out of 500 | elapsed:   42.9s finished\n"
     ]
    },
    {
     "name": "stdout",
     "output_type": "stream",
     "text": [
      "Best Model Parameters\n",
      "{'n_estimators': 190, 'min_samples_split': 4, 'min_samples_leaf': 3, 'max_depth': 4}\n",
      "Fitting 5 folds for each of 100 candidates, totalling 500 fits\n"
     ]
    },
    {
     "name": "stderr",
     "output_type": "stream",
     "text": [
      "[Parallel(n_jobs=-1)]: Using backend LokyBackend with 8 concurrent workers.\n",
      "[Parallel(n_jobs=-1)]: Done  25 tasks      | elapsed:    1.8s\n",
      "[Parallel(n_jobs=-1)]: Done 146 tasks      | elapsed:   11.7s\n",
      "[Parallel(n_jobs=-1)]: Done 349 tasks      | elapsed:   29.0s\n",
      "[Parallel(n_jobs=-1)]: Done 500 out of 500 | elapsed:   40.8s finished\n"
     ]
    },
    {
     "name": "stdout",
     "output_type": "stream",
     "text": [
      "Best Model Parameters\n",
      "{'n_estimators': 120, 'min_samples_split': 5, 'min_samples_leaf': 2, 'max_depth': 4}\n",
      "Fitting 5 folds for each of 100 candidates, totalling 500 fits\n"
     ]
    },
    {
     "name": "stderr",
     "output_type": "stream",
     "text": [
      "[Parallel(n_jobs=-1)]: Using backend LokyBackend with 8 concurrent workers.\n",
      "[Parallel(n_jobs=-1)]: Done  25 tasks      | elapsed:    2.7s\n",
      "[Parallel(n_jobs=-1)]: Done 146 tasks      | elapsed:   12.8s\n",
      "[Parallel(n_jobs=-1)]: Done 349 tasks      | elapsed:   28.9s\n",
      "[Parallel(n_jobs=-1)]: Done 500 out of 500 | elapsed:   40.6s finished\n"
     ]
    },
    {
     "name": "stdout",
     "output_type": "stream",
     "text": [
      "Best Model Parameters\n",
      "{'n_estimators': 200, 'min_samples_split': 5, 'min_samples_leaf': 4, 'max_depth': 4}\n",
      "Fitting 5 folds for each of 100 candidates, totalling 500 fits\n"
     ]
    },
    {
     "name": "stderr",
     "output_type": "stream",
     "text": [
      "[Parallel(n_jobs=-1)]: Using backend LokyBackend with 8 concurrent workers.\n",
      "[Parallel(n_jobs=-1)]: Done  25 tasks      | elapsed:    1.7s\n",
      "[Parallel(n_jobs=-1)]: Done 146 tasks      | elapsed:   11.4s\n",
      "[Parallel(n_jobs=-1)]: Done 349 tasks      | elapsed:   24.5s\n",
      "[Parallel(n_jobs=-1)]: Done 500 out of 500 | elapsed:   36.0s finished\n"
     ]
    },
    {
     "name": "stdout",
     "output_type": "stream",
     "text": [
      "Best Model Parameters\n",
      "{'n_estimators': 190, 'min_samples_split': 2, 'min_samples_leaf': 4, 'max_depth': 3}\n"
     ]
    }
   ],
   "source": [
    "# Retrain meeting room model based on most significant features\n",
    "retrained_meeting_model = train_ensemble_model(Xtrain[:,meeting_feature_index], Ytrain['Model3_MeetingRoom'])"
   ]
  },
  {
   "cell_type": "code",
   "execution_count": 197,
   "metadata": {
    "scrolled": true
   },
   "outputs": [
    {
     "name": "stdout",
     "output_type": "stream",
     "text": [
      "Fitting 5 folds for each of 100 candidates, totalling 500 fits\n"
     ]
    },
    {
     "name": "stderr",
     "output_type": "stream",
     "text": [
      "[Parallel(n_jobs=-1)]: Using backend LokyBackend with 8 concurrent workers.\n",
      "[Parallel(n_jobs=-1)]: Done  34 tasks      | elapsed:    1.6s\n",
      "[Parallel(n_jobs=-1)]: Done 180 tasks      | elapsed:   14.4s\n",
      "[Parallel(n_jobs=-1)]: Done 383 tasks      | elapsed:   29.7s\n",
      "[Parallel(n_jobs=-1)]: Done 500 out of 500 | elapsed:   39.2s finished\n"
     ]
    },
    {
     "name": "stdout",
     "output_type": "stream",
     "text": [
      "Best Model Parameters\n",
      "{'n_estimators': 190, 'min_samples_split': 2, 'min_samples_leaf': 4, 'max_depth': 4}\n",
      "Fitting 5 folds for each of 100 candidates, totalling 500 fits\n"
     ]
    },
    {
     "name": "stderr",
     "output_type": "stream",
     "text": [
      "[Parallel(n_jobs=-1)]: Using backend LokyBackend with 8 concurrent workers.\n",
      "[Parallel(n_jobs=-1)]: Done  25 tasks      | elapsed:    1.5s\n",
      "[Parallel(n_jobs=-1)]: Done 146 tasks      | elapsed:    9.7s\n",
      "[Parallel(n_jobs=-1)]: Done 349 tasks      | elapsed:   23.8s\n",
      "[Parallel(n_jobs=-1)]: Done 500 out of 500 | elapsed:   34.7s finished\n"
     ]
    },
    {
     "name": "stdout",
     "output_type": "stream",
     "text": [
      "Best Model Parameters\n",
      "{'n_estimators': 200, 'min_samples_split': 4, 'min_samples_leaf': 4, 'max_depth': 5}\n",
      "Fitting 5 folds for each of 100 candidates, totalling 500 fits\n"
     ]
    },
    {
     "name": "stderr",
     "output_type": "stream",
     "text": [
      "[Parallel(n_jobs=-1)]: Using backend LokyBackend with 8 concurrent workers.\n",
      "[Parallel(n_jobs=-1)]: Done  34 tasks      | elapsed:    2.2s\n",
      "[Parallel(n_jobs=-1)]: Done 178 tasks      | elapsed:   12.0s\n",
      "[Parallel(n_jobs=-1)]: Done 381 tasks      | elapsed:   28.5s\n",
      "[Parallel(n_jobs=-1)]: Done 500 out of 500 | elapsed:   36.2s finished\n"
     ]
    },
    {
     "name": "stdout",
     "output_type": "stream",
     "text": [
      "Best Model Parameters\n",
      "{'n_estimators': 200, 'min_samples_split': 4, 'min_samples_leaf': 5, 'max_depth': 5}\n",
      "Fitting 5 folds for each of 100 candidates, totalling 500 fits\n"
     ]
    },
    {
     "name": "stderr",
     "output_type": "stream",
     "text": [
      "[Parallel(n_jobs=-1)]: Using backend LokyBackend with 8 concurrent workers.\n",
      "[Parallel(n_jobs=-1)]: Done  25 tasks      | elapsed:    1.6s\n",
      "[Parallel(n_jobs=-1)]: Done 146 tasks      | elapsed:   11.8s\n",
      "[Parallel(n_jobs=-1)]: Done 349 tasks      | elapsed:   27.7s\n",
      "[Parallel(n_jobs=-1)]: Done 500 out of 500 | elapsed:   40.6s finished\n"
     ]
    },
    {
     "name": "stdout",
     "output_type": "stream",
     "text": [
      "Best Model Parameters\n",
      "{'n_estimators': 170, 'min_samples_split': 5, 'min_samples_leaf': 1, 'max_depth': 5}\n",
      "Fitting 5 folds for each of 100 candidates, totalling 500 fits\n"
     ]
    },
    {
     "name": "stderr",
     "output_type": "stream",
     "text": [
      "[Parallel(n_jobs=-1)]: Using backend LokyBackend with 8 concurrent workers.\n",
      "[Parallel(n_jobs=-1)]: Done  25 tasks      | elapsed:    1.9s\n",
      "[Parallel(n_jobs=-1)]: Done 146 tasks      | elapsed:   11.3s\n",
      "[Parallel(n_jobs=-1)]: Done 349 tasks      | elapsed:   27.2s\n",
      "[Parallel(n_jobs=-1)]: Done 500 out of 500 | elapsed:   38.0s finished\n"
     ]
    },
    {
     "name": "stdout",
     "output_type": "stream",
     "text": [
      "Best Model Parameters\n",
      "{'n_estimators': 160, 'min_samples_split': 4, 'min_samples_leaf': 4, 'max_depth': 4}\n",
      "Fitting 5 folds for each of 100 candidates, totalling 500 fits\n"
     ]
    },
    {
     "name": "stderr",
     "output_type": "stream",
     "text": [
      "[Parallel(n_jobs=-1)]: Using backend LokyBackend with 8 concurrent workers.\n",
      "[Parallel(n_jobs=-1)]: Done  25 tasks      | elapsed:    1.7s\n",
      "[Parallel(n_jobs=-1)]: Done 146 tasks      | elapsed:    9.4s\n",
      "[Parallel(n_jobs=-1)]: Done 349 tasks      | elapsed:   23.5s\n",
      "[Parallel(n_jobs=-1)]: Done 500 out of 500 | elapsed:   34.7s finished\n"
     ]
    },
    {
     "name": "stdout",
     "output_type": "stream",
     "text": [
      "Best Model Parameters\n",
      "{'n_estimators': 200, 'min_samples_split': 2, 'min_samples_leaf': 1, 'max_depth': 4}\n",
      "Fitting 5 folds for each of 100 candidates, totalling 500 fits\n"
     ]
    },
    {
     "name": "stderr",
     "output_type": "stream",
     "text": [
      "[Parallel(n_jobs=-1)]: Using backend LokyBackend with 8 concurrent workers.\n",
      "[Parallel(n_jobs=-1)]: Done  25 tasks      | elapsed:    1.5s\n",
      "[Parallel(n_jobs=-1)]: Done 146 tasks      | elapsed:    9.6s\n",
      "[Parallel(n_jobs=-1)]: Done 349 tasks      | elapsed:   23.4s\n",
      "[Parallel(n_jobs=-1)]: Done 500 out of 500 | elapsed:   34.4s finished\n"
     ]
    },
    {
     "name": "stdout",
     "output_type": "stream",
     "text": [
      "Best Model Parameters\n",
      "{'n_estimators': 150, 'min_samples_split': 5, 'min_samples_leaf': 2, 'max_depth': 5}\n"
     ]
    }
   ],
   "source": [
    "# Retrain officearea 1 model based on most significant features\n",
    "retrained_officearea_1_model = train_ensemble_model(Xtrain[:,officearea_1_feature_index], Ytrain['Model3_OfficeArea_1'])"
   ]
  },
  {
   "cell_type": "code",
   "execution_count": 249,
   "metadata": {
    "scrolled": true
   },
   "outputs": [
    {
     "name": "stdout",
     "output_type": "stream",
     "text": [
      "Fitting 5 folds for each of 100 candidates, totalling 500 fits\n"
     ]
    },
    {
     "name": "stderr",
     "output_type": "stream",
     "text": [
      "[Parallel(n_jobs=-1)]: Using backend LokyBackend with 8 concurrent workers.\n",
      "[Parallel(n_jobs=-1)]: Done  25 tasks      | elapsed:    1.9s\n",
      "[Parallel(n_jobs=-1)]: Done 146 tasks      | elapsed:   14.0s\n",
      "[Parallel(n_jobs=-1)]: Done 349 tasks      | elapsed:   28.8s\n",
      "[Parallel(n_jobs=-1)]: Done 500 out of 500 | elapsed:   40.7s finished\n"
     ]
    },
    {
     "name": "stdout",
     "output_type": "stream",
     "text": [
      "Best Model Parameters\n",
      "{'n_estimators': 90, 'min_samples_split': 2, 'min_samples_leaf': 2, 'max_depth': 4}\n",
      "Fitting 5 folds for each of 100 candidates, totalling 500 fits\n"
     ]
    },
    {
     "name": "stderr",
     "output_type": "stream",
     "text": [
      "[Parallel(n_jobs=-1)]: Using backend LokyBackend with 8 concurrent workers.\n",
      "[Parallel(n_jobs=-1)]: Done  25 tasks      | elapsed:    2.6s\n",
      "[Parallel(n_jobs=-1)]: Done 146 tasks      | elapsed:   13.4s\n",
      "[Parallel(n_jobs=-1)]: Done 349 tasks      | elapsed:   30.2s\n",
      "[Parallel(n_jobs=-1)]: Done 500 out of 500 | elapsed:   42.6s finished\n"
     ]
    },
    {
     "name": "stdout",
     "output_type": "stream",
     "text": [
      "Best Model Parameters\n",
      "{'n_estimators': 70, 'min_samples_split': 2, 'min_samples_leaf': 1, 'max_depth': 5}\n",
      "Fitting 5 folds for each of 100 candidates, totalling 500 fits\n"
     ]
    },
    {
     "name": "stderr",
     "output_type": "stream",
     "text": [
      "[Parallel(n_jobs=-1)]: Using backend LokyBackend with 8 concurrent workers.\n",
      "[Parallel(n_jobs=-1)]: Done  25 tasks      | elapsed:    1.8s\n",
      "[Parallel(n_jobs=-1)]: Done 146 tasks      | elapsed:   12.9s\n",
      "[Parallel(n_jobs=-1)]: Done 349 tasks      | elapsed:   29.7s\n",
      "[Parallel(n_jobs=-1)]: Done 500 out of 500 | elapsed:   39.9s finished\n"
     ]
    },
    {
     "name": "stdout",
     "output_type": "stream",
     "text": [
      "Best Model Parameters\n",
      "{'n_estimators': 160, 'min_samples_split': 4, 'min_samples_leaf': 1, 'max_depth': 5}\n",
      "Fitting 5 folds for each of 100 candidates, totalling 500 fits\n"
     ]
    },
    {
     "name": "stderr",
     "output_type": "stream",
     "text": [
      "[Parallel(n_jobs=-1)]: Using backend LokyBackend with 8 concurrent workers.\n",
      "[Parallel(n_jobs=-1)]: Done  25 tasks      | elapsed:    2.4s\n",
      "[Parallel(n_jobs=-1)]: Done 146 tasks      | elapsed:   13.5s\n",
      "[Parallel(n_jobs=-1)]: Done 349 tasks      | elapsed:   31.5s\n",
      "[Parallel(n_jobs=-1)]: Done 500 out of 500 | elapsed:   42.6s finished\n"
     ]
    },
    {
     "name": "stdout",
     "output_type": "stream",
     "text": [
      "Best Model Parameters\n",
      "{'n_estimators': 140, 'min_samples_split': 4, 'min_samples_leaf': 3, 'max_depth': 5}\n",
      "Fitting 5 folds for each of 100 candidates, totalling 500 fits\n"
     ]
    },
    {
     "name": "stderr",
     "output_type": "stream",
     "text": [
      "[Parallel(n_jobs=-1)]: Using backend LokyBackend with 8 concurrent workers.\n",
      "[Parallel(n_jobs=-1)]: Done  34 tasks      | elapsed:    3.0s\n",
      "[Parallel(n_jobs=-1)]: Done 174 tasks      | elapsed:   14.8s\n",
      "[Parallel(n_jobs=-1)]: Done 377 tasks      | elapsed:   28.7s\n",
      "[Parallel(n_jobs=-1)]: Done 500 out of 500 | elapsed:   40.0s finished\n"
     ]
    },
    {
     "name": "stdout",
     "output_type": "stream",
     "text": [
      "Best Model Parameters\n",
      "{'n_estimators': 200, 'min_samples_split': 5, 'min_samples_leaf': 3, 'max_depth': 3}\n"
     ]
    }
   ],
   "source": [
    "# Retrain officearea 2 model based on most significant features\n",
    "retrained_officearea_2_model = train_ensemble_model(Xtrain[:,officearea_2_feature_index], Ytrain['Model3_OfficeArea_2'])"
   ]
  },
  {
   "cell_type": "code",
   "execution_count": 250,
   "metadata": {},
   "outputs": [
    {
     "name": "stdout",
     "output_type": "stream",
     "text": [
      "Fitting 5 folds for each of 100 candidates, totalling 500 fits\n"
     ]
    },
    {
     "name": "stderr",
     "output_type": "stream",
     "text": [
      "[Parallel(n_jobs=-1)]: Using backend LokyBackend with 8 concurrent workers.\n",
      "[Parallel(n_jobs=-1)]: Done  34 tasks      | elapsed:    1.3s\n",
      "[Parallel(n_jobs=-1)]: Done 276 tasks      | elapsed:   10.4s\n",
      "[Parallel(n_jobs=-1)]: Done 500 out of 500 | elapsed:   21.5s finished\n"
     ]
    },
    {
     "name": "stdout",
     "output_type": "stream",
     "text": [
      "Best Model Parameters\n",
      "{'n_estimators': 140, 'min_samples_split': 4, 'min_samples_leaf': 4, 'max_depth': 5}\n",
      "Fitting 5 folds for each of 100 candidates, totalling 500 fits\n"
     ]
    },
    {
     "name": "stderr",
     "output_type": "stream",
     "text": [
      "[Parallel(n_jobs=-1)]: Using backend LokyBackend with 8 concurrent workers.\n",
      "[Parallel(n_jobs=-1)]: Done  25 tasks      | elapsed:    1.3s\n",
      "[Parallel(n_jobs=-1)]: Done 146 tasks      | elapsed:    7.1s\n",
      "[Parallel(n_jobs=-1)]: Done 349 tasks      | elapsed:   15.3s\n",
      "[Parallel(n_jobs=-1)]: Done 500 out of 500 | elapsed:   20.9s finished\n",
      "[Parallel(n_jobs=-1)]: Using backend LokyBackend with 8 concurrent workers.\n"
     ]
    },
    {
     "name": "stdout",
     "output_type": "stream",
     "text": [
      "Best Model Parameters\n",
      "{'n_estimators': 170, 'min_samples_split': 2, 'min_samples_leaf': 2, 'max_depth': 2}\n",
      "Fitting 5 folds for each of 100 candidates, totalling 500 fits\n"
     ]
    },
    {
     "name": "stderr",
     "output_type": "stream",
     "text": [
      "[Parallel(n_jobs=-1)]: Done  25 tasks      | elapsed:    1.4s\n",
      "[Parallel(n_jobs=-1)]: Done 146 tasks      | elapsed:    7.5s\n",
      "[Parallel(n_jobs=-1)]: Done 349 tasks      | elapsed:   16.5s\n",
      "[Parallel(n_jobs=-1)]: Done 500 out of 500 | elapsed:   22.8s finished\n"
     ]
    },
    {
     "name": "stdout",
     "output_type": "stream",
     "text": [
      "Best Model Parameters\n",
      "{'n_estimators': 180, 'min_samples_split': 2, 'min_samples_leaf': 1, 'max_depth': 3}\n",
      "Fitting 5 folds for each of 100 candidates, totalling 500 fits\n"
     ]
    },
    {
     "name": "stderr",
     "output_type": "stream",
     "text": [
      "[Parallel(n_jobs=-1)]: Using backend LokyBackend with 8 concurrent workers.\n",
      "[Parallel(n_jobs=-1)]: Done  25 tasks      | elapsed:    1.2s\n",
      "[Parallel(n_jobs=-1)]: Done 146 tasks      | elapsed:    5.3s\n",
      "[Parallel(n_jobs=-1)]: Done 349 tasks      | elapsed:   12.8s\n",
      "[Parallel(n_jobs=-1)]: Done 500 out of 500 | elapsed:   17.6s finished\n",
      "[Parallel(n_jobs=-1)]: Using backend LokyBackend with 8 concurrent workers.\n"
     ]
    },
    {
     "name": "stdout",
     "output_type": "stream",
     "text": [
      "Best Model Parameters\n",
      "{'n_estimators': 140, 'min_samples_split': 4, 'min_samples_leaf': 2, 'max_depth': 5}\n",
      "Fitting 5 folds for each of 100 candidates, totalling 500 fits\n"
     ]
    },
    {
     "name": "stderr",
     "output_type": "stream",
     "text": [
      "[Parallel(n_jobs=-1)]: Done  25 tasks      | elapsed:    1.0s\n",
      "[Parallel(n_jobs=-1)]: Done 146 tasks      | elapsed:    4.8s\n",
      "[Parallel(n_jobs=-1)]: Done 349 tasks      | elapsed:   11.7s\n",
      "[Parallel(n_jobs=-1)]: Done 500 out of 500 | elapsed:   17.1s finished\n",
      "[Parallel(n_jobs=-1)]: Using backend LokyBackend with 8 concurrent workers.\n"
     ]
    },
    {
     "name": "stdout",
     "output_type": "stream",
     "text": [
      "Best Model Parameters\n",
      "{'n_estimators': 110, 'min_samples_split': 4, 'min_samples_leaf': 4, 'max_depth': 3}\n",
      "Fitting 5 folds for each of 100 candidates, totalling 500 fits\n"
     ]
    },
    {
     "name": "stderr",
     "output_type": "stream",
     "text": [
      "[Parallel(n_jobs=-1)]: Done  25 tasks      | elapsed:    1.2s\n",
      "[Parallel(n_jobs=-1)]: Done 146 tasks      | elapsed:    5.4s\n",
      "[Parallel(n_jobs=-1)]: Done 349 tasks      | elapsed:   12.0s\n",
      "[Parallel(n_jobs=-1)]: Done 500 out of 500 | elapsed:   16.8s finished\n",
      "[Parallel(n_jobs=-1)]: Using backend LokyBackend with 8 concurrent workers.\n"
     ]
    },
    {
     "name": "stdout",
     "output_type": "stream",
     "text": [
      "Best Model Parameters\n",
      "{'n_estimators': 130, 'min_samples_split': 4, 'min_samples_leaf': 4, 'max_depth': 3}\n",
      "Fitting 5 folds for each of 100 candidates, totalling 500 fits\n"
     ]
    },
    {
     "name": "stderr",
     "output_type": "stream",
     "text": [
      "[Parallel(n_jobs=-1)]: Done  25 tasks      | elapsed:    1.1s\n",
      "[Parallel(n_jobs=-1)]: Done 146 tasks      | elapsed:    5.3s\n",
      "[Parallel(n_jobs=-1)]: Done 349 tasks      | elapsed:   13.3s\n",
      "[Parallel(n_jobs=-1)]: Done 500 out of 500 | elapsed:   19.0s finished\n",
      "[Parallel(n_jobs=-1)]: Using backend LokyBackend with 8 concurrent workers.\n"
     ]
    },
    {
     "name": "stdout",
     "output_type": "stream",
     "text": [
      "Best Model Parameters\n",
      "{'n_estimators': 140, 'min_samples_split': 2, 'min_samples_leaf': 4, 'max_depth': 4}\n",
      "Fitting 5 folds for each of 100 candidates, totalling 500 fits\n"
     ]
    },
    {
     "name": "stderr",
     "output_type": "stream",
     "text": [
      "[Parallel(n_jobs=-1)]: Done  34 tasks      | elapsed:    1.4s\n",
      "[Parallel(n_jobs=-1)]: Done 276 tasks      | elapsed:    8.5s\n",
      "[Parallel(n_jobs=-1)]: Done 500 out of 500 | elapsed:   15.2s finished\n",
      "[Parallel(n_jobs=-1)]: Using backend LokyBackend with 8 concurrent workers.\n"
     ]
    },
    {
     "name": "stdout",
     "output_type": "stream",
     "text": [
      "Best Model Parameters\n",
      "{'n_estimators': 170, 'min_samples_split': 5, 'min_samples_leaf': 5, 'max_depth': 2}\n",
      "Fitting 5 folds for each of 100 candidates, totalling 500 fits\n"
     ]
    },
    {
     "name": "stderr",
     "output_type": "stream",
     "text": [
      "[Parallel(n_jobs=-1)]: Done  34 tasks      | elapsed:    1.6s\n",
      "[Parallel(n_jobs=-1)]: Done 276 tasks      | elapsed:   11.0s\n",
      "[Parallel(n_jobs=-1)]: Done 500 out of 500 | elapsed:   19.6s finished\n",
      "[Parallel(n_jobs=-1)]: Using backend LokyBackend with 8 concurrent workers.\n"
     ]
    },
    {
     "name": "stdout",
     "output_type": "stream",
     "text": [
      "Best Model Parameters\n",
      "{'n_estimators': 190, 'min_samples_split': 2, 'min_samples_leaf': 5, 'max_depth': 2}\n",
      "Fitting 5 folds for each of 100 candidates, totalling 500 fits\n"
     ]
    },
    {
     "name": "stderr",
     "output_type": "stream",
     "text": [
      "[Parallel(n_jobs=-1)]: Done  25 tasks      | elapsed:    1.3s\n",
      "[Parallel(n_jobs=-1)]: Done 146 tasks      | elapsed:    5.4s\n",
      "[Parallel(n_jobs=-1)]: Done 349 tasks      | elapsed:   13.0s\n",
      "[Parallel(n_jobs=-1)]: Done 500 out of 500 | elapsed:   18.2s finished\n"
     ]
    },
    {
     "name": "stdout",
     "output_type": "stream",
     "text": [
      "Best Model Parameters\n",
      "{'n_estimators': 200, 'min_samples_split': 2, 'min_samples_leaf': 5, 'max_depth': 4}\n",
      "Fitting 5 folds for each of 100 candidates, totalling 500 fits\n"
     ]
    },
    {
     "name": "stderr",
     "output_type": "stream",
     "text": [
      "[Parallel(n_jobs=-1)]: Using backend LokyBackend with 8 concurrent workers.\n",
      "[Parallel(n_jobs=-1)]: Done  34 tasks      | elapsed:    1.6s\n",
      "[Parallel(n_jobs=-1)]: Done 276 tasks      | elapsed:   11.0s\n",
      "[Parallel(n_jobs=-1)]: Done 500 out of 500 | elapsed:   18.7s finished\n",
      "[Parallel(n_jobs=-1)]: Using backend LokyBackend with 8 concurrent workers.\n"
     ]
    },
    {
     "name": "stdout",
     "output_type": "stream",
     "text": [
      "Best Model Parameters\n",
      "{'n_estimators': 140, 'min_samples_split': 2, 'min_samples_leaf': 2, 'max_depth': 3}\n",
      "Fitting 5 folds for each of 100 candidates, totalling 500 fits\n"
     ]
    },
    {
     "name": "stderr",
     "output_type": "stream",
     "text": [
      "[Parallel(n_jobs=-1)]: Done  25 tasks      | elapsed:    1.3s\n",
      "[Parallel(n_jobs=-1)]: Done 146 tasks      | elapsed:    6.1s\n",
      "[Parallel(n_jobs=-1)]: Done 349 tasks      | elapsed:   14.3s\n",
      "[Parallel(n_jobs=-1)]: Done 500 out of 500 | elapsed:   20.3s finished\n",
      "[Parallel(n_jobs=-1)]: Using backend LokyBackend with 8 concurrent workers.\n"
     ]
    },
    {
     "name": "stdout",
     "output_type": "stream",
     "text": [
      "Best Model Parameters\n",
      "{'n_estimators': 130, 'min_samples_split': 2, 'min_samples_leaf': 2, 'max_depth': 2}\n",
      "Fitting 5 folds for each of 100 candidates, totalling 500 fits\n"
     ]
    },
    {
     "name": "stderr",
     "output_type": "stream",
     "text": [
      "[Parallel(n_jobs=-1)]: Done  34 tasks      | elapsed:    1.2s\n",
      "[Parallel(n_jobs=-1)]: Done 276 tasks      | elapsed:    9.4s\n",
      "[Parallel(n_jobs=-1)]: Done 500 out of 500 | elapsed:   17.1s finished\n",
      "[Parallel(n_jobs=-1)]: Using backend LokyBackend with 8 concurrent workers.\n"
     ]
    },
    {
     "name": "stdout",
     "output_type": "stream",
     "text": [
      "Best Model Parameters\n",
      "{'n_estimators': 140, 'min_samples_split': 4, 'min_samples_leaf': 1, 'max_depth': 2}\n",
      "Fitting 5 folds for each of 100 candidates, totalling 500 fits\n"
     ]
    },
    {
     "name": "stderr",
     "output_type": "stream",
     "text": [
      "[Parallel(n_jobs=-1)]: Done  25 tasks      | elapsed:    0.9s\n",
      "[Parallel(n_jobs=-1)]: Done 146 tasks      | elapsed:    5.0s\n",
      "[Parallel(n_jobs=-1)]: Done 349 tasks      | elapsed:   12.4s\n",
      "[Parallel(n_jobs=-1)]: Done 500 out of 500 | elapsed:   17.2s finished\n",
      "[Parallel(n_jobs=-1)]: Using backend LokyBackend with 8 concurrent workers.\n"
     ]
    },
    {
     "name": "stdout",
     "output_type": "stream",
     "text": [
      "Best Model Parameters\n",
      "{'n_estimators': 150, 'min_samples_split': 2, 'min_samples_leaf': 4, 'max_depth': 5}\n",
      "Fitting 5 folds for each of 100 candidates, totalling 500 fits\n"
     ]
    },
    {
     "name": "stderr",
     "output_type": "stream",
     "text": [
      "[Parallel(n_jobs=-1)]: Done  34 tasks      | elapsed:    1.4s\n",
      "[Parallel(n_jobs=-1)]: Done 276 tasks      | elapsed:   10.1s\n",
      "[Parallel(n_jobs=-1)]: Done 500 out of 500 | elapsed:   17.8s finished\n",
      "[Parallel(n_jobs=-1)]: Using backend LokyBackend with 8 concurrent workers.\n"
     ]
    },
    {
     "name": "stdout",
     "output_type": "stream",
     "text": [
      "Best Model Parameters\n",
      "{'n_estimators': 130, 'min_samples_split': 5, 'min_samples_leaf': 3, 'max_depth': 2}\n",
      "Fitting 5 folds for each of 100 candidates, totalling 500 fits\n"
     ]
    },
    {
     "name": "stderr",
     "output_type": "stream",
     "text": [
      "[Parallel(n_jobs=-1)]: Done  25 tasks      | elapsed:    1.0s\n",
      "[Parallel(n_jobs=-1)]: Done 146 tasks      | elapsed:    5.9s\n",
      "[Parallel(n_jobs=-1)]: Done 349 tasks      | elapsed:   13.5s\n"
     ]
    },
    {
     "name": "stdout",
     "output_type": "stream",
     "text": [
      "Best Model Parameters\n",
      "{'n_estimators': 110, 'min_samples_split': 3, 'min_samples_leaf': 1, 'max_depth': 4}\n"
     ]
    },
    {
     "name": "stderr",
     "output_type": "stream",
     "text": [
      "[Parallel(n_jobs=-1)]: Done 500 out of 500 | elapsed:   18.8s finished\n"
     ]
    }
   ],
   "source": [
    "# Retrain printer model based on most significant features\n",
    "retrained_printer_model = train_ensemble_model(Xtrain[:,printer_feature_index], Ytrain['Model3_Printer'])"
   ]
  },
  {
   "cell_type": "markdown",
   "metadata": {},
   "source": [
    "# Calculate test performance of retrained ensemble model"
   ]
  },
  {
   "cell_type": "code",
   "execution_count": 256,
   "metadata": {},
   "outputs": [],
   "source": [
    "# Obtain prediction based on each individual zone model\n",
    "assemblyspace_prediction = predict(retrained_assemblyspace_model, Xtest[:,assemblyspace_feature_index])\n",
    "prototyping_prediction = predict(retrained_prototyping_model, Xtest[:,prototyping_feature_index])\n",
    "out_prediction = predict(retrained_out_model, Xtest[:,out_feature_index])\n",
    "lasercutting_prediction = predict(retrained_lasercutting_model, Xtest[:,lasercutting_feature_index])\n",
    "precision_prediction = predict(retrained_precision_model, Xtest[:,precision_feature_index])\n",
    "pantry_other_prediction = predict(retrained_pantry_other_model, Xtest[:,pantry_other_feature_index])\n",
    "fridgecoffeemachine_prediction = predict(retrained_fridgecoffeemachine_model, Xtest[:,fridgecoffeemachine_feature_index])\n",
    "microwavewaterdispenser_prediction = predict(retrained_microwavewaterdispenser_model, Xtest[:,microwavewaterdispenser_feature_index])\n",
    "meeting_prediction = predict(retrained_meeting_model, Xtest[:,meeting_feature_index])\n",
    "officearea_1_prediction = predict(retrained_officearea_1_model, Xtest[:,officearea_1_feature_index])\n",
    "officearea_2_prediction = predict(retrained_officearea_2_model, Xtest[:,officearea_2_feature_index])\n",
    "printer_prediction = predict(retrained_printer_model, Xtest[:,printer_feature_index])"
   ]
  },
  {
   "cell_type": "code",
   "execution_count": 257,
   "metadata": {},
   "outputs": [],
   "source": [
    "# Identify the most likely (confident) prediction among all the models\n",
    "prediction = np.hstack((assemblyspace_prediction,\n",
    "                        prototyping_prediction,\n",
    "                        out_prediction,\n",
    "                        lasercutting_prediction,\n",
    "                        precision_prediction,\n",
    "                        pantry_other_prediction,\n",
    "                        fridgecoffeemachine_prediction,\n",
    "                        microwavewaterdispenser_prediction,\n",
    "                        meeting_prediction,\n",
    "                        officearea_1_prediction,\n",
    "                        officearea_2_prediction,\n",
    "                        printer_prediction))\n",
    "\n",
    "columns = ['AssemblySpace','PrototypingRoom','Out','LaserCuttingRoom',\n",
    "            'PrecisionRoom','Pantry_Other','Pantry_FridgeCoffeeMachine',\n",
    "            'Pantry_MicrowaveWaterDispenser','MeetingRoom',\n",
    "            'OfficeArea_1','OfficeArea_2','Printer']\n",
    "prediction = pd.DataFrame(prediction, columns=columns)\n",
    "final_prediction = prediction.idxmax(axis=1)"
   ]
  },
  {
   "cell_type": "code",
   "execution_count": 258,
   "metadata": {},
   "outputs": [
    {
     "name": "stdout",
     "output_type": "stream",
     "text": [
      "                                precision    recall  f1-score   support\n",
      "\n",
      "                 AssemblySpace       0.81      0.95      0.88       210\n",
      "              LaserCuttingRoom       0.91      0.91      0.91       898\n",
      "                   MeetingRoom       0.88      0.44      0.59       279\n",
      "                  OfficeArea_1       0.90      0.80      0.85       911\n",
      "                  OfficeArea_2       0.87      0.99      0.92      1213\n",
      "                           Out       0.89      1.00      0.94       154\n",
      "    Pantry_FridgeCoffeeMachine       0.38      0.85      0.52       272\n",
      "Pantry_MicrowaveWaterDispenser       0.72      0.36      0.48       251\n",
      "                  Pantry_Other       0.28      0.08      0.13       254\n",
      "                 PrecisionRoom       0.93      0.73      0.82       262\n",
      "                       Printer       0.84      0.77      0.81       146\n",
      "               PrototypingRoom       0.67      0.80      0.73       214\n",
      "\n",
      "                      accuracy                           0.80      5064\n",
      "                     macro avg       0.76      0.72      0.71      5064\n",
      "                  weighted avg       0.81      0.80      0.79      5064\n",
      "\n"
     ]
    },
    {
     "data": {
      "image/png": "[encoded data removed]",
      "text/plain": [
       "<Figure size 432x288 with 2 Axes>"
      ]
     },
     "metadata": {},
     "output_type": "display_data"
    }
   ],
   "source": [
    "plot_model_performance(Ytest['Model1'], final_prediction)"
   ]
  },
  {
   "cell_type": "code",
   "execution_count": null,
   "metadata": {},
   "outputs": [],
   "source": []
  }
 ],
 "metadata": {
  "kernelspec": {
   "display_name": "Python 3",
   "language": "python",
   "name": "python3"
  },
  "language_info": {
   "codemirror_mode": {
    "name": "ipython",
    "version": 3
   },
   "file_extension": ".py",
   "mimetype": "text/x-python",
   "name": "python",
   "nbconvert_exporter": "python",
   "pygments_lexer": "ipython3",
   "version": "3.6.7"
  }
 },
 "nbformat": 4,
 "nbformat_minor": 2
}
